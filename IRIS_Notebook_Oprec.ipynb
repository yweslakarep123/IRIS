{
  "nbformat": 4,
  "nbformat_minor": 0,
  "metadata": {
    "colab": {
      "provenance": []
    },
    "kernelspec": {
      "name": "python3",
      "display_name": "Python 3"
    },
    "language_info": {
      "name": "python"
    }
  },
  "cells": [
    {
      "cell_type": "code",
      "execution_count": null,
      "metadata": {
        "colab": {
          "base_uri": "https://localhost:8080/"
        },
        "id": "ICcxGoYAVtg0",
        "outputId": "7f15df20-2ee1-4084-85cd-fa6161f0120e"
      },
      "outputs": [
        {
          "output_type": "stream",
          "name": "stdout",
          "text": [
            "hello\n"
          ]
        }
      ],
      "source": [
        "print('hello')"
      ]
    },
    {
      "cell_type": "code",
      "source": [
        "from google.colab import drive\n",
        "drive.mount('/content/drive')"
      ],
      "metadata": {
        "colab": {
          "base_uri": "https://localhost:8080/"
        },
        "id": "kUYOl9_vVxSV",
        "outputId": "221ae3a0-6268-4797-f083-57f8e6303e00"
      },
      "execution_count": null,
      "outputs": [
        {
          "output_type": "stream",
          "name": "stdout",
          "text": [
            "Mounted at /content/drive\n"
          ]
        }
      ]
    },
    {
      "cell_type": "code",
      "source": [
        "import os\n",
        "os.environ['KAGGLE_CONFIG_DIR'] = '/content'"
      ],
      "metadata": {
        "id": "Z0FbK6dfV5Wx"
      },
      "execution_count": null,
      "outputs": []
    },
    {
      "cell_type": "code",
      "source": [
        "!chmod 600 /content/kaggle.json"
      ],
      "metadata": {
        "id": "p8nA_TEOYL6Q",
        "colab": {
          "base_uri": "https://localhost:8080/"
        },
        "outputId": "d96f970a-493e-455f-d2b9-f3d75f9081de"
      },
      "execution_count": null,
      "outputs": [
        {
          "output_type": "stream",
          "name": "stdout",
          "text": [
            "chmod: cannot access '/content/kaggle.json': No such file or directory\n"
          ]
        }
      ]
    },
    {
      "cell_type": "code",
      "source": [
        "!kaggle competitions download -c iris-recruitment-2025"
      ],
      "metadata": {
        "colab": {
          "base_uri": "https://localhost:8080/"
        },
        "id": "Sk_LwtIFYad9",
        "outputId": "fc1dded2-6a66-4299-bc5b-648ddf5c679f"
      },
      "execution_count": null,
      "outputs": [
        {
          "output_type": "stream",
          "name": "stdout",
          "text": [
            "Traceback (most recent call last):\n",
            "  File \"/usr/local/bin/kaggle\", line 5, in <module>\n",
            "    from kaggle.cli import main\n",
            "  File \"/usr/local/lib/python3.11/dist-packages/kaggle/__init__.py\", line 7, in <module>\n",
            "    api.authenticate()\n",
            "  File \"/usr/local/lib/python3.11/dist-packages/kaggle/api/kaggle_api_extended.py\", line 407, in authenticate\n",
            "    raise IOError('Could not find {}. Make sure it\\'s located in'\n",
            "OSError: Could not find kaggle.json. Make sure it's located in /content. Or use the environment method. See setup instructions at https://github.com/Kaggle/kaggle-api/\n"
          ]
        }
      ]
    },
    {
      "cell_type": "code",
      "source": [
        "!pip install patool pyunpack"
      ],
      "metadata": {
        "colab": {
          "base_uri": "https://localhost:8080/"
        },
        "id": "_DHwOtlTYiEQ",
        "outputId": "6c6ab315-f681-4268-819b-a1482f9ad5a2"
      },
      "execution_count": null,
      "outputs": [
        {
          "output_type": "stream",
          "name": "stdout",
          "text": [
            "Collecting patool\n",
            "  Downloading patool-3.1.0-py2.py3-none-any.whl.metadata (4.3 kB)\n",
            "Collecting pyunpack\n",
            "  Downloading pyunpack-0.3-py2.py3-none-any.whl.metadata (863 bytes)\n",
            "Collecting easyprocess (from pyunpack)\n",
            "  Downloading EasyProcess-1.1-py3-none-any.whl.metadata (855 bytes)\n",
            "Collecting entrypoint2 (from pyunpack)\n",
            "  Downloading entrypoint2-1.1-py2.py3-none-any.whl.metadata (1.0 kB)\n",
            "Downloading patool-3.1.0-py2.py3-none-any.whl (98 kB)\n",
            "\u001b[2K   \u001b[90m━━━━━━━━━━━━━━━━━━━━━━━━━━━━━━━━━━━━━━━━\u001b[0m \u001b[32m98.4/98.4 kB\u001b[0m \u001b[31m5.5 MB/s\u001b[0m eta \u001b[36m0:00:00\u001b[0m\n",
            "\u001b[?25hDownloading pyunpack-0.3-py2.py3-none-any.whl (4.1 kB)\n",
            "Downloading EasyProcess-1.1-py3-none-any.whl (8.7 kB)\n",
            "Downloading entrypoint2-1.1-py2.py3-none-any.whl (9.9 kB)\n",
            "\u001b[31mERROR: Operation cancelled by user\u001b[0m\u001b[31m\n",
            "\u001b[0m"
          ]
        }
      ]
    },
    {
      "cell_type": "code",
      "source": [
        "from pyunpack import Archive\n",
        "zip_file_path = '/content/iris-recruitment-2025.zip'\n",
        "extract_directory = '/content/drive/MyDrive/Test_dataset'\n",
        "# Buka dan ekstrak file ZIP menggunakan patool\n",
        "Archive(zip_file_path).extractall(extract_directory)\n",
        "\n",
        "# Output pesan jika ekstraksi selesai\n",
        "print(\"Ekstraksi selesai.\")"
      ],
      "metadata": {
        "colab": {
          "base_uri": "https://localhost:8080/",
          "height": 383
        },
        "id": "HxXa4ssOYme7",
        "outputId": "81d1eb72-c5b5-409b-b1b6-500d23e2a7d2"
      },
      "execution_count": null,
      "outputs": [
        {
          "output_type": "error",
          "ename": "ModuleNotFoundError",
          "evalue": "No module named 'pyunpack'",
          "traceback": [
            "\u001b[0;31m---------------------------------------------------------------------------\u001b[0m",
            "\u001b[0;31mModuleNotFoundError\u001b[0m                       Traceback (most recent call last)",
            "\u001b[0;32m<ipython-input-5-fcbdb68eebdf>\u001b[0m in \u001b[0;36m<cell line: 0>\u001b[0;34m()\u001b[0m\n\u001b[0;32m----> 1\u001b[0;31m \u001b[0;32mfrom\u001b[0m \u001b[0mpyunpack\u001b[0m \u001b[0;32mimport\u001b[0m \u001b[0mArchive\u001b[0m\u001b[0;34m\u001b[0m\u001b[0;34m\u001b[0m\u001b[0m\n\u001b[0m\u001b[1;32m      2\u001b[0m \u001b[0mzip_file_path\u001b[0m \u001b[0;34m=\u001b[0m \u001b[0;34m'/content/iris-recruitment-2025.zip'\u001b[0m\u001b[0;34m\u001b[0m\u001b[0;34m\u001b[0m\u001b[0m\n\u001b[1;32m      3\u001b[0m \u001b[0mextract_directory\u001b[0m \u001b[0;34m=\u001b[0m \u001b[0;34m'/content/drive/MyDrive/Test_dataset'\u001b[0m\u001b[0;34m\u001b[0m\u001b[0;34m\u001b[0m\u001b[0m\n\u001b[1;32m      4\u001b[0m \u001b[0;31m# Buka dan ekstrak file ZIP menggunakan patool\u001b[0m\u001b[0;34m\u001b[0m\u001b[0;34m\u001b[0m\u001b[0m\n\u001b[1;32m      5\u001b[0m \u001b[0mArchive\u001b[0m\u001b[0;34m(\u001b[0m\u001b[0mzip_file_path\u001b[0m\u001b[0;34m)\u001b[0m\u001b[0;34m.\u001b[0m\u001b[0mextractall\u001b[0m\u001b[0;34m(\u001b[0m\u001b[0mextract_directory\u001b[0m\u001b[0;34m)\u001b[0m\u001b[0;34m\u001b[0m\u001b[0;34m\u001b[0m\u001b[0m\n",
            "\u001b[0;31mModuleNotFoundError\u001b[0m: No module named 'pyunpack'",
            "",
            "\u001b[0;31m---------------------------------------------------------------------------\u001b[0;32m\nNOTE: If your import is failing due to a missing package, you can\nmanually install dependencies using either !pip or !apt.\n\nTo view examples of installing some common dependencies, click the\n\"Open Examples\" button below.\n\u001b[0;31m---------------------------------------------------------------------------\u001b[0m\n"
          ],
          "errorDetails": {
            "actions": [
              {
                "action": "open_url",
                "actionText": "Open Examples",
                "url": "/notebooks/snippets/importing_libraries.ipynb"
              }
            ]
          }
        }
      ]
    },
    {
      "cell_type": "code",
      "source": [
        "import pandas as pd\n",
        "import numpy as np\n",
        "import matplotlib.pyplot as plt\n",
        "import seaborn as sns"
      ],
      "metadata": {
        "id": "uvWvZ4h3Y5FS"
      },
      "execution_count": null,
      "outputs": []
    },
    {
      "cell_type": "code",
      "source": [
        "train_df = pd.read_csv('/content/drive/MyDrive/Test_dataset/train.csv')"
      ],
      "metadata": {
        "id": "9N2VQBjhZag9"
      },
      "execution_count": null,
      "outputs": []
    },
    {
      "cell_type": "code",
      "source": [
        "train_df.head()"
      ],
      "metadata": {
        "colab": {
          "base_uri": "https://localhost:8080/",
          "height": 226
        },
        "id": "bLsEyjesZi_A",
        "outputId": "4811f033-3001-46e6-a39c-b87e2b95ccb8"
      },
      "execution_count": null,
      "outputs": [
        {
          "output_type": "execute_result",
          "data": {
            "text/plain": [
              "   id customer_state  customer_account_duration customer_area_code  \\\n",
              "0   1       MN                  117.0                        408     \n",
              "1   2       NH                   78.0              area_code_408     \n",
              "2   3       RI                   89.0                        415     \n",
              "3   4       PA                   84.0              area_code_415     \n",
              "4   5       OR                    NaN              area_code_408     \n",
              "\n",
              "  has_international_plan has_voice_mail_plan  voice_mail_message_count  \\\n",
              "0            NaN                  True                  21.0             \n",
              "1          False                  True                  28.0             \n",
              "2             no                  True                  24.0             \n",
              "3          false                 False                   NaN             \n",
              "4          false                 False                   0.0             \n",
              "\n",
              "   daytime_total_minutes  daytime_total_calls  daytime_total_charges  \\\n",
              "0          538.3                 112.0                 80.87           \n",
              "1          138.0                 109.0                   NaN           \n",
              "2            NaN                  98.0                110.48           \n",
              "3          113.5                 114.0                 18.89           \n",
              "4           87.1                  76.0                 14.16           \n",
              "\n",
              "   evening_total_minutes  evening_total_calls  evening_total_charges  \\\n",
              "0          257.7                 110.0                 20.57           \n",
              "1          172.6                  99.0                 13.71           \n",
              "2          348.1                  67.0                 32.82           \n",
              "3            NaN                 113.0                 20.04           \n",
              "4          253.2                 111.0                   NaN           \n",
              "\n",
              "   nighttime_total_minutes  nighttime_total_calls  nighttime_total_charges  \\\n",
              "0           136.9                    85.0                    5.59            \n",
              "1           192.4                   106.0                     NaN            \n",
              "2             NaN                   126.0                   10.56            \n",
              "3           276.7                     NaN                   12.56            \n",
              "4           333.0                   125.0                   14.26            \n",
              "\n",
              "   intl_total_minutes  intl_total_calls  intl_total_charges  \\\n",
              "0         11.9                7.0                NaN          \n",
              "1         10.4                3.0               2.81          \n",
              "2          5.9                2.0               1.59          \n",
              "3          9.6                4.0               2.59          \n",
              "4          NaN                5.0                NaN          \n",
              "\n",
              "   customer_service_call_count  churn  \n",
              "0              NaN                0    \n",
              "1              3.0                0    \n",
              "2              NaN                0    \n",
              "3              0.0                0    \n",
              "4              1.0                0    "
            ],
            "text/html": [
              "\n",
              "  <div id=\"df-494f8584-239b-4a75-a69b-62c0a6a4e138\" class=\"colab-df-container\">\n",
              "    <div>\n",
              "<style scoped>\n",
              "    .dataframe tbody tr th:only-of-type {\n",
              "        vertical-align: middle;\n",
              "    }\n",
              "\n",
              "    .dataframe tbody tr th {\n",
              "        vertical-align: top;\n",
              "    }\n",
              "\n",
              "    .dataframe thead th {\n",
              "        text-align: right;\n",
              "    }\n",
              "</style>\n",
              "<table border=\"1\" class=\"dataframe\">\n",
              "  <thead>\n",
              "    <tr style=\"text-align: center;\">\n",
              "      <th></th>\n",
              "      <th>id</th>\n",
              "      <th>customer_state</th>\n",
              "      <th>customer_account_duration</th>\n",
              "      <th>customer_area_code</th>\n",
              "      <th>has_international_plan</th>\n",
              "      <th>has_voice_mail_plan</th>\n",
              "      <th>voice_mail_message_count</th>\n",
              "      <th>daytime_total_minutes</th>\n",
              "      <th>daytime_total_calls</th>\n",
              "      <th>daytime_total_charges</th>\n",
              "      <th>evening_total_minutes</th>\n",
              "      <th>evening_total_calls</th>\n",
              "      <th>evening_total_charges</th>\n",
              "      <th>nighttime_total_minutes</th>\n",
              "      <th>nighttime_total_calls</th>\n",
              "      <th>nighttime_total_charges</th>\n",
              "      <th>intl_total_minutes</th>\n",
              "      <th>intl_total_calls</th>\n",
              "      <th>intl_total_charges</th>\n",
              "      <th>customer_service_call_count</th>\n",
              "      <th>churn</th>\n",
              "    </tr>\n",
              "  </thead>\n",
              "  <tbody>\n",
              "    <tr>\n",
              "      <th>0</th>\n",
              "      <td>1</td>\n",
              "      <td>MN</td>\n",
              "      <td>117.0</td>\n",
              "      <td>408</td>\n",
              "      <td>NaN</td>\n",
              "      <td>True</td>\n",
              "      <td>21.0</td>\n",
              "      <td>538.3</td>\n",
              "      <td>112.0</td>\n",
              "      <td>80.87</td>\n",
              "      <td>257.7</td>\n",
              "      <td>110.0</td>\n",
              "      <td>20.57</td>\n",
              "      <td>136.9</td>\n",
              "      <td>85.0</td>\n",
              "      <td>5.59</td>\n",
              "      <td>11.9</td>\n",
              "      <td>7.0</td>\n",
              "      <td>NaN</td>\n",
              "      <td>NaN</td>\n",
              "      <td>0</td>\n",
              "    </tr>\n",
              "    <tr>\n",
              "      <th>1</th>\n",
              "      <td>2</td>\n",
              "      <td>NH</td>\n",
              "      <td>78.0</td>\n",
              "      <td>area_code_408</td>\n",
              "      <td>False</td>\n",
              "      <td>True</td>\n",
              "      <td>28.0</td>\n",
              "      <td>138.0</td>\n",
              "      <td>109.0</td>\n",
              "      <td>NaN</td>\n",
              "      <td>172.6</td>\n",
              "      <td>99.0</td>\n",
              "      <td>13.71</td>\n",
              "      <td>192.4</td>\n",
              "      <td>106.0</td>\n",
              "      <td>NaN</td>\n",
              "      <td>10.4</td>\n",
              "      <td>3.0</td>\n",
              "      <td>2.81</td>\n",
              "      <td>3.0</td>\n",
              "      <td>0</td>\n",
              "    </tr>\n",
              "    <tr>\n",
              "      <th>2</th>\n",
              "      <td>3</td>\n",
              "      <td>RI</td>\n",
              "      <td>89.0</td>\n",
              "      <td>415</td>\n",
              "      <td>no</td>\n",
              "      <td>True</td>\n",
              "      <td>24.0</td>\n",
              "      <td>NaN</td>\n",
              "      <td>98.0</td>\n",
              "      <td>110.48</td>\n",
              "      <td>348.1</td>\n",
              "      <td>67.0</td>\n",
              "      <td>32.82</td>\n",
              "      <td>NaN</td>\n",
              "      <td>126.0</td>\n",
              "      <td>10.56</td>\n",
              "      <td>5.9</td>\n",
              "      <td>2.0</td>\n",
              "      <td>1.59</td>\n",
              "      <td>NaN</td>\n",
              "      <td>0</td>\n",
              "    </tr>\n",
              "    <tr>\n",
              "      <th>3</th>\n",
              "      <td>4</td>\n",
              "      <td>PA</td>\n",
              "      <td>84.0</td>\n",
              "      <td>area_code_415</td>\n",
              "      <td>false</td>\n",
              "      <td>False</td>\n",
              "      <td>NaN</td>\n",
              "      <td>113.5</td>\n",
              "      <td>114.0</td>\n",
              "      <td>18.89</td>\n",
              "      <td>NaN</td>\n",
              "      <td>113.0</td>\n",
              "      <td>20.04</td>\n",
              "      <td>276.7</td>\n",
              "      <td>NaN</td>\n",
              "      <td>12.56</td>\n",
              "      <td>9.6</td>\n",
              "      <td>4.0</td>\n",
              "      <td>2.59</td>\n",
              "      <td>0.0</td>\n",
              "      <td>0</td>\n",
              "    </tr>\n",
              "    <tr>\n",
              "      <th>4</th>\n",
              "      <td>5</td>\n",
              "      <td>OR</td>\n",
              "      <td>NaN</td>\n",
              "      <td>area_code_408</td>\n",
              "      <td>false</td>\n",
              "      <td>False</td>\n",
              "      <td>0.0</td>\n",
              "      <td>87.1</td>\n",
              "      <td>76.0</td>\n",
              "      <td>14.16</td>\n",
              "      <td>253.2</td>\n",
              "      <td>111.0</td>\n",
              "      <td>NaN</td>\n",
              "      <td>333.0</td>\n",
              "      <td>125.0</td>\n",
              "      <td>14.26</td>\n",
              "      <td>NaN</td>\n",
              "      <td>5.0</td>\n",
              "      <td>NaN</td>\n",
              "      <td>1.0</td>\n",
              "      <td>0</td>\n",
              "    </tr>\n",
              "  </tbody>\n",
              "</table>\n",
              "</div>\n",
              "    <div class=\"colab-df-buttons\">\n",
              "\n",
              "  <div class=\"colab-df-container\">\n",
              "    <button class=\"colab-df-convert\" onclick=\"convertToInteractive('df-494f8584-239b-4a75-a69b-62c0a6a4e138')\"\n",
              "            title=\"Convert this dataframe to an interactive table.\"\n",
              "            style=\"display:none;\">\n",
              "\n",
              "  <svg xmlns=\"http://www.w3.org/2000/svg\" height=\"24px\" viewBox=\"0 -960 960 960\">\n",
              "    <path d=\"M120-120v-720h720v720H120Zm60-500h600v-160H180v160Zm220 220h160v-160H400v160Zm0 220h160v-160H400v160ZM180-400h160v-160H180v160Zm440 0h160v-160H620v160ZM180-180h160v-160H180v160Zm440 0h160v-160H620v160Z\"/>\n",
              "  </svg>\n",
              "    </button>\n",
              "\n",
              "  <style>\n",
              "    .colab-df-container {\n",
              "      display:flex;\n",
              "      gap: 12px;\n",
              "    }\n",
              "\n",
              "    .colab-df-convert {\n",
              "      background-color: #E8F0FE;\n",
              "      border: none;\n",
              "      border-radius: 50%;\n",
              "      cursor: pointer;\n",
              "      display: none;\n",
              "      fill: #1967D2;\n",
              "      height: 32px;\n",
              "      padding: 0 0 0 0;\n",
              "      width: 32px;\n",
              "    }\n",
              "\n",
              "    .colab-df-convert:hover {\n",
              "      background-color: #E2EBFA;\n",
              "      box-shadow: 0px 1px 2px rgba(60, 64, 67, 0.3), 0px 1px 3px 1px rgba(60, 64, 67, 0.15);\n",
              "      fill: #174EA6;\n",
              "    }\n",
              "\n",
              "    .colab-df-buttons div {\n",
              "      margin-bottom: 4px;\n",
              "    }\n",
              "\n",
              "    [theme=dark] .colab-df-convert {\n",
              "      background-color: #3B4455;\n",
              "      fill: #D2E3FC;\n",
              "    }\n",
              "\n",
              "    [theme=dark] .colab-df-convert:hover {\n",
              "      background-color: #434B5C;\n",
              "      box-shadow: 0px 1px 3px 1px rgba(0, 0, 0, 0.15);\n",
              "      filter: drop-shadow(0px 1px 2px rgba(0, 0, 0, 0.3));\n",
              "      fill: #FFFFFF;\n",
              "    }\n",
              "  </style>\n",
              "\n",
              "    <script>\n",
              "      const buttonEl =\n",
              "        document.querySelector('#df-494f8584-239b-4a75-a69b-62c0a6a4e138 button.colab-df-convert');\n",
              "      buttonEl.style.display =\n",
              "        google.colab.kernel.accessAllowed ? 'block' : 'none';\n",
              "\n",
              "      async function convertToInteractive(key) {\n",
              "        const element = document.querySelector('#df-494f8584-239b-4a75-a69b-62c0a6a4e138');\n",
              "        const dataTable =\n",
              "          await google.colab.kernel.invokeFunction('convertToInteractive',\n",
              "                                                    [key], {});\n",
              "        if (!dataTable) return;\n",
              "\n",
              "        const docLinkHtml = 'Like what you see? Visit the ' +\n",
              "          '<a target=\"_blank\" href=https://colab.research.google.com/notebooks/data_table.ipynb>data table notebook</a>'\n",
              "          + ' to learn more about interactive tables.';\n",
              "        element.innerHTML = '';\n",
              "        dataTable['output_type'] = 'display_data';\n",
              "        await google.colab.output.renderOutput(dataTable, element);\n",
              "        const docLink = document.createElement('div');\n",
              "        docLink.innerHTML = docLinkHtml;\n",
              "        element.appendChild(docLink);\n",
              "      }\n",
              "    </script>\n",
              "  </div>\n",
              "\n",
              "\n",
              "<div id=\"df-2b06cb31-0034-4c10-a345-cd8003b7c8dd\">\n",
              "  <button class=\"colab-df-quickchart\" onclick=\"quickchart('df-2b06cb31-0034-4c10-a345-cd8003b7c8dd')\"\n",
              "            title=\"Suggest charts\"\n",
              "            style=\"display:none;\">\n",
              "\n",
              "<svg xmlns=\"http://www.w3.org/2000/svg\" height=\"24px\"viewBox=\"0 0 24 24\"\n",
              "     width=\"24px\">\n",
              "    <g>\n",
              "        <path d=\"M19 3H5c-1.1 0-2 .9-2 2v14c0 1.1.9 2 2 2h14c1.1 0 2-.9 2-2V5c0-1.1-.9-2-2-2zM9 17H7v-7h2v7zm4 0h-2V7h2v10zm4 0h-2v-4h2v4z\"/>\n",
              "    </g>\n",
              "</svg>\n",
              "  </button>\n",
              "\n",
              "<style>\n",
              "  .colab-df-quickchart {\n",
              "      --bg-color: #E8F0FE;\n",
              "      --fill-color: #1967D2;\n",
              "      --hover-bg-color: #E2EBFA;\n",
              "      --hover-fill-color: #174EA6;\n",
              "      --disabled-fill-color: #AAA;\n",
              "      --disabled-bg-color: #DDD;\n",
              "  }\n",
              "\n",
              "  [theme=dark] .colab-df-quickchart {\n",
              "      --bg-color: #3B4455;\n",
              "      --fill-color: #D2E3FC;\n",
              "      --hover-bg-color: #434B5C;\n",
              "      --hover-fill-color: #FFFFFF;\n",
              "      --disabled-bg-color: #3B4455;\n",
              "      --disabled-fill-color: #666;\n",
              "  }\n",
              "\n",
              "  .colab-df-quickchart {\n",
              "    background-color: var(--bg-color);\n",
              "    border: none;\n",
              "    border-radius: 50%;\n",
              "    cursor: pointer;\n",
              "    display: none;\n",
              "    fill: var(--fill-color);\n",
              "    height: 32px;\n",
              "    padding: 0;\n",
              "    width: 32px;\n",
              "  }\n",
              "\n",
              "  .colab-df-quickchart:hover {\n",
              "    background-color: var(--hover-bg-color);\n",
              "    box-shadow: 0 1px 2px rgba(60, 64, 67, 0.3), 0 1px 3px 1px rgba(60, 64, 67, 0.15);\n",
              "    fill: var(--button-hover-fill-color);\n",
              "  }\n",
              "\n",
              "  .colab-df-quickchart-complete:disabled,\n",
              "  .colab-df-quickchart-complete:disabled:hover {\n",
              "    background-color: var(--disabled-bg-color);\n",
              "    fill: var(--disabled-fill-color);\n",
              "    box-shadow: none;\n",
              "  }\n",
              "\n",
              "  .colab-df-spinner {\n",
              "    border: 2px solid var(--fill-color);\n",
              "    border-color: transparent;\n",
              "    border-bottom-color: var(--fill-color);\n",
              "    animation:\n",
              "      spin 1s steps(1) infinite;\n",
              "  }\n",
              "\n",
              "  @keyframes spin {\n",
              "    0% {\n",
              "      border-color: transparent;\n",
              "      border-bottom-color: var(--fill-color);\n",
              "      border-left-color: var(--fill-color);\n",
              "    }\n",
              "    20% {\n",
              "      border-color: transparent;\n",
              "      border-left-color: var(--fill-color);\n",
              "      border-top-color: var(--fill-color);\n",
              "    }\n",
              "    30% {\n",
              "      border-color: transparent;\n",
              "      border-left-color: var(--fill-color);\n",
              "      border-top-color: var(--fill-color);\n",
              "      border-right-color: var(--fill-color);\n",
              "    }\n",
              "    40% {\n",
              "      border-color: transparent;\n",
              "      border-right-color: var(--fill-color);\n",
              "      border-top-color: var(--fill-color);\n",
              "    }\n",
              "    60% {\n",
              "      border-color: transparent;\n",
              "      border-right-color: var(--fill-color);\n",
              "    }\n",
              "    80% {\n",
              "      border-color: transparent;\n",
              "      border-right-color: var(--fill-color);\n",
              "      border-bottom-color: var(--fill-color);\n",
              "    }\n",
              "    90% {\n",
              "      border-color: transparent;\n",
              "      border-bottom-color: var(--fill-color);\n",
              "    }\n",
              "  }\n",
              "</style>\n",
              "\n",
              "  <script>\n",
              "    async function quickchart(key) {\n",
              "      const quickchartButtonEl =\n",
              "        document.querySelector('#' + key + ' button');\n",
              "      quickchartButtonEl.disabled = true;  // To prevent multiple clicks.\n",
              "      quickchartButtonEl.classList.add('colab-df-spinner');\n",
              "      try {\n",
              "        const charts = await google.colab.kernel.invokeFunction(\n",
              "            'suggestCharts', [key], {});\n",
              "      } catch (error) {\n",
              "        console.error('Error during call to suggestCharts:', error);\n",
              "      }\n",
              "      quickchartButtonEl.classList.remove('colab-df-spinner');\n",
              "      quickchartButtonEl.classList.add('colab-df-quickchart-complete');\n",
              "    }\n",
              "    (() => {\n",
              "      let quickchartButtonEl =\n",
              "        document.querySelector('#df-2b06cb31-0034-4c10-a345-cd8003b7c8dd button');\n",
              "      quickchartButtonEl.style.display =\n",
              "        google.colab.kernel.accessAllowed ? 'block' : 'none';\n",
              "    })();\n",
              "  </script>\n",
              "</div>\n",
              "\n",
              "    </div>\n",
              "  </div>\n"
            ],
            "application/vnd.google.colaboratory.intrinsic+json": {
              "type": "dataframe",
              "variable_name": "train_df"
            }
          },
          "metadata": {},
          "execution_count": 255
        }
      ]
    },
    {
      "cell_type": "code",
      "source": [
        "train_df.ndim"
      ],
      "metadata": {
        "colab": {
          "base_uri": "https://localhost:8080/"
        },
        "id": "QgYPGIpFzDsu",
        "outputId": "f79faf88-5464-431f-8483-3f0016d56ddc"
      },
      "execution_count": null,
      "outputs": [
        {
          "output_type": "execute_result",
          "data": {
            "text/plain": [
              "2"
            ]
          },
          "metadata": {},
          "execution_count": 256
        }
      ]
    },
    {
      "cell_type": "code",
      "source": [
        "print(train_df.shape)"
      ],
      "metadata": {
        "colab": {
          "base_uri": "https://localhost:8080/"
        },
        "id": "3iQdV_klygfw",
        "outputId": "2e6a1916-9f45-470c-b62a-d0bb97c1cb94"
      },
      "execution_count": null,
      "outputs": [
        {
          "output_type": "stream",
          "name": "stdout",
          "text": [
            "(2975, 21)\n"
          ]
        }
      ]
    },
    {
      "cell_type": "code",
      "source": [
        "train_df.info()"
      ],
      "metadata": {
        "colab": {
          "base_uri": "https://localhost:8080/"
        },
        "id": "pSgLk4H2Zln5",
        "outputId": "428dd20e-53d1-4dcd-c3fe-05a55372d288"
      },
      "execution_count": null,
      "outputs": [
        {
          "output_type": "stream",
          "name": "stdout",
          "text": [
            "<class 'pandas.core.frame.DataFrame'>\n",
            "RangeIndex: 2975 entries, 0 to 2974\n",
            "Data columns (total 21 columns):\n",
            " #   Column                       Non-Null Count  Dtype  \n",
            "---  ------                       --------------  -----  \n",
            " 0   id                           2975 non-null   int64  \n",
            " 1   customer_state               2975 non-null   object \n",
            " 2   customer_account_duration    2395 non-null   float64\n",
            " 3   customer_area_code           2389 non-null   object \n",
            " 4   has_international_plan       2521 non-null   object \n",
            " 5   has_voice_mail_plan          2653 non-null   object \n",
            " 6   voice_mail_message_count     2227 non-null   float64\n",
            " 7   daytime_total_minutes        2095 non-null   float64\n",
            " 8   daytime_total_calls          2522 non-null   float64\n",
            " 9   daytime_total_charges        2671 non-null   float64\n",
            " 10  evening_total_minutes        2129 non-null   float64\n",
            " 11  evening_total_calls          2536 non-null   float64\n",
            " 12  evening_total_charges        2339 non-null   float64\n",
            " 13  nighttime_total_minutes      2519 non-null   float64\n",
            " 14  nighttime_total_calls        2149 non-null   float64\n",
            " 15  nighttime_total_charges      2195 non-null   float64\n",
            " 16  intl_total_minutes           2351 non-null   float64\n",
            " 17  intl_total_calls             2483 non-null   float64\n",
            " 18  intl_total_charges           2228 non-null   float64\n",
            " 19  customer_service_call_count  2117 non-null   float64\n",
            " 20  churn                        2975 non-null   int64  \n",
            "dtypes: float64(15), int64(2), object(4)\n",
            "memory usage: 488.2+ KB\n"
          ]
        }
      ]
    },
    {
      "cell_type": "code",
      "source": [
        "# Check if values are Missing Completely at Random (MCAR)\n",
        "import missingno as msno\n",
        "msno.matrix(train_df)  # Visualize missing value patterns"
      ],
      "metadata": {
        "colab": {
          "base_uri": "https://localhost:8080/",
          "height": 469
        },
        "id": "ssGP3jSeoXhJ",
        "outputId": "bc9d392c-d98d-4416-c5e9-68f3e67c6be1",
        "collapsed": true
      },
      "execution_count": null,
      "outputs": [
        {
          "output_type": "execute_result",
          "data": {
            "text/plain": [
              "<Axes: >"
            ]
          },
          "metadata": {},
          "execution_count": 259
        },
        {
          "output_type": "display_data",
          "data": {
            "text/plain": [
              "<Figure size 2500x1000 with 2 Axes>"
            ],
            "image/png": "[encoded data removed]"
          },
          "metadata": {}
        }
      ]
    },
    {
      "cell_type": "code",
      "source": [
        "msno.bar(train_df)"
      ],
      "metadata": {
        "colab": {
          "base_uri": "https://localhost:8080/",
          "height": 487
        },
        "id": "BV4layU9oitP",
        "outputId": "26ba9ba1-aa36-48c4-e2c7-7343b41c46e6",
        "collapsed": true
      },
      "execution_count": null,
      "outputs": [
        {
          "output_type": "execute_result",
          "data": {
            "text/plain": [
              "<Axes: >"
            ]
          },
          "metadata": {},
          "execution_count": 260
        },
        {
          "output_type": "display_data",
          "data": {
            "text/plain": [
              "<Figure size 2500x1000 with 3 Axes>"
            ],
            "image/png": "[encoded data removed]"
          },
          "metadata": {}
        }
      ]
    },
    {
      "cell_type": "code",
      "source": [
        "print(train_df.duplicated())"
      ],
      "metadata": {
        "colab": {
          "base_uri": "https://localhost:8080/"
        },
        "id": "jjpicVW35DKs",
        "outputId": "c142eb0e-9925-4871-d944-15ddccbfef78"
      },
      "execution_count": null,
      "outputs": [
        {
          "output_type": "stream",
          "name": "stdout",
          "text": [
            "0       False\n",
            "1       False\n",
            "2       False\n",
            "3       False\n",
            "4       False\n",
            "        ...  \n",
            "2970    False\n",
            "2971    False\n",
            "2972    False\n",
            "2973    False\n",
            "2974    False\n",
            "Length: 2975, dtype: bool\n"
          ]
        }
      ]
    },
    {
      "cell_type": "code",
      "source": [
        "train_df.drop_duplicates(inplace = True)"
      ],
      "metadata": {
        "id": "Ro0NaAYK5SbQ"
      },
      "execution_count": null,
      "outputs": []
    },
    {
      "cell_type": "code",
      "source": [
        "train_df.info()"
      ],
      "metadata": {
        "colab": {
          "base_uri": "https://localhost:8080/"
        },
        "id": "EvAHwp-swviM",
        "outputId": "f4070be1-4b81-4f02-8af7-1edeae0a019d"
      },
      "execution_count": null,
      "outputs": [
        {
          "output_type": "stream",
          "name": "stdout",
          "text": [
            "<class 'pandas.core.frame.DataFrame'>\n",
            "RangeIndex: 2975 entries, 0 to 2974\n",
            "Data columns (total 21 columns):\n",
            " #   Column                       Non-Null Count  Dtype  \n",
            "---  ------                       --------------  -----  \n",
            " 0   id                           2975 non-null   int64  \n",
            " 1   customer_state               2975 non-null   object \n",
            " 2   customer_account_duration    2395 non-null   float64\n",
            " 3   customer_area_code           2389 non-null   object \n",
            " 4   has_international_plan       2521 non-null   object \n",
            " 5   has_voice_mail_plan          2653 non-null   object \n",
            " 6   voice_mail_message_count     2227 non-null   float64\n",
            " 7   daytime_total_minutes        2095 non-null   float64\n",
            " 8   daytime_total_calls          2522 non-null   float64\n",
            " 9   daytime_total_charges        2671 non-null   float64\n",
            " 10  evening_total_minutes        2129 non-null   float64\n",
            " 11  evening_total_calls          2536 non-null   float64\n",
            " 12  evening_total_charges        2339 non-null   float64\n",
            " 13  nighttime_total_minutes      2519 non-null   float64\n",
            " 14  nighttime_total_calls        2149 non-null   float64\n",
            " 15  nighttime_total_charges      2195 non-null   float64\n",
            " 16  intl_total_minutes           2351 non-null   float64\n",
            " 17  intl_total_calls             2483 non-null   float64\n",
            " 18  intl_total_charges           2228 non-null   float64\n",
            " 19  customer_service_call_count  2117 non-null   float64\n",
            " 20  churn                        2975 non-null   int64  \n",
            "dtypes: float64(15), int64(2), object(4)\n",
            "memory usage: 488.2+ KB\n"
          ]
        }
      ]
    },
    {
      "cell_type": "code",
      "source": [
        "train_df['customer_state'].unique()"
      ],
      "metadata": {
        "colab": {
          "base_uri": "https://localhost:8080/"
        },
        "id": "GlmY53Dj1UUr",
        "outputId": "d57a48ad-db71-41d1-8869-c9e287f69940"
      },
      "execution_count": null,
      "outputs": [
        {
          "output_type": "execute_result",
          "data": {
            "text/plain": [
              "array(['MN', 'NH', 'RI', 'PA', 'OR', 'UNKNOWN', 'SC', 'KS', 'NC', 'ID',\n",
              "       'MD', 'IL', 'CO', 'VA', 'WY', 'LA', 'AL', 'AR', 'CT', 'WA', 'NY',\n",
              "       'NJ', 'MT', 'IN', 'OK', 'ME', 'CA', 'HI', 'MA', 'OH', 'MS', 'MI',\n",
              "       'MO', 'WV', 'TN', 'UT', 'NV', 'DE', 'WI', 'AZ', 'VT', 'FL', 'AK',\n",
              "       'SD', 'NM', 'GA', 'KY', 'NE', 'DC', 'TX', 'IA', 'ND'], dtype=object)"
            ]
          },
          "metadata": {},
          "execution_count": 194
        }
      ]
    },
    {
      "cell_type": "code",
      "source": [
        "train_df['customer_area_code'].unique()"
      ],
      "metadata": {
        "colab": {
          "base_uri": "https://localhost:8080/"
        },
        "id": "U4HAN3YfrGDY",
        "outputId": "e4d06b13-4e40-436f-e215-0645fa14dd61"
      },
      "execution_count": null,
      "outputs": [
        {
          "output_type": "execute_result",
          "data": {
            "text/plain": [
              "array(['408', 'area_code_408', '415', 'area_code_415', nan,\n",
              "       'area_code_510', 'area_415', '510', 'area_510', 'area_408'],\n",
              "      dtype=object)"
            ]
          },
          "metadata": {},
          "execution_count": 195
        }
      ]
    },
    {
      "cell_type": "code",
      "source": [
        "def clean_customer_area_code(val):\n",
        "  if(val == 'area_code_408' or val == 'area_408'):\n",
        "    return '408'\n",
        "  elif(val == 'area_code_415' or val == 'area_415'):\n",
        "    return '415'\n",
        "  elif(val == 'area_code_510' or val == 'area_510'):\n",
        "    return '510'\n",
        "  else:\n",
        "    return val\n",
        "\n",
        "train_df['customer_area_code'] = train_df['customer_area_code'].apply(clean_customer_area_code)\n",
        "train_df['customer_area_code'].head()"
      ],
      "metadata": {
        "colab": {
          "base_uri": "https://localhost:8080/",
          "height": 241
        },
        "id": "-PwiWCDfrZHl",
        "outputId": "6b90f907-a355-4e7a-bb17-82e019f0a735"
      },
      "execution_count": null,
      "outputs": [
        {
          "output_type": "execute_result",
          "data": {
            "text/plain": [
              "0    408\n",
              "1    408\n",
              "2    415\n",
              "3    415\n",
              "4    408\n",
              "Name: customer_area_code, dtype: object"
            ],
            "text/html": [
              "<div>\n",
              "<style scoped>\n",
              "    .dataframe tbody tr th:only-of-type {\n",
              "        vertical-align: middle;\n",
              "    }\n",
              "\n",
              "    .dataframe tbody tr th {\n",
              "        vertical-align: top;\n",
              "    }\n",
              "\n",
              "    .dataframe thead th {\n",
              "        text-align: right;\n",
              "    }\n",
              "</style>\n",
              "<table border=\"1\" class=\"dataframe\">\n",
              "  <thead>\n",
              "    <tr style=\"text-align: right;\">\n",
              "      <th></th>\n",
              "      <th>customer_area_code</th>\n",
              "    </tr>\n",
              "  </thead>\n",
              "  <tbody>\n",
              "    <tr>\n",
              "      <th>0</th>\n",
              "      <td>408</td>\n",
              "    </tr>\n",
              "    <tr>\n",
              "      <th>1</th>\n",
              "      <td>408</td>\n",
              "    </tr>\n",
              "    <tr>\n",
              "      <th>2</th>\n",
              "      <td>415</td>\n",
              "    </tr>\n",
              "    <tr>\n",
              "      <th>3</th>\n",
              "      <td>415</td>\n",
              "    </tr>\n",
              "    <tr>\n",
              "      <th>4</th>\n",
              "      <td>408</td>\n",
              "    </tr>\n",
              "  </tbody>\n",
              "</table>\n",
              "</div><br><label><b>dtype:</b> object</label>"
            ]
          },
          "metadata": {},
          "execution_count": 196
        }
      ]
    },
    {
      "cell_type": "code",
      "source": [
        "train_df['customer_area_code'].unique()"
      ],
      "metadata": {
        "colab": {
          "base_uri": "https://localhost:8080/"
        },
        "id": "Rq4nNlLjszii",
        "outputId": "a86a8329-ce1b-43af-dd61-bd07885a446b"
      },
      "execution_count": null,
      "outputs": [
        {
          "output_type": "execute_result",
          "data": {
            "text/plain": [
              "array(['408', '415', nan, '510'], dtype=object)"
            ]
          },
          "metadata": {},
          "execution_count": 197
        }
      ]
    },
    {
      "cell_type": "code",
      "source": [
        "train_df['has_international_plan'].unique()"
      ],
      "metadata": {
        "colab": {
          "base_uri": "https://localhost:8080/"
        },
        "id": "4RTxNHS7rMoj",
        "outputId": "c0c3cca8-4121-4c7d-f546-63de21a8ad8f"
      },
      "execution_count": null,
      "outputs": [
        {
          "output_type": "execute_result",
          "data": {
            "text/plain": [
              "array([nan, 'False', 'no', 'false', 'Yes', '0', '1', 'No', 'FALSE',\n",
              "       'True', 'NO', 'TRUE', 'true', 'YES', 'yes'], dtype=object)"
            ]
          },
          "metadata": {},
          "execution_count": 198
        }
      ]
    },
    {
      "cell_type": "code",
      "source": [
        "def clean_has_international_plan(val):\n",
        "  if(val=='False' or val == 'no' or val == 'false' or val == '0' or val == 'No' or val == 'FALSE' or val == 'NO'):\n",
        "    return False\n",
        "  elif(val == 'Yes' or val == '1' or val == 'True' or val == 'TRUE' or val == 'true' or val == 'YES' or val == 'yes'):\n",
        "    return True\n",
        "  else:\n",
        "    return val\n",
        "\n",
        "train_df['has_international_plan'] = train_df['has_international_plan'].apply(clean_has_international_plan)\n",
        "train_df['has_international_plan'].head()"
      ],
      "metadata": {
        "colab": {
          "base_uri": "https://localhost:8080/",
          "height": 241
        },
        "id": "mnXE-KaArROO",
        "outputId": "5acfcc65-5f37-4be0-cfbe-e54b4c766b33"
      },
      "execution_count": null,
      "outputs": [
        {
          "output_type": "execute_result",
          "data": {
            "text/plain": [
              "0      NaN\n",
              "1    False\n",
              "2    False\n",
              "3    False\n",
              "4    False\n",
              "Name: has_international_plan, dtype: object"
            ],
            "text/html": [
              "<div>\n",
              "<style scoped>\n",
              "    .dataframe tbody tr th:only-of-type {\n",
              "        vertical-align: middle;\n",
              "    }\n",
              "\n",
              "    .dataframe tbody tr th {\n",
              "        vertical-align: top;\n",
              "    }\n",
              "\n",
              "    .dataframe thead th {\n",
              "        text-align: right;\n",
              "    }\n",
              "</style>\n",
              "<table border=\"1\" class=\"dataframe\">\n",
              "  <thead>\n",
              "    <tr style=\"text-align: right;\">\n",
              "      <th></th>\n",
              "      <th>has_international_plan</th>\n",
              "    </tr>\n",
              "  </thead>\n",
              "  <tbody>\n",
              "    <tr>\n",
              "      <th>0</th>\n",
              "      <td>NaN</td>\n",
              "    </tr>\n",
              "    <tr>\n",
              "      <th>1</th>\n",
              "      <td>False</td>\n",
              "    </tr>\n",
              "    <tr>\n",
              "      <th>2</th>\n",
              "      <td>False</td>\n",
              "    </tr>\n",
              "    <tr>\n",
              "      <th>3</th>\n",
              "      <td>False</td>\n",
              "    </tr>\n",
              "    <tr>\n",
              "      <th>4</th>\n",
              "      <td>False</td>\n",
              "    </tr>\n",
              "  </tbody>\n",
              "</table>\n",
              "</div><br><label><b>dtype:</b> object</label>"
            ]
          },
          "metadata": {},
          "execution_count": 199
        }
      ]
    },
    {
      "cell_type": "code",
      "source": [
        "train_df['has_international_plan'].unique()"
      ],
      "metadata": {
        "colab": {
          "base_uri": "https://localhost:8080/"
        },
        "id": "rxxelMyots-a",
        "outputId": "16e384db-9957-4486-c71f-d069b0605e0d"
      },
      "execution_count": null,
      "outputs": [
        {
          "output_type": "execute_result",
          "data": {
            "text/plain": [
              "array([nan, False, True], dtype=object)"
            ]
          },
          "metadata": {},
          "execution_count": 200
        }
      ]
    },
    {
      "cell_type": "code",
      "source": [
        "train_df.info()"
      ],
      "metadata": {
        "colab": {
          "base_uri": "https://localhost:8080/"
        },
        "id": "Dkq01KpttwM6",
        "outputId": "f32ac1a1-8198-465a-b167-0ad7e9d26490"
      },
      "execution_count": null,
      "outputs": [
        {
          "output_type": "stream",
          "name": "stdout",
          "text": [
            "<class 'pandas.core.frame.DataFrame'>\n",
            "RangeIndex: 2975 entries, 0 to 2974\n",
            "Data columns (total 21 columns):\n",
            " #   Column                       Non-Null Count  Dtype  \n",
            "---  ------                       --------------  -----  \n",
            " 0   id                           2975 non-null   int64  \n",
            " 1   customer_state               2975 non-null   object \n",
            " 2   customer_account_duration    2395 non-null   float64\n",
            " 3   customer_area_code           2389 non-null   object \n",
            " 4   has_international_plan       2521 non-null   object \n",
            " 5   has_voice_mail_plan          2653 non-null   object \n",
            " 6   voice_mail_message_count     2227 non-null   float64\n",
            " 7   daytime_total_minutes        2095 non-null   float64\n",
            " 8   daytime_total_calls          2522 non-null   float64\n",
            " 9   daytime_total_charges        2671 non-null   float64\n",
            " 10  evening_total_minutes        2129 non-null   float64\n",
            " 11  evening_total_calls          2536 non-null   float64\n",
            " 12  evening_total_charges        2339 non-null   float64\n",
            " 13  nighttime_total_minutes      2519 non-null   float64\n",
            " 14  nighttime_total_calls        2149 non-null   float64\n",
            " 15  nighttime_total_charges      2195 non-null   float64\n",
            " 16  intl_total_minutes           2351 non-null   float64\n",
            " 17  intl_total_calls             2483 non-null   float64\n",
            " 18  intl_total_charges           2228 non-null   float64\n",
            " 19  customer_service_call_count  2117 non-null   float64\n",
            " 20  churn                        2975 non-null   int64  \n",
            "dtypes: float64(15), int64(2), object(4)\n",
            "memory usage: 488.2+ KB\n"
          ]
        }
      ]
    },
    {
      "cell_type": "code",
      "source": [
        "train_df['customer_state'].unique()"
      ],
      "metadata": {
        "colab": {
          "base_uri": "https://localhost:8080/"
        },
        "id": "-xgVT8oMxkdy",
        "outputId": "a0597e84-bea0-494c-fde4-532d970a393d"
      },
      "execution_count": null,
      "outputs": [
        {
          "output_type": "execute_result",
          "data": {
            "text/plain": [
              "array(['MN', 'NH', 'RI', 'PA', 'OR', 'UNKNOWN', 'SC', 'KS', 'NC', 'ID',\n",
              "       'MD', 'IL', 'CO', 'VA', 'WY', 'LA', 'AL', 'AR', 'CT', 'WA', 'NY',\n",
              "       'NJ', 'MT', 'IN', 'OK', 'ME', 'CA', 'HI', 'MA', 'OH', 'MS', 'MI',\n",
              "       'MO', 'WV', 'TN', 'UT', 'NV', 'DE', 'WI', 'AZ', 'VT', 'FL', 'AK',\n",
              "       'SD', 'NM', 'GA', 'KY', 'NE', 'DC', 'TX', 'IA', 'ND'], dtype=object)"
            ]
          },
          "metadata": {},
          "execution_count": 202
        }
      ]
    },
    {
      "cell_type": "code",
      "source": [
        "import numpy as np\n",
        "from sklearn.experimental import enable_iterative_imputer\n",
        "from sklearn.impute import IterativeImputer\n",
        "\n",
        "def impute_numerical_columns(df):\n",
        "    \"\"\"\n",
        "    Perform MICE imputation only on numerical columns.\n",
        "\n",
        "    Parameters:\n",
        "    df (pandas.DataFrame): Input DataFrame with missing values\n",
        "    \"\"\"\n",
        "    # Get only numerical columns\n",
        "    numerical_cols = df.select_dtypes(include=['int64', 'float64']).columns\n",
        "\n",
        "    # Initialize MICE imputer\n",
        "    imputer = IterativeImputer(\n",
        "        max_iter=10,\n",
        "        random_state=42,\n",
        "        initial_strategy='median',\n",
        "        min_value=0\n",
        "    )\n",
        "\n",
        "    # Perform imputation only on numerical columns\n",
        "    imputed_data = imputer.fit_transform(df[numerical_cols])\n",
        "\n",
        "    # Update the original DataFrame with imputed values\n",
        "    for i, col in enumerate(numerical_cols):\n",
        "        df[col] = imputed_data[:, i]\n",
        "\n",
        "        # Round integer columns\n",
        "        if df[col].dtype == 'int64':\n",
        "            df[col] = np.round(df[col]).astype('int64')"
      ],
      "metadata": {
        "id": "m0yyp-5t1usJ"
      },
      "execution_count": null,
      "outputs": []
    },
    {
      "cell_type": "code",
      "source": [
        "# This will modify your DataFrame in-place\n",
        "impute_numerical_columns(train_df)"
      ],
      "metadata": {
        "id": "yPos0wY3L_7L"
      },
      "execution_count": null,
      "outputs": []
    },
    {
      "cell_type": "code",
      "source": [
        "import numpy as np\n",
        "import pandas as pd\n",
        "from sklearn.linear_model import LinearRegression\n",
        "from sklearn.preprocessing import LabelEncoder\n",
        "from sklearn.impute import SimpleImputer\n",
        "\n",
        "def impute_categorical_with_regression(df):\n",
        "    \"\"\"\n",
        "    Impute categorical columns using Linear Regression, with special handling for area_code.\n",
        "\n",
        "    Parameters:\n",
        "    df (pandas.DataFrame): Input DataFrame with missing values\n",
        "    \"\"\"\n",
        "    # Create a copy to avoid modifying the original dataframe\n",
        "    df = df.copy()\n",
        "\n",
        "    # Get categorical columns\n",
        "    categorical_cols = df.select_dtypes(include=['object']).columns\n",
        "\n",
        "    # Special handling for area_code\n",
        "    area_code_mapping = {'408': 0, '415': 1, '510': 2}\n",
        "    non_null_mask = df['customer_area_code'].notna()\n",
        "    df.loc[non_null_mask, 'customer_area_code'] = df.loc[non_null_mask, 'customer_area_code'].map(area_code_mapping)\n",
        "    df['customer_area_code'] = df['customer_area_code'].astype(float)\n",
        "\n",
        "    # Handle other categorical columns with LabelEncoder\n",
        "    other_cat_cols = [col for col in categorical_cols if col != 'customer_area_code']\n",
        "    encoders = {}\n",
        "\n",
        "    for col in other_cat_cols:\n",
        "        le = LabelEncoder()\n",
        "        # Get non-null values and fit\n",
        "        non_null_mask = df[col].notna()\n",
        "        non_null_data = df.loc[non_null_mask, col]\n",
        "        le.fit(non_null_data)\n",
        "\n",
        "        # Transform non-null values\n",
        "        df.loc[non_null_mask, col] = le.transform(non_null_data)\n",
        "        df[col] = df[col].astype(float)\n",
        "        encoders[col] = le\n",
        "\n",
        "    # Combine all categorical columns for imputation\n",
        "    cols_to_impute = list(other_cat_cols) + ['customer_area_code']\n",
        "\n",
        "    # Initialize a simple imputer for numerical columns\n",
        "    num_imputer = SimpleImputer(strategy='mean')\n",
        "\n",
        "    # For each column with missing values, train a regression model\n",
        "    for column in cols_to_impute:\n",
        "        # Identify rows with missing and non-missing values\n",
        "        train_mask = df[column].notna()\n",
        "        missing_mask = df[column].isna()\n",
        "\n",
        "        if missing_mask.sum() > 0:  # Only proceed if there are missing values\n",
        "            # Prepare features (use all other columns except the target)\n",
        "            feature_cols = [col for col in df.columns if col != column]\n",
        "\n",
        "            # Create and fit the model on non-missing values\n",
        "            model = LinearRegression()\n",
        "\n",
        "            # Get features for training\n",
        "            train_features = df.loc[train_mask, feature_cols].copy()\n",
        "\n",
        "            # Impute NaN values in features using mean strategy\n",
        "            train_features = pd.DataFrame(\n",
        "                num_imputer.fit_transform(train_features),\n",
        "                columns=feature_cols,\n",
        "                index=train_features.index\n",
        "            )\n",
        "\n",
        "            train_target = df.loc[train_mask, column]\n",
        "\n",
        "            # Fit the model\n",
        "            model.fit(train_features, train_target)\n",
        "\n",
        "            # Prepare features for prediction\n",
        "            missing_features = df.loc[missing_mask, feature_cols].copy()\n",
        "\n",
        "            # Impute NaN values in features for prediction\n",
        "            missing_features = pd.DataFrame(\n",
        "                num_imputer.transform(missing_features),\n",
        "                columns=feature_cols,\n",
        "                index=missing_features.index\n",
        "            )\n",
        "\n",
        "            # Predict missing values\n",
        "            predicted_values = model.predict(missing_features)\n",
        "\n",
        "            # Round predictions since these are categorical\n",
        "            predicted_values = np.round(predicted_values)\n",
        "\n",
        "            # Ensure predictions are within valid range\n",
        "            if column == 'customer_area_code':\n",
        "                predicted_values = np.clip(predicted_values, 0, 2)\n",
        "            else:\n",
        "                le = encoders[column]\n",
        "                predicted_values = np.clip(predicted_values, 0, len(le.classes_) - 1)\n",
        "\n",
        "            # Assign predicted values\n",
        "            df.loc[missing_mask, column] = predicted_values\n",
        "\n",
        "    # Convert back to original format\n",
        "    for column in cols_to_impute:\n",
        "        df[column] = df[column].astype(int)\n",
        "        if column == 'customer_area_code':\n",
        "            # Reverse mapping for area codes\n",
        "            reverse_mapping = {0: '408', 1: '415', 2: '510'}\n",
        "            df[column] = df[column].map(reverse_mapping)\n",
        "        else:\n",
        "            # Reverse transform other categorical columns\n",
        "            le = encoders[column]\n",
        "            df[column] = le.inverse_transform(df[column].astype(int))\n",
        "\n",
        "    return df\n",
        "\n",
        "# Usage example:\n",
        "# imputed_df = impute_categorical_with_regression(train_df)"
      ],
      "metadata": {
        "id": "jAPIyORS8_Gr"
      },
      "execution_count": null,
      "outputs": []
    },
    {
      "cell_type": "code",
      "source": [
        "imputed__train_df = impute_categorical_with_regression(train_df)"
      ],
      "metadata": {
        "id": "RELZa2g19I4E"
      },
      "execution_count": null,
      "outputs": []
    },
    {
      "cell_type": "code",
      "source": [
        "# List of states (or categories)\n",
        "states = ['MN', 'NH', 'RI', 'PA', 'OR', 'UNKNOWN', 'SC', 'KS', 'NC', 'ID',\n",
        "          'MD', 'IL', 'CO', 'VA', 'WY', 'LA', 'AL', 'AR', 'CT', 'WA', 'NY',\n",
        "          'NJ', 'MT', 'IN', 'OK', 'ME', 'CA', 'HI', 'MA', 'OH', 'MS', 'MI',\n",
        "          'MO', 'WV', 'TN', 'UT', 'NV', 'DE', 'WI', 'AZ', 'VT', 'FL', 'AK',\n",
        "          'SD', 'NM', 'GA', 'KY', 'NE', 'DC', 'TX', 'IA', 'ND']\n",
        "\n",
        "# Create a mapping (dictionary) to manually encode states to numbers\n",
        "state_to_num = {state: idx for idx, state in enumerate(states)}\n",
        "\n",
        "# Apply the mapping to the 'state' column\n",
        "imputed__train_df['customer_state'] = imputed__train_df['customer_state'].map(state_to_num)"
      ],
      "metadata": {
        "id": "J6CFSLBRezn0"
      },
      "execution_count": null,
      "outputs": []
    },
    {
      "cell_type": "code",
      "source": [
        "imputed__train_df.info()"
      ],
      "metadata": {
        "colab": {
          "base_uri": "https://localhost:8080/"
        },
        "id": "Sxx5AyCXw-i0",
        "outputId": "08052279-8e7e-4226-a702-8b3f023cb76c"
      },
      "execution_count": null,
      "outputs": [
        {
          "output_type": "stream",
          "name": "stdout",
          "text": [
            "<class 'pandas.core.frame.DataFrame'>\n",
            "RangeIndex: 2975 entries, 0 to 2974\n",
            "Data columns (total 21 columns):\n",
            " #   Column                       Non-Null Count  Dtype  \n",
            "---  ------                       --------------  -----  \n",
            " 0   id                           2975 non-null   float64\n",
            " 1   customer_state               2975 non-null   int64  \n",
            " 2   customer_account_duration    2975 non-null   float64\n",
            " 3   customer_area_code           2975 non-null   object \n",
            " 4   has_international_plan       2975 non-null   object \n",
            " 5   has_voice_mail_plan          2975 non-null   object \n",
            " 6   voice_mail_message_count     2975 non-null   float64\n",
            " 7   daytime_total_minutes        2975 non-null   float64\n",
            " 8   daytime_total_calls          2975 non-null   float64\n",
            " 9   daytime_total_charges        2975 non-null   float64\n",
            " 10  evening_total_minutes        2975 non-null   float64\n",
            " 11  evening_total_calls          2975 non-null   float64\n",
            " 12  evening_total_charges        2975 non-null   float64\n",
            " 13  nighttime_total_minutes      2975 non-null   float64\n",
            " 14  nighttime_total_calls        2975 non-null   float64\n",
            " 15  nighttime_total_charges      2975 non-null   float64\n",
            " 16  intl_total_minutes           2975 non-null   float64\n",
            " 17  intl_total_calls             2975 non-null   float64\n",
            " 18  intl_total_charges           2975 non-null   float64\n",
            " 19  customer_service_call_count  2975 non-null   float64\n",
            " 20  churn                        2975 non-null   float64\n",
            "dtypes: float64(17), int64(1), object(3)\n",
            "memory usage: 488.2+ KB\n"
          ]
        }
      ]
    },
    {
      "cell_type": "code",
      "source": [
        "train_df['customer_area_code'].unique()"
      ],
      "metadata": {
        "colab": {
          "base_uri": "https://localhost:8080/"
        },
        "id": "RF_jsTFiiHCb",
        "outputId": "6d774038-584a-4edd-de94-298dec58593d"
      },
      "execution_count": null,
      "outputs": [
        {
          "output_type": "execute_result",
          "data": {
            "text/plain": [
              "array(['408', '415', nan, '510'], dtype=object)"
            ]
          },
          "metadata": {},
          "execution_count": 209
        }
      ]
    },
    {
      "cell_type": "code",
      "source": [
        "imputed__train_df.info()"
      ],
      "metadata": {
        "colab": {
          "base_uri": "https://localhost:8080/"
        },
        "id": "93hlSnrwMDOI",
        "outputId": "6772e626-2940-4d94-aaa9-e447902fe3cf"
      },
      "execution_count": null,
      "outputs": [
        {
          "output_type": "stream",
          "name": "stdout",
          "text": [
            "<class 'pandas.core.frame.DataFrame'>\n",
            "RangeIndex: 2975 entries, 0 to 2974\n",
            "Data columns (total 21 columns):\n",
            " #   Column                       Non-Null Count  Dtype  \n",
            "---  ------                       --------------  -----  \n",
            " 0   id                           2975 non-null   float64\n",
            " 1   customer_state               2975 non-null   int64  \n",
            " 2   customer_account_duration    2975 non-null   float64\n",
            " 3   customer_area_code           2975 non-null   object \n",
            " 4   has_international_plan       2975 non-null   object \n",
            " 5   has_voice_mail_plan          2975 non-null   object \n",
            " 6   voice_mail_message_count     2975 non-null   float64\n",
            " 7   daytime_total_minutes        2975 non-null   float64\n",
            " 8   daytime_total_calls          2975 non-null   float64\n",
            " 9   daytime_total_charges        2975 non-null   float64\n",
            " 10  evening_total_minutes        2975 non-null   float64\n",
            " 11  evening_total_calls          2975 non-null   float64\n",
            " 12  evening_total_charges        2975 non-null   float64\n",
            " 13  nighttime_total_minutes      2975 non-null   float64\n",
            " 14  nighttime_total_calls        2975 non-null   float64\n",
            " 15  nighttime_total_charges      2975 non-null   float64\n",
            " 16  intl_total_minutes           2975 non-null   float64\n",
            " 17  intl_total_calls             2975 non-null   float64\n",
            " 18  intl_total_charges           2975 non-null   float64\n",
            " 19  customer_service_call_count  2975 non-null   float64\n",
            " 20  churn                        2975 non-null   float64\n",
            "dtypes: float64(17), int64(1), object(3)\n",
            "memory usage: 488.2+ KB\n"
          ]
        }
      ]
    },
    {
      "cell_type": "code",
      "source": [
        "# List of states (or categories)\n",
        "states = ['408','415','510']\n",
        "\n",
        "# Create a mapping (dictionary) to manually encode states to numbers\n",
        "state_to_num = {state: idx for idx, state in enumerate(states)}\n",
        "\n",
        "# Apply the mapping to the 'state' column\n",
        "imputed__train_df['customer_area_code'] = imputed__train_df['customer_area_code'].map(state_to_num)"
      ],
      "metadata": {
        "id": "ziFXswhOEree"
      },
      "execution_count": null,
      "outputs": []
    },
    {
      "cell_type": "code",
      "source": [
        "train_df['customer_area_code'].unique()"
      ],
      "metadata": {
        "colab": {
          "base_uri": "https://localhost:8080/"
        },
        "id": "JgOE27feMXmk",
        "outputId": "48d667ee-d4f2-421c-d523-17b5d251c0bc"
      },
      "execution_count": null,
      "outputs": [
        {
          "output_type": "execute_result",
          "data": {
            "text/plain": [
              "array(['408', '415', nan, '510'], dtype=object)"
            ]
          },
          "metadata": {},
          "execution_count": 212
        }
      ]
    },
    {
      "cell_type": "code",
      "source": [
        "from sklearn.impute import KNNImputer\n",
        "import pandas as pd\n",
        "import numpy as np\n",
        "\n",
        "\n",
        "# Step 1: Encode Categorical Column\n",
        "train_df['customer_area_code_encoded'], uniques = train_df['customer_area_code'].factorize()\n",
        "\n",
        "# Replace -1 (factorize missing values) with NaN for KNNImputer\n",
        "train_df['customer_area_code_encoded'] = train_df['customer_area_code_encoded'].replace(-1, np.nan)\n",
        "\n",
        "# Step 2: Apply KNNImputer\n",
        "knn_imputer = KNNImputer(n_neighbors=3)\n",
        "train_df['customer_area_code_encoded'] = knn_imputer.fit_transform(\n",
        "    train_df[['customer_area_code_encoded']]\n",
        ")\n",
        "\n",
        "# Step 3: Round Imputed Values to Integers (since categories are discrete)\n",
        "train_df['customer_area_code_encoded'] = train_df['customer_area_code_encoded'].round().astype(int)\n",
        "\n",
        "# Step 4: Decode Imputed Values Back to Original Categories\n",
        "train_df['customer_area_code'] = train_df['customer_area_code_encoded'].map(\n",
        "    dict(enumerate(uniques))\n",
        ")\n",
        "\n",
        "# Drop the encoded column if no longer needed\n",
        "train_df.drop(columns='customer_area_code_encoded', inplace=True)"
      ],
      "metadata": {
        "id": "UlQL2nibj9v7",
        "collapsed": true
      },
      "execution_count": null,
      "outputs": []
    },
    {
      "cell_type": "code",
      "source": [
        "train_df.info()"
      ],
      "metadata": {
        "colab": {
          "base_uri": "https://localhost:8080/"
        },
        "id": "6fMGdGukOBJj",
        "outputId": "b9c8b984-4600-4417-8fc0-5d6dc5119783"
      },
      "execution_count": null,
      "outputs": [
        {
          "output_type": "stream",
          "name": "stdout",
          "text": [
            "<class 'pandas.core.frame.DataFrame'>\n",
            "RangeIndex: 2975 entries, 0 to 2974\n",
            "Data columns (total 21 columns):\n",
            " #   Column                       Non-Null Count  Dtype  \n",
            "---  ------                       --------------  -----  \n",
            " 0   id                           2975 non-null   float64\n",
            " 1   customer_state               2975 non-null   int64  \n",
            " 2   customer_account_duration    2975 non-null   float64\n",
            " 3   customer_area_code           2389 non-null   float64\n",
            " 4   has_international_plan       2521 non-null   object \n",
            " 5   has_voice_mail_plan          2653 non-null   object \n",
            " 6   voice_mail_message_count     2975 non-null   float64\n",
            " 7   daytime_total_minutes        2975 non-null   float64\n",
            " 8   daytime_total_calls          2975 non-null   float64\n",
            " 9   daytime_total_charges        2975 non-null   float64\n",
            " 10  evening_total_minutes        2975 non-null   float64\n",
            " 11  evening_total_calls          2975 non-null   float64\n",
            " 12  evening_total_charges        2975 non-null   float64\n",
            " 13  nighttime_total_minutes      2975 non-null   float64\n",
            " 14  nighttime_total_calls        2975 non-null   float64\n",
            " 15  nighttime_total_charges      2975 non-null   float64\n",
            " 16  intl_total_minutes           2975 non-null   float64\n",
            " 17  intl_total_calls             2975 non-null   float64\n",
            " 18  intl_total_charges           2975 non-null   float64\n",
            " 19  customer_service_call_count  2975 non-null   float64\n",
            " 20  churn                        2975 non-null   float64\n",
            "dtypes: float64(18), int64(1), object(2)\n",
            "memory usage: 488.2+ KB\n"
          ]
        }
      ]
    },
    {
      "cell_type": "code",
      "source": [
        "train_df['customer_area_code'].unique()"
      ],
      "metadata": {
        "colab": {
          "base_uri": "https://localhost:8080/"
        },
        "id": "_4oSdGlUOC9u",
        "outputId": "959020b2-3dd3-4d71-e703-fa9b41f0ab79"
      },
      "execution_count": null,
      "outputs": [
        {
          "output_type": "execute_result",
          "data": {
            "text/plain": [
              "array([ 0.,  1., nan,  2.])"
            ]
          },
          "metadata": {},
          "execution_count": 104
        }
      ]
    },
    {
      "cell_type": "code",
      "source": [
        "from sklearn.impute import KNNImputer\n",
        "import pandas as pd\n",
        "import numpy as np\n",
        "\n",
        "\n",
        "# Step 1: Encode Categorical Column\n",
        "train_df['has_international_plan_encoded'], uniques = train_df['has_international_plan'].factorize()\n",
        "\n",
        "# Replace -1 (factorize missing values) with NaN for KNNImputer\n",
        "train_df['has_international_plan_encoded'] = train_df['has_international_plan_encoded'].replace(-1, np.nan)\n",
        "\n",
        "# Step 2: Apply KNNImputer\n",
        "knn_imputer = KNNImputer(n_neighbors=3)\n",
        "train_df['has_international_plan_encoded'] = knn_imputer.fit_transform(\n",
        "    train_df[['has_international_plan_encoded']]\n",
        ")\n",
        "\n",
        "# Step 3: Round Imputed Values to Integers (since categories are discrete)\n",
        "train_df['has_international_plan_encoded'] = train_df['has_international_plan_encoded'].round().astype(int)\n",
        "\n",
        "# Step 4: Decode Imputed Values Back to Original Categories\n",
        "train_df['has_international_plan'] = train_df['has_international_plan_encoded'].map(\n",
        "    dict(enumerate(uniques))\n",
        ")\n",
        "\n",
        "# Drop the encoded column if no longer needed\n",
        "train_df.drop(columns='has_international_plan_encoded', inplace=True)"
      ],
      "metadata": {
        "id": "hdVxoXb4sGYB"
      },
      "execution_count": null,
      "outputs": []
    },
    {
      "cell_type": "code",
      "source": [
        "from sklearn.impute import KNNImputer\n",
        "import pandas as pd\n",
        "import numpy as np\n",
        "\n",
        "\n",
        "# Step 1: Encode Categorical Column\n",
        "train_df['has_voice_mail_plan_encoded'], uniques = train_df['has_voice_mail_plan'].factorize()\n",
        "\n",
        "# Replace -1 (factorize missing values) with NaN for KNNImputer\n",
        "train_df['has_voice_mail_plan_encoded'] = train_df['has_voice_mail_plan_encoded'].replace(-1, np.nan)\n",
        "\n",
        "# Step 2: Apply KNNImputer\n",
        "knn_imputer = KNNImputer(n_neighbors=3)\n",
        "train_df['has_voice_mail_plan_encoded'] = knn_imputer.fit_transform(\n",
        "    train_df[['has_voice_mail_plan_encoded']]\n",
        ")\n",
        "\n",
        "# Step 3: Round Imputed Values to Integers (since categories are discrete)\n",
        "train_df['has_voice_mail_plan_encoded'] = train_df['has_voice_mail_plan_encoded'].round().astype(int)\n",
        "\n",
        "# Step 4: Decode Imputed Values Back to Original Categories\n",
        "train_df['has_voice_mail_plan'] = train_df['has_voice_mail_plan_encoded'].map(\n",
        "    dict(enumerate(uniques))\n",
        ")\n",
        "\n",
        "# Drop the encoded column if no longer needed\n",
        "train_df.drop(columns='has_voice_mail_plan_encoded', inplace=True)"
      ],
      "metadata": {
        "id": "RbW0PAzLscL2"
      },
      "execution_count": null,
      "outputs": []
    },
    {
      "cell_type": "code",
      "source": [
        "# List of states (or categories)\n",
        "states = ['408','415','510']\n",
        "\n",
        "# Create a mapping (dictionary) to manually encode states to numbers\n",
        "state_to_num = {state: idx for idx, state in enumerate(states)}\n",
        "\n",
        "# Apply the mapping to the 'state' column\n",
        "train_df['customer_area_code'] = train_df['customer_area_code'].map(state_to_num)"
      ],
      "metadata": {
        "id": "YgArptu3OLV1"
      },
      "execution_count": null,
      "outputs": []
    },
    {
      "cell_type": "code",
      "source": [
        "imputed__train_df.info()"
      ],
      "metadata": {
        "colab": {
          "base_uri": "https://localhost:8080/"
        },
        "id": "ZxNXXSHYOssp",
        "outputId": "80ad02b9-9230-4e60-a747-71e61052494b"
      },
      "execution_count": null,
      "outputs": [
        {
          "output_type": "stream",
          "name": "stdout",
          "text": [
            "<class 'pandas.core.frame.DataFrame'>\n",
            "RangeIndex: 2975 entries, 0 to 2974\n",
            "Data columns (total 21 columns):\n",
            " #   Column                       Non-Null Count  Dtype  \n",
            "---  ------                       --------------  -----  \n",
            " 0   id                           2975 non-null   float64\n",
            " 1   customer_state               2975 non-null   int64  \n",
            " 2   customer_account_duration    2975 non-null   float64\n",
            " 3   customer_area_code           2975 non-null   int64  \n",
            " 4   has_international_plan       2975 non-null   object \n",
            " 5   has_voice_mail_plan          2975 non-null   object \n",
            " 6   voice_mail_message_count     2975 non-null   float64\n",
            " 7   daytime_total_minutes        2975 non-null   float64\n",
            " 8   daytime_total_calls          2975 non-null   float64\n",
            " 9   daytime_total_charges        2975 non-null   float64\n",
            " 10  evening_total_minutes        2975 non-null   float64\n",
            " 11  evening_total_calls          2975 non-null   float64\n",
            " 12  evening_total_charges        2975 non-null   float64\n",
            " 13  nighttime_total_minutes      2975 non-null   float64\n",
            " 14  nighttime_total_calls        2975 non-null   float64\n",
            " 15  nighttime_total_charges      2975 non-null   float64\n",
            " 16  intl_total_minutes           2975 non-null   float64\n",
            " 17  intl_total_calls             2975 non-null   float64\n",
            " 18  intl_total_charges           2975 non-null   float64\n",
            " 19  customer_service_call_count  2975 non-null   float64\n",
            " 20  churn                        2975 non-null   float64\n",
            "dtypes: float64(17), int64(2), object(2)\n",
            "memory usage: 488.2+ KB\n"
          ]
        }
      ]
    },
    {
      "cell_type": "code",
      "source": [
        "from sklearn.preprocessing import LabelEncoder\n",
        "\n",
        "# Assuming 'imputed__train_df' is your DataFrame\n",
        "categorical_cols = imputed__train_df.select_dtypes(include=['object', 'bool']).columns\n",
        "le = LabelEncoder()\n",
        "for col in categorical_cols:\n",
        "    imputed__train_df[col] = le.fit_transform(imputed__train_df[col])"
      ],
      "metadata": {
        "id": "gL6Va5LgOvGP"
      },
      "execution_count": null,
      "outputs": []
    },
    {
      "cell_type": "code",
      "source": [
        "imputed__train_df.info()"
      ],
      "metadata": {
        "colab": {
          "base_uri": "https://localhost:8080/"
        },
        "id": "r84_8PNlO_ko",
        "outputId": "66a07b7d-1b75-46e5-9e39-67f2311c1464"
      },
      "execution_count": null,
      "outputs": [
        {
          "output_type": "stream",
          "name": "stdout",
          "text": [
            "<class 'pandas.core.frame.DataFrame'>\n",
            "RangeIndex: 2975 entries, 0 to 2974\n",
            "Data columns (total 21 columns):\n",
            " #   Column                       Non-Null Count  Dtype  \n",
            "---  ------                       --------------  -----  \n",
            " 0   id                           2975 non-null   float64\n",
            " 1   customer_state               2975 non-null   int64  \n",
            " 2   customer_account_duration    2975 non-null   float64\n",
            " 3   customer_area_code           2975 non-null   int64  \n",
            " 4   has_international_plan       2975 non-null   int64  \n",
            " 5   has_voice_mail_plan          2975 non-null   int64  \n",
            " 6   voice_mail_message_count     2975 non-null   float64\n",
            " 7   daytime_total_minutes        2975 non-null   float64\n",
            " 8   daytime_total_calls          2975 non-null   float64\n",
            " 9   daytime_total_charges        2975 non-null   float64\n",
            " 10  evening_total_minutes        2975 non-null   float64\n",
            " 11  evening_total_calls          2975 non-null   float64\n",
            " 12  evening_total_charges        2975 non-null   float64\n",
            " 13  nighttime_total_minutes      2975 non-null   float64\n",
            " 14  nighttime_total_calls        2975 non-null   float64\n",
            " 15  nighttime_total_charges      2975 non-null   float64\n",
            " 16  intl_total_minutes           2975 non-null   float64\n",
            " 17  intl_total_calls             2975 non-null   float64\n",
            " 18  intl_total_charges           2975 non-null   float64\n",
            " 19  customer_service_call_count  2975 non-null   float64\n",
            " 20  churn                        2975 non-null   float64\n",
            "dtypes: float64(17), int64(4)\n",
            "memory usage: 488.2 KB\n"
          ]
        }
      ]
    },
    {
      "cell_type": "code",
      "source": [
        "train_df['has_international_plan'].unique()"
      ],
      "metadata": {
        "colab": {
          "base_uri": "https://localhost:8080/"
        },
        "id": "4YflUdpIPcJQ",
        "outputId": "5fe4611b-ddb6-40f5-e04d-04b49661945b"
      },
      "execution_count": null,
      "outputs": [
        {
          "output_type": "execute_result",
          "data": {
            "text/plain": [
              "array([nan, False, True], dtype=object)"
            ]
          },
          "metadata": {},
          "execution_count": 166
        }
      ]
    },
    {
      "cell_type": "code",
      "source": [
        "test_df = pd.read_csv('/content/drive/MyDrive/Test_dataset/test.csv')"
      ],
      "metadata": {
        "id": "7UPkR6cgPiBr"
      },
      "execution_count": null,
      "outputs": []
    },
    {
      "cell_type": "code",
      "source": [
        "test_df.info()"
      ],
      "metadata": {
        "colab": {
          "base_uri": "https://localhost:8080/"
        },
        "id": "eNi6_PLHYnoD",
        "outputId": "a97bcb2c-e97b-4795-ee4f-5a461878783b"
      },
      "execution_count": null,
      "outputs": [
        {
          "output_type": "stream",
          "name": "stdout",
          "text": [
            "<class 'pandas.core.frame.DataFrame'>\n",
            "RangeIndex: 1275 entries, 0 to 1274\n",
            "Data columns (total 20 columns):\n",
            " #   Column                       Non-Null Count  Dtype  \n",
            "---  ------                       --------------  -----  \n",
            " 0   id                           1275 non-null   int64  \n",
            " 1   customer_state               1275 non-null   object \n",
            " 2   customer_account_duration    1023 non-null   float64\n",
            " 3   customer_area_code           1007 non-null   object \n",
            " 4   has_international_plan       1083 non-null   object \n",
            " 5   has_voice_mail_plan          1140 non-null   object \n",
            " 6   voice_mail_message_count     946 non-null    float64\n",
            " 7   daytime_total_minutes        910 non-null    float64\n",
            " 8   daytime_total_calls          1085 non-null   float64\n",
            " 9   daytime_total_charges        1150 non-null   float64\n",
            " 10  evening_total_minutes        922 non-null    float64\n",
            " 11  evening_total_calls          1075 non-null   float64\n",
            " 12  evening_total_charges        984 non-null    float64\n",
            " 13  nighttime_total_minutes      1105 non-null   float64\n",
            " 14  nighttime_total_calls        913 non-null    float64\n",
            " 15  nighttime_total_charges      931 non-null    float64\n",
            " 16  intl_total_minutes           1004 non-null   float64\n",
            " 17  intl_total_calls             1041 non-null   float64\n",
            " 18  intl_total_charges           974 non-null    float64\n",
            " 19  customer_service_call_count  911 non-null    float64\n",
            "dtypes: float64(15), int64(1), object(4)\n",
            "memory usage: 199.3+ KB\n"
          ]
        }
      ]
    },
    {
      "cell_type": "code",
      "source": [
        "def clean_customer_area_code(val):\n",
        "  if(val == 'area_code_408' or val == 'area_408'):\n",
        "    return '408'\n",
        "  elif(val == 'area_code_415' or val == 'area_415'):\n",
        "    return '415'\n",
        "  elif(val == 'area_code_510' or val == 'area_510'):\n",
        "    return '510'\n",
        "  else:\n",
        "    return val\n",
        "\n",
        "test_df['customer_area_code'] = test_df['customer_area_code'].apply(clean_customer_area_code)\n",
        "test_df['customer_area_code'].head()"
      ],
      "metadata": {
        "colab": {
          "base_uri": "https://localhost:8080/",
          "height": 241
        },
        "id": "gvUPpksOPs-R",
        "outputId": "d1057068-332a-4e94-c6d9-3fa6df5d36dd"
      },
      "execution_count": null,
      "outputs": [
        {
          "output_type": "execute_result",
          "data": {
            "text/plain": [
              "0    408\n",
              "1    415\n",
              "2    408\n",
              "3    408\n",
              "4    408\n",
              "Name: customer_area_code, dtype: object"
            ],
            "text/html": [
              "<div>\n",
              "<style scoped>\n",
              "    .dataframe tbody tr th:only-of-type {\n",
              "        vertical-align: middle;\n",
              "    }\n",
              "\n",
              "    .dataframe tbody tr th {\n",
              "        vertical-align: top;\n",
              "    }\n",
              "\n",
              "    .dataframe thead th {\n",
              "        text-align: right;\n",
              "    }\n",
              "</style>\n",
              "<table border=\"1\" class=\"dataframe\">\n",
              "  <thead>\n",
              "    <tr style=\"text-align: right;\">\n",
              "      <th></th>\n",
              "      <th>customer_area_code</th>\n",
              "    </tr>\n",
              "  </thead>\n",
              "  <tbody>\n",
              "    <tr>\n",
              "      <th>0</th>\n",
              "      <td>408</td>\n",
              "    </tr>\n",
              "    <tr>\n",
              "      <th>1</th>\n",
              "      <td>415</td>\n",
              "    </tr>\n",
              "    <tr>\n",
              "      <th>2</th>\n",
              "      <td>408</td>\n",
              "    </tr>\n",
              "    <tr>\n",
              "      <th>3</th>\n",
              "      <td>408</td>\n",
              "    </tr>\n",
              "    <tr>\n",
              "      <th>4</th>\n",
              "      <td>408</td>\n",
              "    </tr>\n",
              "  </tbody>\n",
              "</table>\n",
              "</div><br><label><b>dtype:</b> object</label>"
            ]
          },
          "metadata": {},
          "execution_count": 219
        }
      ]
    },
    {
      "cell_type": "code",
      "source": [
        "def clean_has_international_plan(val):\n",
        "  if(val=='False' or val == 'no' or val == 'false' or val == '0' or val == 'No' or val == 'FALSE' or val == 'NO'):\n",
        "    return False\n",
        "  elif(val == 'Yes' or val == '1' or val == 'True' or val == 'TRUE' or val == 'true' or val == 'YES' or val == 'yes'):\n",
        "    return True\n",
        "  else:\n",
        "    return val\n",
        "\n",
        "test_df['has_international_plan'] = test_df['has_international_plan'].apply(clean_has_international_plan)\n",
        "test_df['has_international_plan'].head()"
      ],
      "metadata": {
        "colab": {
          "base_uri": "https://localhost:8080/",
          "height": 241
        },
        "id": "sCA4lOVPP7bK",
        "outputId": "bc5e1872-832c-4402-db29-69ae92475c01"
      },
      "execution_count": null,
      "outputs": [
        {
          "output_type": "execute_result",
          "data": {
            "text/plain": [
              "0    False\n",
              "1    False\n",
              "2    False\n",
              "3      NaN\n",
              "4    False\n",
              "Name: has_international_plan, dtype: object"
            ],
            "text/html": [
              "<div>\n",
              "<style scoped>\n",
              "    .dataframe tbody tr th:only-of-type {\n",
              "        vertical-align: middle;\n",
              "    }\n",
              "\n",
              "    .dataframe tbody tr th {\n",
              "        vertical-align: top;\n",
              "    }\n",
              "\n",
              "    .dataframe thead th {\n",
              "        text-align: right;\n",
              "    }\n",
              "</style>\n",
              "<table border=\"1\" class=\"dataframe\">\n",
              "  <thead>\n",
              "    <tr style=\"text-align: right;\">\n",
              "      <th></th>\n",
              "      <th>has_international_plan</th>\n",
              "    </tr>\n",
              "  </thead>\n",
              "  <tbody>\n",
              "    <tr>\n",
              "      <th>0</th>\n",
              "      <td>False</td>\n",
              "    </tr>\n",
              "    <tr>\n",
              "      <th>1</th>\n",
              "      <td>False</td>\n",
              "    </tr>\n",
              "    <tr>\n",
              "      <th>2</th>\n",
              "      <td>False</td>\n",
              "    </tr>\n",
              "    <tr>\n",
              "      <th>3</th>\n",
              "      <td>NaN</td>\n",
              "    </tr>\n",
              "    <tr>\n",
              "      <th>4</th>\n",
              "      <td>False</td>\n",
              "    </tr>\n",
              "  </tbody>\n",
              "</table>\n",
              "</div><br><label><b>dtype:</b> object</label>"
            ]
          },
          "metadata": {},
          "execution_count": 220
        }
      ]
    },
    {
      "cell_type": "code",
      "source": [
        "# List of states (or categories)\n",
        "states = ['MN', 'NH', 'RI', 'PA', 'OR', 'UNKNOWN', 'SC', 'KS', 'NC', 'ID',\n",
        "          'MD', 'IL', 'CO', 'VA', 'WY', 'LA', 'AL', 'AR', 'CT', 'WA', 'NY',\n",
        "          'NJ', 'MT', 'IN', 'OK', 'ME', 'CA', 'HI', 'MA', 'OH', 'MS', 'MI',\n",
        "          'MO', 'WV', 'TN', 'UT', 'NV', 'DE', 'WI', 'AZ', 'VT', 'FL', 'AK',\n",
        "          'SD', 'NM', 'GA', 'KY', 'NE', 'DC', 'TX', 'IA', 'ND']\n",
        "\n",
        "# Create a mapping (dictionary) to manually encode states to numbers\n",
        "state_to_num = {state: idx for idx, state in enumerate(states)}\n",
        "\n",
        "# Apply the mapping to the 'state' column\n",
        "test_df['customer_state'] = test_df['customer_state'].map(state_to_num)"
      ],
      "metadata": {
        "id": "jcEcteVpQEtG"
      },
      "execution_count": null,
      "outputs": []
    },
    {
      "cell_type": "code",
      "source": [
        "impute_numerical_columns(test_df)"
      ],
      "metadata": {
        "id": "b1MVS4beQNrB"
      },
      "execution_count": null,
      "outputs": []
    },
    {
      "cell_type": "code",
      "source": [
        "imputed__test_df = impute_categorical_with_regression(test_df)"
      ],
      "metadata": {
        "id": "03vnmld3-k2r"
      },
      "execution_count": null,
      "outputs": []
    },
    {
      "cell_type": "code",
      "source": [
        "from sklearn.impute import KNNImputer\n",
        "import pandas as pd\n",
        "import numpy as np\n",
        "\n",
        "\n",
        "# Step 1: Encode Categorical Column\n",
        "test_df['customer_area_code_encoded'], uniques = test_df['customer_area_code'].factorize()\n",
        "\n",
        "# Replace -1 (factorize missing values) with NaN for KNNImputer\n",
        "test_df['customer_area_code_encoded'] = test_df['customer_area_code_encoded'].replace(-1, np.nan)\n",
        "\n",
        "# Step 2: Apply KNNImputer\n",
        "knn_imputer = KNNImputer(n_neighbors=3)\n",
        "test_df['customer_area_code_encoded'] = knn_imputer.fit_transform(\n",
        "    test_df[['customer_area_code_encoded']]\n",
        ")\n",
        "\n",
        "# Step 3: Round Imputed Values to Integers (since categories are discrete)\n",
        "test_df['customer_area_code_encoded'] = test_df['customer_area_code_encoded'].round().astype(int)\n",
        "\n",
        "# Step 4: Decode Imputed Values Back to Original Categories\n",
        "test_df['customer_area_code'] = test_df['customer_area_code_encoded'].map(\n",
        "    dict(enumerate(uniques))\n",
        ")\n",
        "\n",
        "# Drop the encoded column if no longer needed\n",
        "test_df.drop(columns='customer_area_code_encoded', inplace=True)"
      ],
      "metadata": {
        "id": "DgS_O9txsoc7"
      },
      "execution_count": null,
      "outputs": []
    },
    {
      "cell_type": "code",
      "source": [
        "from sklearn.impute import KNNImputer\n",
        "import pandas as pd\n",
        "import numpy as np\n",
        "\n",
        "\n",
        "# Step 1: Encode Categorical Column\n",
        "test_df['has_international_plan_encoded'], uniques = test_df['has_international_plan'].factorize()\n",
        "\n",
        "# Replace -1 (factorize missing values) with NaN for KNNImputer\n",
        "test_df['has_international_plan_encoded'] = test_df['has_international_plan_encoded'].replace(-1, np.nan)\n",
        "\n",
        "# Step 2: Apply KNNImputer\n",
        "knn_imputer = KNNImputer(n_neighbors=3)\n",
        "test_df['has_international_plan_encoded'] = knn_imputer.fit_transform(\n",
        "    test_df[['has_international_plan_encoded']]\n",
        ")\n",
        "\n",
        "# Step 3: Round Imputed Values to Integers (since categories are discrete)\n",
        "test_df['has_international_plan_encoded'] = test_df['has_international_plan_encoded'].round().astype(int)\n",
        "\n",
        "# Step 4: Decode Imputed Values Back to Original Categories\n",
        "test_df['has_international_plan'] = test_df['has_international_plan_encoded'].map(\n",
        "    dict(enumerate(uniques))\n",
        ")\n",
        "\n",
        "# Drop the encoded column if no longer needed\n",
        "test_df.drop(columns='has_international_plan_encoded', inplace=True)"
      ],
      "metadata": {
        "id": "20FkneHasuzp"
      },
      "execution_count": null,
      "outputs": []
    },
    {
      "cell_type": "code",
      "source": [
        "from sklearn.impute import KNNImputer\n",
        "import pandas as pd\n",
        "import numpy as np\n",
        "\n",
        "\n",
        "# Step 1: Encode Categorical Column\n",
        "test_df['has_voice_mail_plan_encoded'], uniques = test_df['has_voice_mail_plan'].factorize()\n",
        "\n",
        "# Replace -1 (factorize missing values) with NaN for KNNImputer\n",
        "test_df['has_voice_mail_plan_encoded'] = test_df['has_voice_mail_plan_encoded'].replace(-1, np.nan)\n",
        "\n",
        "# Step 2: Apply KNNImputer\n",
        "knn_imputer = KNNImputer(n_neighbors=3)\n",
        "test_df['has_voice_mail_plan_encoded'] = knn_imputer.fit_transform(\n",
        "    test_df[['has_voice_mail_plan_encoded']]\n",
        ")\n",
        "\n",
        "# Step 3: Round Imputed Values to Integers (since categories are discrete)\n",
        "test_df['has_voice_mail_plan_encoded'] = test_df['has_voice_mail_plan_encoded'].round().astype(int)\n",
        "\n",
        "# Step 4: Decode Imputed Values Back to Original Categories\n",
        "test_df['has_voice_mail_plan'] = test_df['has_voice_mail_plan_encoded'].map(\n",
        "    dict(enumerate(uniques))\n",
        ")\n",
        "\n",
        "# Drop the encoded column if no longer needed\n",
        "test_df.drop(columns='has_voice_mail_plan_encoded', inplace=True)"
      ],
      "metadata": {
        "id": "GtCfIPebs2Ex"
      },
      "execution_count": null,
      "outputs": []
    },
    {
      "cell_type": "code",
      "source": [
        "impute_categorical_columns(test_df)"
      ],
      "metadata": {
        "id": "0K-PrRwbQWkU",
        "colab": {
          "base_uri": "https://localhost:8080/",
          "height": 444
        },
        "outputId": "f3b8280b-08d0-431f-d379-c37c3c1c0ca4"
      },
      "execution_count": null,
      "outputs": [
        {
          "output_type": "execute_result",
          "data": {
            "text/plain": [
              "          id customer_state  customer_account_duration customer_area_code  \\\n",
              "0     2976.0             OK                  91.000000                408   \n",
              "1     2977.0             NJ                  95.000000                415   \n",
              "2     2978.0             GA                  73.000000                408   \n",
              "3     2979.0             WY                  54.000000                408   \n",
              "4     2980.0             KS                 108.000000                408   \n",
              "...      ...            ...                        ...                ...   \n",
              "1270  4246.0             NC                  64.000000                408   \n",
              "1271  4247.0        UNKNOWN                  63.000000                415   \n",
              "1272  4248.0             MN                  53.000000                415   \n",
              "1273  4249.0             ID                  92.000000                415   \n",
              "1274  4250.0             AR                  99.023956                415   \n",
              "\n",
              "     has_international_plan has_voice_mail_plan  voice_mail_message_count  \\\n",
              "0                     False                True                  8.900604   \n",
              "1                     False                True                 22.000000   \n",
              "2                     False               False                  0.000000   \n",
              "3                     False                True                 39.000000   \n",
              "4                     False               False                  0.000000   \n",
              "...                     ...                 ...                       ...   \n",
              "1270                  False                True                 19.000000   \n",
              "1271                  False               False                  0.000000   \n",
              "1272                  False                True                 24.000000   \n",
              "1273                  False               False                  0.000000   \n",
              "1274                  False               False                  0.000000   \n",
              "\n",
              "      daytime_total_minutes  daytime_total_calls  daytime_total_charges  \\\n",
              "0                270.285750            78.000000                  44.41   \n",
              "1                 39.300000           126.000000                   6.46   \n",
              "2                157.848775            92.000000                  29.13   \n",
              "3                148.689689            73.000000                  25.82   \n",
              "4                417.200000            48.000000                  79.43   \n",
              "...                     ...                  ...                    ...   \n",
              "1270             170.100000            99.145526                  30.50   \n",
              "1271             144.200000            92.000000                  22.77   \n",
              "1272             363.789474           146.000000                  59.74   \n",
              "1273             171.000000           140.000000                  27.69   \n",
              "1274             135.800000            87.000000                  24.30   \n",
              "\n",
              "      evening_total_minutes  evening_total_calls  evening_total_charges  \\\n",
              "0                209.300000            98.000000              17.530000   \n",
              "1                265.794087            90.000000              20.548968   \n",
              "2                397.200000            87.000000              34.800000   \n",
              "3                218.386677           117.000000              18.870000   \n",
              "4                196.100000           100.165644              17.961604   \n",
              "...                     ...                  ...                    ...   \n",
              "1270             120.950267            92.000000              10.800000   \n",
              "1271             198.600000           102.000000              16.640000   \n",
              "1272             218.282736           136.000000              17.220000   \n",
              "1273             236.890979           105.000000              19.220000   \n",
              "1274             194.229057            88.000000              16.680000   \n",
              "\n",
              "      nighttime_total_minutes  nighttime_total_calls  nighttime_total_charges  \\\n",
              "0                  292.600000              99.769387                    12.44   \n",
              "1                  269.000000              99.761699                    11.06   \n",
              "2                  382.493815             106.000000                    17.86   \n",
              "3                  131.300000             117.000000                     6.13   \n",
              "4                  204.400000              84.000000                     9.85   \n",
              "...                       ...                    ...                      ...   \n",
              "1270               234.300000             118.000000                    10.64   \n",
              "1271               232.400000             120.000000                     9.68   \n",
              "1272               245.200000              99.312311                    10.34   \n",
              "1273               232.300000             117.000000                     9.87   \n",
              "1274               124.200000              99.432670                     5.51   \n",
              "\n",
              "      intl_total_minutes  intl_total_calls  intl_total_charges  \\\n",
              "0               9.600000          2.000000            2.590000   \n",
              "1              11.900000          7.000000            3.213626   \n",
              "2               9.107631          4.116864            2.460000   \n",
              "3              12.500000          8.000000            3.380000   \n",
              "4              16.112507          4.213460            4.350000   \n",
              "...                  ...               ...                 ...   \n",
              "1270            7.500000          4.618799            2.025568   \n",
              "1271            7.500000          2.000000            2.030000   \n",
              "1272           13.100000          5.000000            3.540000   \n",
              "1273            9.000000          5.000000            2.430000   \n",
              "1274            7.800000          8.000000            2.110000   \n",
              "\n",
              "      customer_service_call_count  \n",
              "0                        2.232184  \n",
              "1                        2.228930  \n",
              "2                        1.000000  \n",
              "3                        2.000000  \n",
              "4                        3.000000  \n",
              "...                           ...  \n",
              "1270                     0.000000  \n",
              "1271                     2.068476  \n",
              "1272                     2.048088  \n",
              "1273                     2.053188  \n",
              "1274                     2.000000  \n",
              "\n",
              "[1275 rows x 20 columns]"
            ],
            "text/html": [
              "\n",
              "  <div id=\"df-7652e627-f93a-4c64-9638-506df8a57498\" class=\"colab-df-container\">\n",
              "    <div>\n",
              "<style scoped>\n",
              "    .dataframe tbody tr th:only-of-type {\n",
              "        vertical-align: middle;\n",
              "    }\n",
              "\n",
              "    .dataframe tbody tr th {\n",
              "        vertical-align: top;\n",
              "    }\n",
              "\n",
              "    .dataframe thead th {\n",
              "        text-align: right;\n",
              "    }\n",
              "</style>\n",
              "<table border=\"1\" class=\"dataframe\">\n",
              "  <thead>\n",
              "    <tr style=\"text-align: right;\">\n",
              "      <th></th>\n",
              "      <th>id</th>\n",
              "      <th>customer_state</th>\n",
              "      <th>customer_account_duration</th>\n",
              "      <th>customer_area_code</th>\n",
              "      <th>has_international_plan</th>\n",
              "      <th>has_voice_mail_plan</th>\n",
              "      <th>voice_mail_message_count</th>\n",
              "      <th>daytime_total_minutes</th>\n",
              "      <th>daytime_total_calls</th>\n",
              "      <th>daytime_total_charges</th>\n",
              "      <th>evening_total_minutes</th>\n",
              "      <th>evening_total_calls</th>\n",
              "      <th>evening_total_charges</th>\n",
              "      <th>nighttime_total_minutes</th>\n",
              "      <th>nighttime_total_calls</th>\n",
              "      <th>nighttime_total_charges</th>\n",
              "      <th>intl_total_minutes</th>\n",
              "      <th>intl_total_calls</th>\n",
              "      <th>intl_total_charges</th>\n",
              "      <th>customer_service_call_count</th>\n",
              "    </tr>\n",
              "  </thead>\n",
              "  <tbody>\n",
              "    <tr>\n",
              "      <th>0</th>\n",
              "      <td>2976.0</td>\n",
              "      <td>OK</td>\n",
              "      <td>91.000000</td>\n",
              "      <td>408</td>\n",
              "      <td>False</td>\n",
              "      <td>True</td>\n",
              "      <td>8.900604</td>\n",
              "      <td>270.285750</td>\n",
              "      <td>78.000000</td>\n",
              "      <td>44.41</td>\n",
              "      <td>209.300000</td>\n",
              "      <td>98.000000</td>\n",
              "      <td>17.530000</td>\n",
              "      <td>292.600000</td>\n",
              "      <td>99.769387</td>\n",
              "      <td>12.44</td>\n",
              "      <td>9.600000</td>\n",
              "      <td>2.000000</td>\n",
              "      <td>2.590000</td>\n",
              "      <td>2.232184</td>\n",
              "    </tr>\n",
              "    <tr>\n",
              "      <th>1</th>\n",
              "      <td>2977.0</td>\n",
              "      <td>NJ</td>\n",
              "      <td>95.000000</td>\n",
              "      <td>415</td>\n",
              "      <td>False</td>\n",
              "      <td>True</td>\n",
              "      <td>22.000000</td>\n",
              "      <td>39.300000</td>\n",
              "      <td>126.000000</td>\n",
              "      <td>6.46</td>\n",
              "      <td>265.794087</td>\n",
              "      <td>90.000000</td>\n",
              "      <td>20.548968</td>\n",
              "      <td>269.000000</td>\n",
              "      <td>99.761699</td>\n",
              "      <td>11.06</td>\n",
              "      <td>11.900000</td>\n",
              "      <td>7.000000</td>\n",
              "      <td>3.213626</td>\n",
              "      <td>2.228930</td>\n",
              "    </tr>\n",
              "    <tr>\n",
              "      <th>2</th>\n",
              "      <td>2978.0</td>\n",
              "      <td>GA</td>\n",
              "      <td>73.000000</td>\n",
              "      <td>408</td>\n",
              "      <td>False</td>\n",
              "      <td>False</td>\n",
              "      <td>0.000000</td>\n",
              "      <td>157.848775</td>\n",
              "      <td>92.000000</td>\n",
              "      <td>29.13</td>\n",
              "      <td>397.200000</td>\n",
              "      <td>87.000000</td>\n",
              "      <td>34.800000</td>\n",
              "      <td>382.493815</td>\n",
              "      <td>106.000000</td>\n",
              "      <td>17.86</td>\n",
              "      <td>9.107631</td>\n",
              "      <td>4.116864</td>\n",
              "      <td>2.460000</td>\n",
              "      <td>1.000000</td>\n",
              "    </tr>\n",
              "    <tr>\n",
              "      <th>3</th>\n",
              "      <td>2979.0</td>\n",
              "      <td>WY</td>\n",
              "      <td>54.000000</td>\n",
              "      <td>408</td>\n",
              "      <td>False</td>\n",
              "      <td>True</td>\n",
              "      <td>39.000000</td>\n",
              "      <td>148.689689</td>\n",
              "      <td>73.000000</td>\n",
              "      <td>25.82</td>\n",
              "      <td>218.386677</td>\n",
              "      <td>117.000000</td>\n",
              "      <td>18.870000</td>\n",
              "      <td>131.300000</td>\n",
              "      <td>117.000000</td>\n",
              "      <td>6.13</td>\n",
              "      <td>12.500000</td>\n",
              "      <td>8.000000</td>\n",
              "      <td>3.380000</td>\n",
              "      <td>2.000000</td>\n",
              "    </tr>\n",
              "    <tr>\n",
              "      <th>4</th>\n",
              "      <td>2980.0</td>\n",
              "      <td>KS</td>\n",
              "      <td>108.000000</td>\n",
              "      <td>408</td>\n",
              "      <td>False</td>\n",
              "      <td>False</td>\n",
              "      <td>0.000000</td>\n",
              "      <td>417.200000</td>\n",
              "      <td>48.000000</td>\n",
              "      <td>79.43</td>\n",
              "      <td>196.100000</td>\n",
              "      <td>100.165644</td>\n",
              "      <td>17.961604</td>\n",
              "      <td>204.400000</td>\n",
              "      <td>84.000000</td>\n",
              "      <td>9.85</td>\n",
              "      <td>16.112507</td>\n",
              "      <td>4.213460</td>\n",
              "      <td>4.350000</td>\n",
              "      <td>3.000000</td>\n",
              "    </tr>\n",
              "    <tr>\n",
              "      <th>...</th>\n",
              "      <td>...</td>\n",
              "      <td>...</td>\n",
              "      <td>...</td>\n",
              "      <td>...</td>\n",
              "      <td>...</td>\n",
              "      <td>...</td>\n",
              "      <td>...</td>\n",
              "      <td>...</td>\n",
              "      <td>...</td>\n",
              "      <td>...</td>\n",
              "      <td>...</td>\n",
              "      <td>...</td>\n",
              "      <td>...</td>\n",
              "      <td>...</td>\n",
              "      <td>...</td>\n",
              "      <td>...</td>\n",
              "      <td>...</td>\n",
              "      <td>...</td>\n",
              "      <td>...</td>\n",
              "      <td>...</td>\n",
              "    </tr>\n",
              "    <tr>\n",
              "      <th>1270</th>\n",
              "      <td>4246.0</td>\n",
              "      <td>NC</td>\n",
              "      <td>64.000000</td>\n",
              "      <td>408</td>\n",
              "      <td>False</td>\n",
              "      <td>True</td>\n",
              "      <td>19.000000</td>\n",
              "      <td>170.100000</td>\n",
              "      <td>99.145526</td>\n",
              "      <td>30.50</td>\n",
              "      <td>120.950267</td>\n",
              "      <td>92.000000</td>\n",
              "      <td>10.800000</td>\n",
              "      <td>234.300000</td>\n",
              "      <td>118.000000</td>\n",
              "      <td>10.64</td>\n",
              "      <td>7.500000</td>\n",
              "      <td>4.618799</td>\n",
              "      <td>2.025568</td>\n",
              "      <td>0.000000</td>\n",
              "    </tr>\n",
              "    <tr>\n",
              "      <th>1271</th>\n",
              "      <td>4247.0</td>\n",
              "      <td>UNKNOWN</td>\n",
              "      <td>63.000000</td>\n",
              "      <td>415</td>\n",
              "      <td>False</td>\n",
              "      <td>False</td>\n",
              "      <td>0.000000</td>\n",
              "      <td>144.200000</td>\n",
              "      <td>92.000000</td>\n",
              "      <td>22.77</td>\n",
              "      <td>198.600000</td>\n",
              "      <td>102.000000</td>\n",
              "      <td>16.640000</td>\n",
              "      <td>232.400000</td>\n",
              "      <td>120.000000</td>\n",
              "      <td>9.68</td>\n",
              "      <td>7.500000</td>\n",
              "      <td>2.000000</td>\n",
              "      <td>2.030000</td>\n",
              "      <td>2.068476</td>\n",
              "    </tr>\n",
              "    <tr>\n",
              "      <th>1272</th>\n",
              "      <td>4248.0</td>\n",
              "      <td>MN</td>\n",
              "      <td>53.000000</td>\n",
              "      <td>415</td>\n",
              "      <td>False</td>\n",
              "      <td>True</td>\n",
              "      <td>24.000000</td>\n",
              "      <td>363.789474</td>\n",
              "      <td>146.000000</td>\n",
              "      <td>59.74</td>\n",
              "      <td>218.282736</td>\n",
              "      <td>136.000000</td>\n",
              "      <td>17.220000</td>\n",
              "      <td>245.200000</td>\n",
              "      <td>99.312311</td>\n",
              "      <td>10.34</td>\n",
              "      <td>13.100000</td>\n",
              "      <td>5.000000</td>\n",
              "      <td>3.540000</td>\n",
              "      <td>2.048088</td>\n",
              "    </tr>\n",
              "    <tr>\n",
              "      <th>1273</th>\n",
              "      <td>4249.0</td>\n",
              "      <td>ID</td>\n",
              "      <td>92.000000</td>\n",
              "      <td>415</td>\n",
              "      <td>False</td>\n",
              "      <td>False</td>\n",
              "      <td>0.000000</td>\n",
              "      <td>171.000000</td>\n",
              "      <td>140.000000</td>\n",
              "      <td>27.69</td>\n",
              "      <td>236.890979</td>\n",
              "      <td>105.000000</td>\n",
              "      <td>19.220000</td>\n",
              "      <td>232.300000</td>\n",
              "      <td>117.000000</td>\n",
              "      <td>9.87</td>\n",
              "      <td>9.000000</td>\n",
              "      <td>5.000000</td>\n",
              "      <td>2.430000</td>\n",
              "      <td>2.053188</td>\n",
              "    </tr>\n",
              "    <tr>\n",
              "      <th>1274</th>\n",
              "      <td>4250.0</td>\n",
              "      <td>AR</td>\n",
              "      <td>99.023956</td>\n",
              "      <td>415</td>\n",
              "      <td>False</td>\n",
              "      <td>False</td>\n",
              "      <td>0.000000</td>\n",
              "      <td>135.800000</td>\n",
              "      <td>87.000000</td>\n",
              "      <td>24.30</td>\n",
              "      <td>194.229057</td>\n",
              "      <td>88.000000</td>\n",
              "      <td>16.680000</td>\n",
              "      <td>124.200000</td>\n",
              "      <td>99.432670</td>\n",
              "      <td>5.51</td>\n",
              "      <td>7.800000</td>\n",
              "      <td>8.000000</td>\n",
              "      <td>2.110000</td>\n",
              "      <td>2.000000</td>\n",
              "    </tr>\n",
              "  </tbody>\n",
              "</table>\n",
              "<p>1275 rows × 20 columns</p>\n",
              "</div>\n",
              "    <div class=\"colab-df-buttons\">\n",
              "\n",
              "  <div class=\"colab-df-container\">\n",
              "    <button class=\"colab-df-convert\" onclick=\"convertToInteractive('df-7652e627-f93a-4c64-9638-506df8a57498')\"\n",
              "            title=\"Convert this dataframe to an interactive table.\"\n",
              "            style=\"display:none;\">\n",
              "\n",
              "  <svg xmlns=\"http://www.w3.org/2000/svg\" height=\"24px\" viewBox=\"0 -960 960 960\">\n",
              "    <path d=\"M120-120v-720h720v720H120Zm60-500h600v-160H180v160Zm220 220h160v-160H400v160Zm0 220h160v-160H400v160ZM180-400h160v-160H180v160Zm440 0h160v-160H620v160ZM180-180h160v-160H180v160Zm440 0h160v-160H620v160Z\"/>\n",
              "  </svg>\n",
              "    </button>\n",
              "\n",
              "  <style>\n",
              "    .colab-df-container {\n",
              "      display:flex;\n",
              "      gap: 12px;\n",
              "    }\n",
              "\n",
              "    .colab-df-convert {\n",
              "      background-color: #E8F0FE;\n",
              "      border: none;\n",
              "      border-radius: 50%;\n",
              "      cursor: pointer;\n",
              "      display: none;\n",
              "      fill: #1967D2;\n",
              "      height: 32px;\n",
              "      padding: 0 0 0 0;\n",
              "      width: 32px;\n",
              "    }\n",
              "\n",
              "    .colab-df-convert:hover {\n",
              "      background-color: #E2EBFA;\n",
              "      box-shadow: 0px 1px 2px rgba(60, 64, 67, 0.3), 0px 1px 3px 1px rgba(60, 64, 67, 0.15);\n",
              "      fill: #174EA6;\n",
              "    }\n",
              "\n",
              "    .colab-df-buttons div {\n",
              "      margin-bottom: 4px;\n",
              "    }\n",
              "\n",
              "    [theme=dark] .colab-df-convert {\n",
              "      background-color: #3B4455;\n",
              "      fill: #D2E3FC;\n",
              "    }\n",
              "\n",
              "    [theme=dark] .colab-df-convert:hover {\n",
              "      background-color: #434B5C;\n",
              "      box-shadow: 0px 1px 3px 1px rgba(0, 0, 0, 0.15);\n",
              "      filter: drop-shadow(0px 1px 2px rgba(0, 0, 0, 0.3));\n",
              "      fill: #FFFFFF;\n",
              "    }\n",
              "  </style>\n",
              "\n",
              "    <script>\n",
              "      const buttonEl =\n",
              "        document.querySelector('#df-7652e627-f93a-4c64-9638-506df8a57498 button.colab-df-convert');\n",
              "      buttonEl.style.display =\n",
              "        google.colab.kernel.accessAllowed ? 'block' : 'none';\n",
              "\n",
              "      async function convertToInteractive(key) {\n",
              "        const element = document.querySelector('#df-7652e627-f93a-4c64-9638-506df8a57498');\n",
              "        const dataTable =\n",
              "          await google.colab.kernel.invokeFunction('convertToInteractive',\n",
              "                                                    [key], {});\n",
              "        if (!dataTable) return;\n",
              "\n",
              "        const docLinkHtml = 'Like what you see? Visit the ' +\n",
              "          '<a target=\"_blank\" href=https://colab.research.google.com/notebooks/data_table.ipynb>data table notebook</a>'\n",
              "          + ' to learn more about interactive tables.';\n",
              "        element.innerHTML = '';\n",
              "        dataTable['output_type'] = 'display_data';\n",
              "        await google.colab.output.renderOutput(dataTable, element);\n",
              "        const docLink = document.createElement('div');\n",
              "        docLink.innerHTML = docLinkHtml;\n",
              "        element.appendChild(docLink);\n",
              "      }\n",
              "    </script>\n",
              "  </div>\n",
              "\n",
              "\n",
              "<div id=\"df-e44df3a2-2cbd-459a-abbb-f33ac6545ed4\">\n",
              "  <button class=\"colab-df-quickchart\" onclick=\"quickchart('df-e44df3a2-2cbd-459a-abbb-f33ac6545ed4')\"\n",
              "            title=\"Suggest charts\"\n",
              "            style=\"display:none;\">\n",
              "\n",
              "<svg xmlns=\"http://www.w3.org/2000/svg\" height=\"24px\"viewBox=\"0 0 24 24\"\n",
              "     width=\"24px\">\n",
              "    <g>\n",
              "        <path d=\"M19 3H5c-1.1 0-2 .9-2 2v14c0 1.1.9 2 2 2h14c1.1 0 2-.9 2-2V5c0-1.1-.9-2-2-2zM9 17H7v-7h2v7zm4 0h-2V7h2v10zm4 0h-2v-4h2v4z\"/>\n",
              "    </g>\n",
              "</svg>\n",
              "  </button>\n",
              "\n",
              "<style>\n",
              "  .colab-df-quickchart {\n",
              "      --bg-color: #E8F0FE;\n",
              "      --fill-color: #1967D2;\n",
              "      --hover-bg-color: #E2EBFA;\n",
              "      --hover-fill-color: #174EA6;\n",
              "      --disabled-fill-color: #AAA;\n",
              "      --disabled-bg-color: #DDD;\n",
              "  }\n",
              "\n",
              "  [theme=dark] .colab-df-quickchart {\n",
              "      --bg-color: #3B4455;\n",
              "      --fill-color: #D2E3FC;\n",
              "      --hover-bg-color: #434B5C;\n",
              "      --hover-fill-color: #FFFFFF;\n",
              "      --disabled-bg-color: #3B4455;\n",
              "      --disabled-fill-color: #666;\n",
              "  }\n",
              "\n",
              "  .colab-df-quickchart {\n",
              "    background-color: var(--bg-color);\n",
              "    border: none;\n",
              "    border-radius: 50%;\n",
              "    cursor: pointer;\n",
              "    display: none;\n",
              "    fill: var(--fill-color);\n",
              "    height: 32px;\n",
              "    padding: 0;\n",
              "    width: 32px;\n",
              "  }\n",
              "\n",
              "  .colab-df-quickchart:hover {\n",
              "    background-color: var(--hover-bg-color);\n",
              "    box-shadow: 0 1px 2px rgba(60, 64, 67, 0.3), 0 1px 3px 1px rgba(60, 64, 67, 0.15);\n",
              "    fill: var(--button-hover-fill-color);\n",
              "  }\n",
              "\n",
              "  .colab-df-quickchart-complete:disabled,\n",
              "  .colab-df-quickchart-complete:disabled:hover {\n",
              "    background-color: var(--disabled-bg-color);\n",
              "    fill: var(--disabled-fill-color);\n",
              "    box-shadow: none;\n",
              "  }\n",
              "\n",
              "  .colab-df-spinner {\n",
              "    border: 2px solid var(--fill-color);\n",
              "    border-color: transparent;\n",
              "    border-bottom-color: var(--fill-color);\n",
              "    animation:\n",
              "      spin 1s steps(1) infinite;\n",
              "  }\n",
              "\n",
              "  @keyframes spin {\n",
              "    0% {\n",
              "      border-color: transparent;\n",
              "      border-bottom-color: var(--fill-color);\n",
              "      border-left-color: var(--fill-color);\n",
              "    }\n",
              "    20% {\n",
              "      border-color: transparent;\n",
              "      border-left-color: var(--fill-color);\n",
              "      border-top-color: var(--fill-color);\n",
              "    }\n",
              "    30% {\n",
              "      border-color: transparent;\n",
              "      border-left-color: var(--fill-color);\n",
              "      border-top-color: var(--fill-color);\n",
              "      border-right-color: var(--fill-color);\n",
              "    }\n",
              "    40% {\n",
              "      border-color: transparent;\n",
              "      border-right-color: var(--fill-color);\n",
              "      border-top-color: var(--fill-color);\n",
              "    }\n",
              "    60% {\n",
              "      border-color: transparent;\n",
              "      border-right-color: var(--fill-color);\n",
              "    }\n",
              "    80% {\n",
              "      border-color: transparent;\n",
              "      border-right-color: var(--fill-color);\n",
              "      border-bottom-color: var(--fill-color);\n",
              "    }\n",
              "    90% {\n",
              "      border-color: transparent;\n",
              "      border-bottom-color: var(--fill-color);\n",
              "    }\n",
              "  }\n",
              "</style>\n",
              "\n",
              "  <script>\n",
              "    async function quickchart(key) {\n",
              "      const quickchartButtonEl =\n",
              "        document.querySelector('#' + key + ' button');\n",
              "      quickchartButtonEl.disabled = true;  // To prevent multiple clicks.\n",
              "      quickchartButtonEl.classList.add('colab-df-spinner');\n",
              "      try {\n",
              "        const charts = await google.colab.kernel.invokeFunction(\n",
              "            'suggestCharts', [key], {});\n",
              "      } catch (error) {\n",
              "        console.error('Error during call to suggestCharts:', error);\n",
              "      }\n",
              "      quickchartButtonEl.classList.remove('colab-df-spinner');\n",
              "      quickchartButtonEl.classList.add('colab-df-quickchart-complete');\n",
              "    }\n",
              "    (() => {\n",
              "      let quickchartButtonEl =\n",
              "        document.querySelector('#df-e44df3a2-2cbd-459a-abbb-f33ac6545ed4 button');\n",
              "      quickchartButtonEl.style.display =\n",
              "        google.colab.kernel.accessAllowed ? 'block' : 'none';\n",
              "    })();\n",
              "  </script>\n",
              "</div>\n",
              "\n",
              "    </div>\n",
              "  </div>\n"
            ],
            "application/vnd.google.colaboratory.intrinsic+json": {
              "type": "dataframe",
              "summary": "{\n  \"name\": \"impute_categorical_columns(test_df)\",\n  \"rows\": 1275,\n  \"fields\": [\n    {\n      \"column\": \"id\",\n      \"properties\": {\n        \"dtype\": \"number\",\n        \"std\": 368.2051058852932,\n        \"min\": 2976.0,\n        \"max\": 4250.0,\n        \"num_unique_values\": 1275,\n        \"samples\": [\n          4155.0,\n          3318.0,\n          3625.0\n        ],\n        \"semantic_type\": \"\",\n        \"description\": \"\"\n      }\n    },\n    {\n      \"column\": \"customer_state\",\n      \"properties\": {\n        \"dtype\": \"category\",\n        \"num_unique_values\": 52,\n        \"samples\": [\n          \"KY\",\n          \"PA\",\n          \"NE\"\n        ],\n        \"semantic_type\": \"\",\n        \"description\": \"\"\n      }\n    },\n    {\n      \"column\": \"customer_account_duration\",\n      \"properties\": {\n        \"dtype\": \"number\",\n        \"std\": 36.29551858373221,\n        \"min\": 1.0,\n        \"max\": 243.0,\n        \"num_unique_values\": 437,\n        \"samples\": [\n          99.01490802289193,\n          98.81617457098142,\n          98.83608612386546\n        ],\n        \"semantic_type\": \"\",\n        \"description\": \"\"\n      }\n    },\n    {\n      \"column\": \"customer_area_code\",\n      \"properties\": {\n        \"dtype\": \"category\",\n        \"num_unique_values\": 3,\n        \"samples\": [\n          \"408\",\n          \"415\",\n          \"510\"\n        ],\n        \"semantic_type\": \"\",\n        \"description\": \"\"\n      }\n    },\n    {\n      \"column\": \"has_international_plan\",\n      \"properties\": {\n        \"dtype\": \"category\",\n        \"num_unique_values\": 2,\n        \"samples\": [\n          true,\n          false\n        ],\n        \"semantic_type\": \"\",\n        \"description\": \"\"\n      }\n    },\n    {\n      \"column\": \"has_voice_mail_plan\",\n      \"properties\": {\n        \"dtype\": \"category\",\n        \"num_unique_values\": 2,\n        \"samples\": [\n          false,\n          true\n        ],\n        \"semantic_type\": \"\",\n        \"description\": \"\"\n      }\n    },\n    {\n      \"column\": \"voice_mail_message_count\",\n      \"properties\": {\n        \"dtype\": \"number\",\n        \"std\": 11.830912143760838,\n        \"min\": 0.0,\n        \"max\": 49.0,\n        \"num_unique_values\": 368,\n        \"samples\": [\n          8.115999085615194,\n          30.0\n        ],\n        \"semantic_type\": \"\",\n        \"description\": \"\"\n      }\n    },\n    {\n      \"column\": \"daytime_total_minutes\",\n      \"properties\": {\n        \"dtype\": \"number\",\n        \"std\": 94.35021815516939,\n        \"min\": 2.6,\n        \"max\": 711.2,\n        \"num_unique_values\": 1134,\n        \"samples\": [\n          126.8,\n          141.4\n        ],\n        \"semantic_type\": \"\",\n        \"description\": \"\"\n      }\n    },\n    {\n      \"column\": \"daytime_total_calls\",\n      \"properties\": {\n        \"dtype\": \"number\",\n        \"std\": 18.41259899339622,\n        \"min\": 34.0,\n        \"max\": 158.0,\n        \"num_unique_values\": 297,\n        \"samples\": [\n          99.41688716435873,\n          99.40128384048603\n        ],\n        \"semantic_type\": \"\",\n        \"description\": \"\"\n      }\n    },\n    {\n      \"column\": \"daytime_total_charges\",\n      \"properties\": {\n        \"dtype\": \"number\",\n        \"std\": 16.45799684373247,\n        \"min\": 0.42,\n        \"max\": 132.94,\n        \"num_unique_values\": 1114,\n        \"samples\": [\n          17.44,\n          33.98\n        ],\n        \"semantic_type\": \"\",\n        \"description\": \"\"\n      }\n    },\n    {\n      \"column\": \"evening_total_minutes\",\n      \"properties\": {\n        \"dtype\": \"number\",\n        \"std\": 94.30191987198135,\n        \"min\": 46.3,\n        \"max\": 603.3,\n        \"num_unique_values\": 1128,\n        \"samples\": [\n          166.37943890412777,\n          216.4\n        ],\n        \"semantic_type\": \"\",\n        \"description\": \"\"\n      }\n    },\n    {\n      \"column\": \"evening_total_calls\",\n      \"properties\": {\n        \"dtype\": \"number\",\n        \"std\": 17.8981217353629,\n        \"min\": 46.0,\n        \"max\": 155.0,\n        \"num_unique_values\": 302,\n        \"samples\": [\n          99.35096710075793,\n          101.52937914439882\n        ],\n        \"semantic_type\": \"\",\n        \"description\": \"\"\n      }\n    },\n    {\n      \"column\": \"evening_total_charges\",\n      \"properties\": {\n        \"dtype\": \"number\",\n        \"std\": 7.993076844523805,\n        \"min\": 3.43,\n        \"max\": 49.35936770719829,\n        \"num_unique_values\": 1088,\n        \"samples\": [\n          17.3,\n          14.310823948109904\n        ],\n        \"semantic_type\": \"\",\n        \"description\": \"\"\n      }\n    },\n    {\n      \"column\": \"nighttime_total_minutes\",\n      \"properties\": {\n        \"dtype\": \"number\",\n        \"std\": 82.43078473730168,\n        \"min\": 22.6,\n        \"max\": 613.8,\n        \"num_unique_values\": 1042,\n        \"samples\": [\n          235.13150866248267,\n          215.3\n        ],\n        \"semantic_type\": \"\",\n        \"description\": \"\"\n      }\n    },\n    {\n      \"column\": \"nighttime_total_calls\",\n      \"properties\": {\n        \"dtype\": \"number\",\n        \"std\": 16.955658189282534,\n        \"min\": 33.0,\n        \"max\": 170.0,\n        \"num_unique_values\": 465,\n        \"samples\": [\n          124.0,\n          76.0\n        ],\n        \"semantic_type\": \"\",\n        \"description\": \"\"\n      }\n    },\n    {\n      \"column\": \"nighttime_total_charges\",\n      \"properties\": {\n        \"dtype\": \"number\",\n        \"std\": 3.787548235941042,\n        \"min\": 1.09,\n        \"max\": 27.543458357416178,\n        \"num_unique_values\": 960,\n        \"samples\": [\n          6.611796168981309,\n          8.51\n        ],\n        \"semantic_type\": \"\",\n        \"description\": \"\"\n      }\n    },\n    {\n      \"column\": \"intl_total_minutes\",\n      \"properties\": {\n        \"dtype\": \"number\",\n        \"std\": 2.685189519381495,\n        \"min\": 0.0,\n        \"max\": 19.2,\n        \"num_unique_values\": 407,\n        \"samples\": [\n          8.3,\n          10.25649605952036\n        ],\n        \"semantic_type\": \"\",\n        \"description\": \"\"\n      }\n    },\n    {\n      \"column\": \"intl_total_calls\",\n      \"properties\": {\n        \"dtype\": \"number\",\n        \"std\": 2.2695777268684907,\n        \"min\": 0.0,\n        \"max\": 19.0,\n        \"num_unique_values\": 254,\n        \"samples\": [\n          4.377067935759154,\n          3.0\n        ],\n        \"semantic_type\": \"\",\n        \"description\": \"\"\n      }\n    },\n    {\n      \"column\": \"intl_total_charges\",\n      \"properties\": {\n        \"dtype\": \"number\",\n        \"std\": 0.7248854899071149,\n        \"min\": 0.0,\n        \"max\": 5.184136581992301,\n        \"num_unique_values\": 436,\n        \"samples\": [\n          2.7817220235636944,\n          1.73\n        ],\n        \"semantic_type\": \"\",\n        \"description\": \"\"\n      }\n    },\n    {\n      \"column\": \"customer_service_call_count\",\n      \"properties\": {\n        \"dtype\": \"number\",\n        \"std\": 1.5330783772849566,\n        \"min\": 0.0,\n        \"max\": 12.0,\n        \"num_unique_values\": 376,\n        \"samples\": [\n          2.0857526231559214,\n          2.0634769514235014\n        ],\n        \"semantic_type\": \"\",\n        \"description\": \"\"\n      }\n    }\n  ]\n}"
            }
          },
          "metadata": {},
          "execution_count": 251
        }
      ]
    },
    {
      "cell_type": "code",
      "source": [
        "test_df.info()"
      ],
      "metadata": {
        "colab": {
          "base_uri": "https://localhost:8080/"
        },
        "id": "vM5xKw1ArIEb",
        "outputId": "caf2d12b-382c-460b-c317-1935eb8f66c0"
      },
      "execution_count": null,
      "outputs": [
        {
          "output_type": "stream",
          "name": "stdout",
          "text": [
            "<class 'pandas.core.frame.DataFrame'>\n",
            "RangeIndex: 1275 entries, 0 to 1274\n",
            "Data columns (total 20 columns):\n",
            " #   Column                       Non-Null Count  Dtype  \n",
            "---  ------                       --------------  -----  \n",
            " 0   id                           1275 non-null   float64\n",
            " 1   customer_state               1275 non-null   float64\n",
            " 2   customer_account_duration    1275 non-null   float64\n",
            " 3   customer_area_code           1275 non-null   object \n",
            " 4   has_international_plan       1275 non-null   object \n",
            " 5   has_voice_mail_plan          1275 non-null   object \n",
            " 6   voice_mail_message_count     1275 non-null   float64\n",
            " 7   daytime_total_minutes        1275 non-null   float64\n",
            " 8   daytime_total_calls          1275 non-null   float64\n",
            " 9   daytime_total_charges        1275 non-null   float64\n",
            " 10  evening_total_minutes        1275 non-null   float64\n",
            " 11  evening_total_calls          1275 non-null   float64\n",
            " 12  evening_total_charges        1275 non-null   float64\n",
            " 13  nighttime_total_minutes      1275 non-null   float64\n",
            " 14  nighttime_total_calls        1275 non-null   float64\n",
            " 15  nighttime_total_charges      1275 non-null   float64\n",
            " 16  intl_total_minutes           1275 non-null   float64\n",
            " 17  intl_total_calls             1275 non-null   float64\n",
            " 18  intl_total_charges           1275 non-null   float64\n",
            " 19  customer_service_call_count  1275 non-null   float64\n",
            "dtypes: float64(17), object(3)\n",
            "memory usage: 199.3+ KB\n"
          ]
        }
      ]
    },
    {
      "cell_type": "code",
      "source": [
        "# List of states (or categories)\n",
        "states = ['408','415','510']\n",
        "\n",
        "# Create a mapping (dictionary) to manually encode states to numbers\n",
        "state_to_num = {state: idx for idx, state in enumerate(states)}\n",
        "\n",
        "# Apply the mapping to the 'state' column\n",
        "imputed__test_df['customer_area_code'] = imputed__test_df['customer_area_code'].map(state_to_num)"
      ],
      "metadata": {
        "id": "YMoo4aKpQd-_"
      },
      "execution_count": null,
      "outputs": []
    },
    {
      "cell_type": "code",
      "source": [
        "categorical_cols = imputed__test_df.select_dtypes(include=['object', 'bool']).columns\n",
        "le = LabelEncoder()\n",
        "for col in categorical_cols:\n",
        "    imputed__test_df[col] = le.fit_transform(imputed__test_df[col])"
      ],
      "metadata": {
        "id": "JgY_CTpaQop8"
      },
      "execution_count": null,
      "outputs": []
    },
    {
      "cell_type": "code",
      "source": [
        "imputed__test_df.info()"
      ],
      "metadata": {
        "colab": {
          "base_uri": "https://localhost:8080/"
        },
        "id": "A1HXG2RWQw11",
        "outputId": "65835234-7c01-483e-c775-61dbac0468a6"
      },
      "execution_count": null,
      "outputs": [
        {
          "output_type": "stream",
          "name": "stdout",
          "text": [
            "<class 'pandas.core.frame.DataFrame'>\n",
            "RangeIndex: 1275 entries, 0 to 1274\n",
            "Data columns (total 20 columns):\n",
            " #   Column                       Non-Null Count  Dtype  \n",
            "---  ------                       --------------  -----  \n",
            " 0   id                           1275 non-null   float64\n",
            " 1   customer_state               1275 non-null   float64\n",
            " 2   customer_account_duration    1275 non-null   float64\n",
            " 3   customer_area_code           1275 non-null   int64  \n",
            " 4   has_international_plan       1275 non-null   int64  \n",
            " 5   has_voice_mail_plan          1275 non-null   int64  \n",
            " 6   voice_mail_message_count     1275 non-null   float64\n",
            " 7   daytime_total_minutes        1275 non-null   float64\n",
            " 8   daytime_total_calls          1275 non-null   float64\n",
            " 9   daytime_total_charges        1275 non-null   float64\n",
            " 10  evening_total_minutes        1275 non-null   float64\n",
            " 11  evening_total_calls          1275 non-null   float64\n",
            " 12  evening_total_charges        1275 non-null   float64\n",
            " 13  nighttime_total_minutes      1275 non-null   float64\n",
            " 14  nighttime_total_calls        1275 non-null   float64\n",
            " 15  nighttime_total_charges      1275 non-null   float64\n",
            " 16  intl_total_minutes           1275 non-null   float64\n",
            " 17  intl_total_calls             1275 non-null   float64\n",
            " 18  intl_total_charges           1275 non-null   float64\n",
            " 19  customer_service_call_count  1275 non-null   float64\n",
            "dtypes: float64(17), int64(3)\n",
            "memory usage: 199.3 KB\n"
          ]
        }
      ]
    },
    {
      "cell_type": "code",
      "source": [
        "import pandas as pd\n",
        "from sklearn.preprocessing import StandardScaler\n",
        "\n",
        "imputed__train_df.drop(columns=['id'], inplace=True)\n",
        "imputed__test_df.drop(columns=['id'], inplace=True)\n",
        "\n",
        "# Define the feature and target variables\n",
        "x_train = imputed__train_df.drop(columns=['churn'])\n",
        "y_train = imputed__train_df['churn']\n",
        "x_test = imputed__test_df\n",
        "\n",
        "# Split the data into numeric and categorical columns\n",
        "x_train_numeric = x_train.drop(columns=['customer_state', 'customer_area_code', 'has_international_plan', 'has_voice_mail_plan'])\n",
        "x_test_numeric = x_test.drop(columns=['customer_state', 'customer_area_code', 'has_international_plan', 'has_voice_mail_plan'])\n",
        "\n",
        "x_train_cat = x_train[['customer_state', 'customer_area_code', 'has_international_plan', 'has_voice_mail_plan']]\n",
        "x_test_cat = x_test[['customer_state', 'customer_area_code', 'has_international_plan', 'has_voice_mail_plan']]\n",
        "\n",
        "# Initialize StandardScaler\n",
        "scaler = StandardScaler()\n",
        "\n",
        "# Fit and transform the numeric columns for training data\n",
        "X_train_scaled = scaler.fit_transform(x_train_numeric)\n",
        "X_test_scaled = scaler.transform(x_test_numeric)\n",
        "\n",
        "# Convert the scaled data back to DataFrame\n",
        "X_train_scaled_df = pd.DataFrame(X_train_scaled, columns=x_train_numeric.columns)\n",
        "X_test_scaled_df = pd.DataFrame(X_test_scaled, columns=x_test_numeric.columns)\n",
        "\n",
        "# Concatenate the scaled numeric data with the categorical data\n",
        "X_train_final = pd.concat([X_train_scaled_df, x_train_cat], axis=1)\n",
        "X_test_final = pd.concat([X_test_scaled_df, x_test_cat], axis=1)\n",
        "\n",
        "# Show the final DataFrames\n",
        "print(X_train_final.head())\n",
        "print(X_test_final.head())\n"
      ],
      "metadata": {
        "colab": {
          "base_uri": "https://localhost:8080/"
        },
        "id": "fqd0qYa4Q0wW",
        "outputId": "5f90dc77-3edc-4a5e-9c26-481fa902b132",
        "collapsed": true
      },
      "execution_count": null,
      "outputs": [
        {
          "output_type": "stream",
          "name": "stdout",
          "text": [
            "   customer_account_duration  voice_mail_message_count  daytime_total_minutes  \\\n",
            "0                   0.485710                  1.198552               3.052861   \n",
            "1                  -0.614196                  1.812182              -0.775736   \n",
            "2                  -0.303966                  1.461537               3.833810   \n",
            "3                  -0.444980                 -0.002616              -1.010062   \n",
            "4                   0.000642                 -0.642337              -1.262560   \n",
            "\n",
            "   daytime_total_calls  daytime_total_charges  evening_total_minutes  \\\n",
            "0             0.664752               2.446103               0.222329   \n",
            "1             0.498885              -0.838276              -0.692870   \n",
            "2            -0.109296               4.103593               1.194526   \n",
            "3             0.775331              -1.023376              -0.044303   \n",
            "4            -1.325659              -1.288149               0.173934   \n",
            "\n",
            "   evening_total_calls  evening_total_charges  nighttime_total_minutes  \\\n",
            "0             0.521620               0.055185                -1.040323   \n",
            "1            -0.067752              -0.806764                -0.357531   \n",
            "2            -1.782289               1.594379                -0.195612   \n",
            "3             0.682358              -0.011409                 0.679573   \n",
            "4             0.575200              -0.007794                 1.372206   \n",
            "\n",
            "   nighttime_total_calls  nighttime_total_charges  intl_total_minutes  \\\n",
            "0              -0.872528                -1.185432            0.603990   \n",
            "1               0.357091                -0.446388            0.047986   \n",
            "2               1.528156                 0.165014           -1.620026   \n",
            "3               0.036544                 0.708453           -0.248550   \n",
            "4               1.469603                 1.170377            0.063337   \n",
            "\n",
            "   intl_total_calls  intl_total_charges  customer_service_call_count  \\\n",
            "0          1.155900            0.604223                    -0.196865   \n",
            "1         -0.637764            0.050097                     0.611282   \n",
            "2         -1.086180           -1.624851                    -0.172308   \n",
            "3         -0.189348           -0.251943                    -1.323758   \n",
            "4          0.259068            0.063462                    -0.678745   \n",
            "\n",
            "   customer_state  customer_area_code  has_international_plan  \\\n",
            "0               0                   0                       0   \n",
            "1               1                   0                       0   \n",
            "2               2                   1                       0   \n",
            "3               3                   1                       0   \n",
            "4               4                   0                       0   \n",
            "\n",
            "   has_voice_mail_plan  \n",
            "0                    1  \n",
            "1                    1  \n",
            "2                    1  \n",
            "3                    0  \n",
            "4                    0  \n",
            "   customer_account_duration  voice_mail_message_count  daytime_total_minutes  \\\n",
            "0                  -0.247561                  0.138149               0.487481   \n",
            "1                  -0.134750                  1.286214              -1.719735   \n",
            "2                  -0.755209                 -0.642337              -0.592467   \n",
            "3                  -1.291061                  2.776458              -0.670756   \n",
            "4                   0.231885                 -0.642337               1.894622   \n",
            "\n",
            "   daytime_total_calls  daytime_total_charges  evening_total_minutes  \\\n",
            "0            -1.215081               0.405167              -0.298184   \n",
            "1             1.438801              -1.719175               0.112949   \n",
            "2            -0.441032              -0.450168               1.722567   \n",
            "3            -1.491527              -0.635453              -0.196405   \n",
            "4            -2.873757               2.365495              -0.440142   \n",
            "\n",
            "   evening_total_calls  evening_total_charges  nighttime_total_minutes  \\\n",
            "0            -0.121331              -0.326787                 0.875184   \n",
            "1            -0.549966              -0.140765                 0.584843   \n",
            "2            -0.710703               1.843163                 1.978397   \n",
            "3             0.896675              -0.158418                -1.109217   \n",
            "4            -0.005231              -0.279016                -0.209901   \n",
            "\n",
            "   nighttime_total_calls  nighttime_total_charges  intl_total_minutes  \\\n",
            "0              -0.007659                 0.675847           -0.248550   \n",
            "1              -0.008103                 0.300874            0.603990   \n",
            "2               0.357091                 2.148567           -0.431295   \n",
            "3               1.001177                -1.038704            0.826392   \n",
            "4              -0.931081                -0.027907            2.165702   \n",
            "\n",
            "   intl_total_calls  intl_total_charges  customer_service_call_count  \\\n",
            "0         -1.086180           -0.251943                     0.115638   \n",
            "1          1.155900            0.604240                     0.113865   \n",
            "2         -0.132124           -0.430421                    -0.678745   \n",
            "3          1.604316            0.832654                    -0.033732   \n",
            "4         -0.095349            2.164374                     0.611282   \n",
            "\n",
            "   customer_state  customer_area_code  has_international_plan  \\\n",
            "0            24.0                   0                       0   \n",
            "1            21.0                   1                       0   \n",
            "2            45.0                   0                       0   \n",
            "3            14.0                   0                       0   \n",
            "4             7.0                   0                       0   \n",
            "\n",
            "   has_voice_mail_plan  \n",
            "0                    1  \n",
            "1                    1  \n",
            "2                    0  \n",
            "3                    1  \n",
            "4                    0  \n"
          ]
        }
      ]
    },
    {
      "cell_type": "code",
      "source": [
        "from sklearn.svm import SVC\n",
        "from sklearn.model_selection import train_test_split\n",
        "from sklearn.metrics import classification_report, accuracy_score\n",
        "\n",
        "# Assuming you have X_train_final, y_train (target), X_test_final already defined\n",
        "\n",
        "# Initialize the SVC model (you can customize the kernel and other hyperparameters)\n",
        "svc_model = SVC(kernel='linear', class_weight='balanced', random_state=42)\n",
        "\n",
        "# Train the model using the training data\n",
        "svc_model.fit(X_train_final, y_train)\n",
        "\n",
        "# Predict on the test set\n",
        "y_pred = svc_model.predict(X_test_final)\n",
        "\n",
        "# Evaluate the model\n",
        "accuracy = accuracy_score(y_train, svc_model.predict(X_train_final))  # Training accuracy\n",
        "print(f\"Training Accuracy: {accuracy:.4f}\")\n",
        "\n",
        "# Classification report for detailed performance metrics\n",
        "print(\"\\nClassification Report on Training Data:\")\n",
        "print(classification_report(y_train, svc_model.predict(X_train_final)))\n",
        "\n",
        "print(\"\\nPredictions on Test Data:\")\n",
        "print(y_pred)\n"
      ],
      "metadata": {
        "colab": {
          "base_uri": "https://localhost:8080/"
        },
        "id": "mgSNNGAQRCoL",
        "outputId": "bfe64acf-69a7-49dc-de53-a92bafe7b4a2"
      },
      "execution_count": null,
      "outputs": [
        {
          "output_type": "stream",
          "name": "stdout",
          "text": [
            "Training Accuracy: 0.7755\n",
            "\n",
            "Classification Report on Training Data:\n",
            "              precision    recall  f1-score   support\n",
            "\n",
            "         0.0       0.90      0.84      0.86      2556\n",
            "         1.0       0.29      0.41      0.34       419\n",
            "\n",
            "    accuracy                           0.78      2975\n",
            "   macro avg       0.59      0.62      0.60      2975\n",
            "weighted avg       0.81      0.78      0.79      2975\n",
            "\n",
            "\n",
            "Predictions on Test Data:\n",
            "[0. 0. 0. ... 1. 0. 0.]\n"
          ]
        }
      ]
    },
    {
      "cell_type": "code",
      "source": [
        "from sklearn.svm import SVC\n",
        "from sklearn.model_selection import train_test_split\n",
        "from sklearn.metrics import classification_report, accuracy_score\n",
        "\n",
        "# Assuming you have X_train_final, y_train, X_test_final already defined\n",
        "\n",
        "# Initialize the SVC model with the RBF kernel\n",
        "svc_model_rbf = SVC(kernel='rbf', class_weight='balanced', random_state=42)\n",
        "\n",
        "# Train the model using the training data\n",
        "svc_model_rbf.fit(X_train_final, y_train)\n",
        "\n",
        "# Predict on the test set\n",
        "y_pred_rbf = svc_model_rbf.predict(X_test_final)\n",
        "\n",
        "# Evaluate the model\n",
        "accuracy = accuracy_score(y_train, svc_model_rbf.predict(X_train_final))  # Training accuracy\n",
        "print(f\"Training Accuracy (RBF kernel): {accuracy:.4f}\")\n",
        "\n",
        "# Classification report for detailed performance metrics\n",
        "print(\"\\nClassification Report on Training Data (RBF kernel):\")\n",
        "print(classification_report(y_train, svc_model_rbf.predict(X_train_final)))\n",
        "\n",
        "print(\"\\nPredictions on Test Data (RBF kernel):\")\n",
        "print(y_pred_rbf)\n"
      ],
      "metadata": {
        "colab": {
          "base_uri": "https://localhost:8080/"
        },
        "id": "p0qZCBn3R6aL",
        "outputId": "87a8e1f6-0192-4e78-b745-289b579d568c"
      },
      "execution_count": null,
      "outputs": [
        {
          "output_type": "stream",
          "name": "stdout",
          "text": [
            "Training Accuracy (RBF kernel): 0.7876\n",
            "\n",
            "Classification Report on Training Data (RBF kernel):\n",
            "              precision    recall  f1-score   support\n",
            "\n",
            "         0.0       0.95      0.80      0.87      2556\n",
            "         1.0       0.37      0.72      0.49       419\n",
            "\n",
            "    accuracy                           0.79      2975\n",
            "   macro avg       0.66      0.76      0.68      2975\n",
            "weighted avg       0.87      0.79      0.81      2975\n",
            "\n",
            "\n",
            "Predictions on Test Data (RBF kernel):\n",
            "[0. 0. 0. ... 0. 0. 0.]\n"
          ]
        }
      ]
    },
    {
      "cell_type": "code",
      "source": [
        "from sklearn.svm import LinearSVC\n",
        "from sklearn.metrics import classification_report, accuracy_score\n",
        "\n",
        "# Initialize the LinearSVC model\n",
        "linear_svc_model = LinearSVC(random_state=42, max_iter=10000)\n",
        "\n",
        "# Train the model using the training data\n",
        "linear_svc_model.fit(X_train_final, y_train)\n",
        "\n",
        "# Predict on the test set\n",
        "y_pred_svc = linear_svc_model.predict(X_test_final)\n",
        "\n",
        "# Evaluate the model\n",
        "accuracy = accuracy_score(y_train, linear_svc_model.predict(X_train_final))  # Training accuracy\n",
        "print(f\"Training Accuracy (LinearSVC): {accuracy:.4f}\")\n",
        "\n",
        "# Classification report for detailed performance metrics\n",
        "print(\"\\nClassification Report on Training Data (LinearSVC):\")\n",
        "print(classification_report(y_train, linear_svc_model.predict(X_train_final), zero_division=0))\n",
        "\n",
        "print(\"\\nPredictions on Test Data (LinearSVC):\")\n",
        "print(y_pred_svc)\n"
      ],
      "metadata": {
        "colab": {
          "base_uri": "https://localhost:8080/"
        },
        "id": "Y_p-1-8-SERV",
        "outputId": "05a565cd-10a1-48a7-9ff7-6737fcb8a377"
      },
      "execution_count": null,
      "outputs": [
        {
          "output_type": "stream",
          "name": "stdout",
          "text": [
            "Training Accuracy (LinearSVC): 0.8612\n",
            "\n",
            "Classification Report on Training Data (LinearSVC):\n",
            "              precision    recall  f1-score   support\n",
            "\n",
            "         0.0       0.86      1.00      0.92      2556\n",
            "         1.0       0.62      0.04      0.07       419\n",
            "\n",
            "    accuracy                           0.86      2975\n",
            "   macro avg       0.74      0.52      0.50      2975\n",
            "weighted avg       0.83      0.86      0.80      2975\n",
            "\n",
            "\n",
            "Predictions on Test Data (LinearSVC):\n",
            "[0. 0. 0. ... 0. 0. 0.]\n"
          ]
        }
      ]
    },
    {
      "cell_type": "code",
      "source": [
        "from sklearn.neighbors import KNeighborsClassifier\n",
        "from sklearn.metrics import classification_report, accuracy_score\n",
        "\n",
        "# Initialize the KNeighborsClassifier with k=5 (or you can experiment with different values of k)\n",
        "knn_model = KNeighborsClassifier(n_neighbors=7, weights='distance', metric='manhattan')\n",
        "\n",
        "# Train the model using the training data\n",
        "knn_model.fit(X_train_final, y_train)\n",
        "\n",
        "# Predict on the test set\n",
        "y_pred_knn = knn_model.predict(X_test_final)\n",
        "\n",
        "# Evaluate the model\n",
        "accuracy = accuracy_score(y_train, knn_model.predict(X_train_final))  # Training accuracy\n",
        "print(f\"Training Accuracy (KNeighborsClassifier): {accuracy:.4f}\")\n",
        "\n",
        "# Classification report for detailed performance metrics\n",
        "print(\"\\nClassification Report on Training Data (KNeighborsClassifier):\")\n",
        "print(classification_report(y_train, knn_model.predict(X_train_final), zero_division=0))\n",
        "\n",
        "print(\"\\nPredictions on Test Data (KNeighborsClassifier):\")\n",
        "print(y_pred_knn)\n"
      ],
      "metadata": {
        "colab": {
          "base_uri": "https://localhost:8080/"
        },
        "id": "JcCsOIYASUiJ",
        "outputId": "7aed794f-b0c4-4f4e-8396-e65fc455574b"
      },
      "execution_count": null,
      "outputs": [
        {
          "output_type": "stream",
          "name": "stdout",
          "text": [
            "Training Accuracy (KNeighborsClassifier): 1.0000\n",
            "\n",
            "Classification Report on Training Data (KNeighborsClassifier):\n",
            "              precision    recall  f1-score   support\n",
            "\n",
            "         0.0       1.00      1.00      1.00      2556\n",
            "         1.0       1.00      1.00      1.00       419\n",
            "\n",
            "    accuracy                           1.00      2975\n",
            "   macro avg       1.00      1.00      1.00      2975\n",
            "weighted avg       1.00      1.00      1.00      2975\n",
            "\n",
            "\n",
            "Predictions on Test Data (KNeighborsClassifier):\n",
            "[0. 0. 0. ... 0. 0. 0.]\n"
          ]
        }
      ]
    },
    {
      "cell_type": "code",
      "source": [
        "from sklearn.tree import DecisionTreeClassifier\n",
        "from sklearn.metrics import classification_report, accuracy_score\n",
        "\n",
        "# Initialize the DecisionTreeClassifier\n",
        "dt_model = DecisionTreeClassifier()\n",
        "\n",
        "# Train the model using the training data\n",
        "dt_model.fit(X_train_final, y_train)\n",
        "\n",
        "# Predict on the test set\n",
        "y_pred_dt = dt_model.predict(X_test_final)\n",
        "\n",
        "# Evaluate the model\n",
        "accuracy = accuracy_score(y_train, dt_model.predict(X_train_final))  # Training accuracy\n",
        "print(f\"Training Accuracy (DecisionTreeClassifier): {accuracy:.4f}\")\n",
        "\n",
        "# Classification report for detailed performance metrics\n",
        "print(\"\\nClassification Report on Training Data (DecisionTreeClassifier):\")\n",
        "print(classification_report(y_train, dt_model.predict(X_train_final), zero_division=0))\n",
        "\n",
        "print(\"\\nPredictions on Test Data (DecisionTreeClassifier):\")\n",
        "print(y_pred_dt)\n"
      ],
      "metadata": {
        "colab": {
          "base_uri": "https://localhost:8080/"
        },
        "id": "7_sniNplBz0Z",
        "outputId": "6d71a768-3e80-4663-dbbf-82b4bd666497"
      },
      "execution_count": null,
      "outputs": [
        {
          "output_type": "stream",
          "name": "stdout",
          "text": [
            "Training Accuracy (DecisionTreeClassifier): 1.0000\n",
            "\n",
            "Classification Report on Training Data (DecisionTreeClassifier):\n",
            "              precision    recall  f1-score   support\n",
            "\n",
            "         0.0       1.00      1.00      1.00      2556\n",
            "         1.0       1.00      1.00      1.00       419\n",
            "\n",
            "    accuracy                           1.00      2975\n",
            "   macro avg       1.00      1.00      1.00      2975\n",
            "weighted avg       1.00      1.00      1.00      2975\n",
            "\n",
            "\n",
            "Predictions on Test Data (DecisionTreeClassifier):\n",
            "[0. 0. 0. ... 0. 0. 0.]\n"
          ]
        }
      ]
    },
    {
      "cell_type": "code",
      "source": [
        "from sklearn.ensemble import RandomForestClassifier\n",
        "from sklearn.metrics import classification_report, accuracy_score\n",
        "\n",
        "# Initialize the RandomForestClassifier (you can tune hyperparameters like n_estimators, max_depth, etc.)\n",
        "rf_model = RandomForestClassifier(n_estimators=100, random_state=42)\n",
        "\n",
        "# Train the model using the training data\n",
        "rf_model.fit(X_train_final, y_train)\n",
        "\n",
        "# Predict on the test set\n",
        "y_pred_rf = rf_model.predict(X_test_final)\n",
        "\n",
        "# Evaluate the model\n",
        "accuracy = accuracy_score(y_train, rf_model.predict(X_train_final))  # Training accuracy\n",
        "print(f\"Training Accuracy (RandomForestClassifier): {accuracy:.4f}\")\n",
        "\n",
        "# Classification report for detailed performance metrics\n",
        "print(\"\\nClassification Report on Training Data (RandomForestClassifier):\")\n",
        "print(classification_report(y_train, rf_model.predict(X_train_final), zero_division=0))\n",
        "\n",
        "print(\"\\nPredictions on Test Data (RandomForestClassifier):\")\n",
        "print(y_pred_rf)\n"
      ],
      "metadata": {
        "colab": {
          "base_uri": "https://localhost:8080/"
        },
        "id": "7ijnMh2UStkl",
        "outputId": "bd9d3c38-2ffc-465e-ad99-88539ae07abc"
      },
      "execution_count": null,
      "outputs": [
        {
          "output_type": "stream",
          "name": "stdout",
          "text": [
            "Training Accuracy (RandomForestClassifier): 1.0000\n",
            "\n",
            "Classification Report on Training Data (RandomForestClassifier):\n",
            "              precision    recall  f1-score   support\n",
            "\n",
            "         0.0       1.00      1.00      1.00      2556\n",
            "         1.0       1.00      1.00      1.00       419\n",
            "\n",
            "    accuracy                           1.00      2975\n",
            "   macro avg       1.00      1.00      1.00      2975\n",
            "weighted avg       1.00      1.00      1.00      2975\n",
            "\n",
            "\n",
            "Predictions on Test Data (RandomForestClassifier):\n",
            "[0. 0. 0. ... 0. 0. 0.]\n"
          ]
        }
      ]
    },
    {
      "cell_type": "code",
      "source": [
        "from sklearn.ensemble import HistGradientBoostingClassifier\n",
        "from sklearn.metrics import classification_report, accuracy_score\n",
        "\n",
        "# Initialize the HistGradientBoostingClassifier\n",
        "hgb_model = HistGradientBoostingClassifier(\n",
        "    random_state=42,\n",
        "    max_iter=200,\n",
        "    learning_rate=0.1,\n",
        "    max_depth=10,\n",
        "    min_samples_leaf=20\n",
        ")\n",
        "\n",
        "# Train the model using the training data\n",
        "hgb_model.fit(X_train_final, y_train)\n",
        "\n",
        "# Predict on the test set\n",
        "y_pred_hgb = hgb_model.predict(X_test_final)\n",
        "\n",
        "# Evaluate the model\n",
        "accuracy = accuracy_score(y_train, hgb_model.predict(X_train_final))  # Training accuracy\n",
        "print(f\"Training Accuracy (HistGradientBoostingClassifier): {accuracy:.4f}\")\n",
        "\n",
        "# Classification report for detailed performance metrics\n",
        "print(\"\\nClassification Report on Training Data (HistGradientBoostingClassifier):\")\n",
        "print(classification_report(y_train, hgb_model.predict(X_train_final), zero_division=0))\n",
        "\n",
        "print(\"\\nPredictions on Test Data (HistGradientBoostingClassifier):\")\n",
        "print(y_pred_hgb)\n"
      ],
      "metadata": {
        "colab": {
          "base_uri": "https://localhost:8080/"
        },
        "id": "2Un2OxhQS4kw",
        "outputId": "2245d1c6-fbdf-406f-f158-3268f6e5e393"
      },
      "execution_count": null,
      "outputs": [
        {
          "output_type": "stream",
          "name": "stdout",
          "text": [
            "Training Accuracy (HistGradientBoostingClassifier): 0.9990\n",
            "\n",
            "Classification Report on Training Data (HistGradientBoostingClassifier):\n",
            "              precision    recall  f1-score   support\n",
            "\n",
            "         0.0       1.00      1.00      1.00      2556\n",
            "         1.0       1.00      0.99      1.00       419\n",
            "\n",
            "    accuracy                           1.00      2975\n",
            "   macro avg       1.00      1.00      1.00      2975\n",
            "weighted avg       1.00      1.00      1.00      2975\n",
            "\n",
            "\n",
            "Predictions on Test Data (HistGradientBoostingClassifier):\n",
            "[0. 0. 0. ... 0. 0. 0.]\n"
          ]
        }
      ]
    },
    {
      "cell_type": "code",
      "source": [
        "import xgboost as xgb\n",
        "from sklearn.metrics import classification_report, accuracy_score\n",
        "\n",
        "# Initialize XGBoost Classifier\n",
        "xgb_model = xgb.XGBClassifier()\n",
        "\n",
        "# Train the model using the training data\n",
        "xgb_model.fit(X_train_final, y_train)\n",
        "\n",
        "# Predict on the test set\n",
        "y_pred_xgb = xgb_model.predict(X_test_final)\n",
        "\n",
        "# Evaluate the model\n",
        "accuracy = accuracy_score(y_train, xgb_model.predict(X_train_final))  # Training accuracy\n",
        "print(f\"Training Accuracy (XGBoost Classifier): {accuracy:.4f}\")\n",
        "\n",
        "# Classification report for detailed performance metrics\n",
        "print(\"\\nClassification Report on Training Data (XGBoost Classifier):\")\n",
        "print(classification_report(y_train, xgb_model.predict(X_train_final), zero_division=0))\n",
        "\n",
        "print(\"\\nPredictions on Test Data (XGBoost Classifier):\")\n",
        "print(y_pred_xgb)"
      ],
      "metadata": {
        "colab": {
          "base_uri": "https://localhost:8080/"
        },
        "id": "YPDG2J3_lwMQ",
        "outputId": "620ee057-c328-4f76-9581-55ea4f614c91"
      },
      "execution_count": null,
      "outputs": [
        {
          "output_type": "stream",
          "name": "stdout",
          "text": [
            "Training Accuracy (XGBoost Classifier): 0.9993\n",
            "\n",
            "Classification Report on Training Data (XGBoost Classifier):\n",
            "              precision    recall  f1-score   support\n",
            "\n",
            "         0.0       1.00      1.00      1.00      2556\n",
            "         1.0       1.00      1.00      1.00       419\n",
            "\n",
            "    accuracy                           1.00      2975\n",
            "   macro avg       1.00      1.00      1.00      2975\n",
            "weighted avg       1.00      1.00      1.00      2975\n",
            "\n",
            "\n",
            "Predictions on Test Data (XGBoost Classifier):\n",
            "[0 0 0 ... 0 0 0]\n"
          ]
        }
      ]
    },
    {
      "cell_type": "code",
      "source": [
        "import numpy as np\n",
        "import pandas as pd\n",
        "from tensorflow.keras.models import Sequential\n",
        "from tensorflow.keras.layers import Dense, Dropout, BatchNormalization\n",
        "from tensorflow.keras.optimizers import Adam\n",
        "from tensorflow.keras.callbacks import EarlyStopping, ReduceLROnPlateau\n",
        "from tensorflow.keras.regularizers import l1_l2\n",
        "from sklearn.preprocessing import StandardScaler\n",
        "from sklearn.metrics import classification_report, accuracy_score\n",
        "import matplotlib.pyplot as plt\n",
        "from sklearn.model_selection import StratifiedKFold\n",
        "\n",
        "def create_improved_ann_model(input_dim, num_classes):\n",
        "    \"\"\"\n",
        "    Create an improved feedforward neural network model with regularization and deeper architecture.\n",
        "    \"\"\"\n",
        "    model = Sequential([\n",
        "        # Input layer\n",
        "        Dense(256, input_dim=input_dim, activation='relu',\n",
        "              kernel_regularizer=l1_l2(l1=1e-5, l2=1e-4)),\n",
        "        BatchNormalization(),\n",
        "        Dropout(0.4),\n",
        "\n",
        "        # Hidden layers with increasing complexity\n",
        "        Dense(192, activation='relu', kernel_regularizer=l1_l2(l1=1e-5, l2=1e-4)),\n",
        "        BatchNormalization(),\n",
        "        Dropout(0.4),\n",
        "\n",
        "        Dense(128, activation='relu', kernel_regularizer=l1_l2(l1=1e-5, l2=1e-4)),\n",
        "        BatchNormalization(),\n",
        "        Dropout(0.3),\n",
        "\n",
        "        Dense(96, activation='relu', kernel_regularizer=l1_l2(l1=1e-5, l2=1e-4)),\n",
        "        BatchNormalization(),\n",
        "        Dropout(0.3),\n",
        "\n",
        "        Dense(64, activation='relu', kernel_regularizer=l1_l2(l1=1e-5, l2=1e-4)),\n",
        "        BatchNormalization(),\n",
        "        Dropout(0.2),\n",
        "\n",
        "        # Output layer\n",
        "        Dense(1, activation='sigmoid') if num_classes == 2 else Dense(num_classes, activation='softmax')\n",
        "    ])\n",
        "\n",
        "    return model\n",
        "\n",
        "def train_with_cross_validation(X_train_final, y_train, X_test_final, test_df, output_path='predictions.csv'):\n",
        "    \"\"\"\n",
        "    Train the model using cross-validation and ensemble predictions.\n",
        "    \"\"\"\n",
        "    # Scale the features\n",
        "    scaler = StandardScaler()\n",
        "    X_train_scaled = scaler.fit_transform(X_train_final)\n",
        "    X_test_scaled = scaler.transform(X_test_final)\n",
        "\n",
        "    # Convert target to numpy array\n",
        "    y_train = np.array(y_train)\n",
        "\n",
        "    # Initialize cross-validation\n",
        "    n_splits = 5\n",
        "    skf = StratifiedKFold(n_splits=n_splits, shuffle=True, random_state=42)\n",
        "\n",
        "    # Initialize lists to store models and predictions\n",
        "    models = []\n",
        "    test_predictions = []\n",
        "    fold_scores = []\n",
        "\n",
        "    # Callbacks\n",
        "    early_stopping = EarlyStopping(\n",
        "        monitor='val_loss',\n",
        "        patience=15,\n",
        "        restore_best_weights=True,\n",
        "        verbose=1\n",
        "    )\n",
        "\n",
        "    reduce_lr = ReduceLROnPlateau(\n",
        "        monitor='val_loss',\n",
        "        factor=0.2,\n",
        "        patience=5,\n",
        "        min_lr=1e-6,\n",
        "        verbose=1\n",
        "    )\n",
        "\n",
        "    # Train models with cross-validation\n",
        "    for fold, (train_idx, val_idx) in enumerate(skf.split(X_train_scaled, y_train), 1):\n",
        "        print(f'\\nTraining Fold {fold}')\n",
        "\n",
        "        # Split data\n",
        "        X_fold_train = X_train_scaled[train_idx]\n",
        "        y_fold_train = y_train[train_idx]\n",
        "        X_fold_val = X_train_scaled[val_idx]\n",
        "        y_fold_val = y_train[val_idx]\n",
        "\n",
        "        # Create and compile model\n",
        "        model = create_improved_ann_model(X_train_scaled.shape[1], len(np.unique(y_train)))\n",
        "\n",
        "        model.compile(\n",
        "            optimizer=Adam(learning_rate=0.001),\n",
        "            loss='binary_crossentropy',\n",
        "            metrics=['accuracy']\n",
        "        )\n",
        "\n",
        "        # Train model\n",
        "        history = model.fit(\n",
        "            X_fold_train, y_fold_train,\n",
        "            epochs=150,\n",
        "            batch_size=64,\n",
        "            validation_data=(X_fold_val, y_fold_val),\n",
        "            callbacks=[early_stopping, reduce_lr],\n",
        "            verbose=1\n",
        "        )\n",
        "\n",
        "        # Evaluate fold\n",
        "        val_score = model.evaluate(X_fold_val, y_fold_val, verbose=0)[1]\n",
        "        fold_scores.append(val_score)\n",
        "        print(f'Fold {fold} Validation Accuracy: {val_score:.4f}')\n",
        "\n",
        "        # Make predictions\n",
        "        fold_preds = model.predict(X_test_scaled)\n",
        "        test_predictions.append(fold_preds)\n",
        "        models.append(model)\n",
        "\n",
        "    # Average predictions from all folds\n",
        "    avg_predictions = np.mean(test_predictions, axis=0)\n",
        "    final_predictions = (avg_predictions > 0.5).astype(int)\n",
        "\n",
        "    # Create DataFrame with ID and predictions\n",
        "    predictions_df = pd.DataFrame({\n",
        "        'id': test_df['id'],\n",
        "        'churn': final_predictions.flatten()\n",
        "    })\n",
        "\n",
        "    # Save to CSV\n",
        "    predictions_df.to_csv(output_path, index=False)\n",
        "    print(f\"\\nPredictions saved to {output_path}\")\n",
        "\n",
        "    # Print cross-validation results\n",
        "    print(f\"\\nCross-validation scores: {[f'{score:.4f}' for score in fold_scores]}\")\n",
        "    print(f\"Average CV accuracy: {np.mean(fold_scores):.4f} (+/- {np.std(fold_scores):.4f})\")\n",
        "\n",
        "    return models, predictions_df\n",
        "\n",
        "# Usage\n",
        "models, predictions_df = train_with_cross_validation(\n",
        "    X_train_final,\n",
        "    y_train,\n",
        "    X_test_final,\n",
        "    test_df,\n",
        "    output_path='improved_ann_predictions.csv'\n",
        ")\n",
        "\n",
        "# Display predictions\n",
        "print(\"\\nFirst few rows of predictions:\")\n",
        "print(predictions_df.head())"
      ],
      "metadata": {
        "colab": {
          "base_uri": "https://localhost:8080/"
        },
        "id": "80pmC5G1lhRE",
        "outputId": "3f405e98-c2be-422f-c3b2-47f060b15b6d"
      },
      "execution_count": null,
      "outputs": [
        {
          "output_type": "stream",
          "name": "stdout",
          "text": [
            "\n",
            "Training Fold 1\n",
            "Epoch 1/150\n"
          ]
        },
        {
          "output_type": "stream",
          "name": "stderr",
          "text": [
            "/usr/local/lib/python3.11/dist-packages/keras/src/layers/core/dense.py:87: UserWarning: Do not pass an `input_shape`/`input_dim` argument to a layer. When using Sequential models, prefer using an `Input(shape)` object as the first layer in the model instead.\n",
            "  super().__init__(activity_regularizer=activity_regularizer, **kwargs)\n"
          ]
        },
        {
          "output_type": "stream",
          "name": "stdout",
          "text": [
            "\u001b[1m38/38\u001b[0m \u001b[32m━━━━━━━━━━━━━━━━━━━━\u001b[0m\u001b[37m\u001b[0m \u001b[1m6s\u001b[0m 22ms/step - accuracy: 0.5101 - loss: 0.9831 - val_accuracy: 0.8605 - val_loss: 0.6648 - learning_rate: 0.0010\n",
            "Epoch 2/150\n",
            "\u001b[1m38/38\u001b[0m \u001b[32m━━━━━━━━━━━━━━━━━━━━\u001b[0m\u001b[37m\u001b[0m \u001b[1m1s\u001b[0m 13ms/step - accuracy: 0.6399 - loss: 0.7794 - val_accuracy: 0.8605 - val_loss: 0.6115 - learning_rate: 0.0010\n",
            "Epoch 3/150\n",
            "\u001b[1m38/38\u001b[0m \u001b[32m━━━━━━━━━━━━━━━━━━━━\u001b[0m\u001b[37m\u001b[0m \u001b[1m1s\u001b[0m 19ms/step - accuracy: 0.7451 - loss: 0.6806 - val_accuracy: 0.8605 - val_loss: 0.5685 - learning_rate: 0.0010\n",
            "Epoch 4/150\n",
            "\u001b[1m38/38\u001b[0m \u001b[32m━━━━━━━━━━━━━━━━━━━━\u001b[0m\u001b[37m\u001b[0m \u001b[1m1s\u001b[0m 18ms/step - accuracy: 0.7827 - loss: 0.6266 - val_accuracy: 0.8605 - val_loss: 0.5503 - learning_rate: 0.0010\n",
            "Epoch 5/150\n",
            "\u001b[1m38/38\u001b[0m \u001b[32m━━━━━━━━━━━━━━━━━━━━\u001b[0m\u001b[37m\u001b[0m \u001b[1m1s\u001b[0m 19ms/step - accuracy: 0.8274 - loss: 0.5711 - val_accuracy: 0.8605 - val_loss: 0.5230 - learning_rate: 0.0010\n",
            "Epoch 6/150\n",
            "\u001b[1m38/38\u001b[0m \u001b[32m━━━━━━━━━━━━━━━━━━━━\u001b[0m\u001b[37m\u001b[0m \u001b[1m1s\u001b[0m 19ms/step - accuracy: 0.8391 - loss: 0.5573 - val_accuracy: 0.8605 - val_loss: 0.5156 - learning_rate: 0.0010\n",
            "Epoch 7/150\n",
            "\u001b[1m38/38\u001b[0m \u001b[32m━━━━━━━━━━━━━━━━━━━━\u001b[0m\u001b[37m\u001b[0m \u001b[1m1s\u001b[0m 11ms/step - accuracy: 0.8406 - loss: 0.5649 - val_accuracy: 0.8588 - val_loss: 0.4997 - learning_rate: 0.0010\n",
            "Epoch 8/150\n",
            "\u001b[1m38/38\u001b[0m \u001b[32m━━━━━━━━━━━━━━━━━━━━\u001b[0m\u001b[37m\u001b[0m \u001b[1m1s\u001b[0m 10ms/step - accuracy: 0.8466 - loss: 0.5378 - val_accuracy: 0.8571 - val_loss: 0.4927 - learning_rate: 0.0010\n",
            "Epoch 9/150\n",
            "\u001b[1m38/38\u001b[0m \u001b[32m━━━━━━━━━━━━━━━━━━━━\u001b[0m\u001b[37m\u001b[0m \u001b[1m1s\u001b[0m 10ms/step - accuracy: 0.8387 - loss: 0.5523 - val_accuracy: 0.8639 - val_loss: 0.4885 - learning_rate: 0.0010\n",
            "Epoch 10/150\n",
            "\u001b[1m38/38\u001b[0m \u001b[32m━━━━━━━━━━━━━━━━━━━━\u001b[0m\u001b[37m\u001b[0m \u001b[1m1s\u001b[0m 10ms/step - accuracy: 0.8491 - loss: 0.5294 - val_accuracy: 0.8689 - val_loss: 0.4830 - learning_rate: 0.0010\n",
            "Epoch 11/150\n",
            "\u001b[1m38/38\u001b[0m \u001b[32m━━━━━━━━━━━━━━━━━━━━\u001b[0m\u001b[37m\u001b[0m \u001b[1m1s\u001b[0m 10ms/step - accuracy: 0.8537 - loss: 0.5066 - val_accuracy: 0.8672 - val_loss: 0.4828 - learning_rate: 0.0010\n",
            "Epoch 12/150\n",
            "\u001b[1m38/38\u001b[0m \u001b[32m━━━━━━━━━━━━━━━━━━━━\u001b[0m\u001b[37m\u001b[0m \u001b[1m1s\u001b[0m 11ms/step - accuracy: 0.8627 - loss: 0.5018 - val_accuracy: 0.8655 - val_loss: 0.4807 - learning_rate: 0.0010\n",
            "Epoch 13/150\n",
            "\u001b[1m38/38\u001b[0m \u001b[32m━━━━━━━━━━━━━━━━━━━━\u001b[0m\u001b[37m\u001b[0m \u001b[1m0s\u001b[0m 10ms/step - accuracy: 0.8630 - loss: 0.4914 - val_accuracy: 0.8672 - val_loss: 0.4785 - learning_rate: 0.0010\n",
            "Epoch 14/150\n",
            "\u001b[1m38/38\u001b[0m \u001b[32m━━━━━━━━━━━━━━━━━━━━\u001b[0m\u001b[37m\u001b[0m \u001b[1m1s\u001b[0m 12ms/step - accuracy: 0.8531 - loss: 0.5063 - val_accuracy: 0.8605 - val_loss: 0.4762 - learning_rate: 0.0010\n",
            "Epoch 15/150\n",
            "\u001b[1m38/38\u001b[0m \u001b[32m━━━━━━━━━━━━━━━━━━━━\u001b[0m\u001b[37m\u001b[0m \u001b[1m0s\u001b[0m 9ms/step - accuracy: 0.8635 - loss: 0.4978 - val_accuracy: 0.8672 - val_loss: 0.4741 - learning_rate: 0.0010\n",
            "Epoch 16/150\n",
            "\u001b[1m38/38\u001b[0m \u001b[32m━━━━━━━━━━━━━━━━━━━━\u001b[0m\u001b[37m\u001b[0m \u001b[1m0s\u001b[0m 10ms/step - accuracy: 0.8560 - loss: 0.5219 - val_accuracy: 0.8706 - val_loss: 0.4729 - learning_rate: 0.0010\n",
            "Epoch 17/150\n",
            "\u001b[1m38/38\u001b[0m \u001b[32m━━━━━━━━━━━━━━━━━━━━\u001b[0m\u001b[37m\u001b[0m \u001b[1m0s\u001b[0m 11ms/step - accuracy: 0.8574 - loss: 0.4916 - val_accuracy: 0.8689 - val_loss: 0.4735 - learning_rate: 0.0010\n",
            "Epoch 18/150\n",
            "\u001b[1m38/38\u001b[0m \u001b[32m━━━━━━━━━━━━━━━━━━━━\u001b[0m\u001b[37m\u001b[0m \u001b[1m0s\u001b[0m 10ms/step - accuracy: 0.8620 - loss: 0.4982 - val_accuracy: 0.8689 - val_loss: 0.4720 - learning_rate: 0.0010\n",
            "Epoch 19/150\n",
            "\u001b[1m38/38\u001b[0m \u001b[32m━━━━━━━━━━━━━━━━━━━━\u001b[0m\u001b[37m\u001b[0m \u001b[1m0s\u001b[0m 10ms/step - accuracy: 0.8576 - loss: 0.5001 - val_accuracy: 0.8655 - val_loss: 0.4706 - learning_rate: 0.0010\n",
            "Epoch 20/150\n",
            "\u001b[1m38/38\u001b[0m \u001b[32m━━━━━━━━━━━━━━━━━━━━\u001b[0m\u001b[37m\u001b[0m \u001b[1m0s\u001b[0m 9ms/step - accuracy: 0.8756 - loss: 0.4804 - val_accuracy: 0.8672 - val_loss: 0.4681 - learning_rate: 0.0010\n",
            "Epoch 21/150\n",
            "\u001b[1m38/38\u001b[0m \u001b[32m━━━━━━━━━━━━━━━━━━━━\u001b[0m\u001b[37m\u001b[0m \u001b[1m0s\u001b[0m 11ms/step - accuracy: 0.8615 - loss: 0.4846 - val_accuracy: 0.8672 - val_loss: 0.4649 - learning_rate: 0.0010\n",
            "Epoch 22/150\n",
            "\u001b[1m38/38\u001b[0m \u001b[32m━━━━━━━━━━━━━━━━━━━━\u001b[0m\u001b[37m\u001b[0m \u001b[1m1s\u001b[0m 10ms/step - accuracy: 0.8650 - loss: 0.4810 - val_accuracy: 0.8689 - val_loss: 0.4713 - learning_rate: 0.0010\n",
            "Epoch 23/150\n",
            "\u001b[1m38/38\u001b[0m \u001b[32m━━━━━━━━━━━━━━━━━━━━\u001b[0m\u001b[37m\u001b[0m \u001b[1m0s\u001b[0m 11ms/step - accuracy: 0.8725 - loss: 0.4761 - val_accuracy: 0.8689 - val_loss: 0.4678 - learning_rate: 0.0010\n",
            "Epoch 24/150\n",
            "\u001b[1m38/38\u001b[0m \u001b[32m━━━━━━━━━━━━━━━━━━━━\u001b[0m\u001b[37m\u001b[0m \u001b[1m0s\u001b[0m 11ms/step - accuracy: 0.8711 - loss: 0.4773 - val_accuracy: 0.8739 - val_loss: 0.4671 - learning_rate: 0.0010\n",
            "Epoch 25/150\n",
            "\u001b[1m38/38\u001b[0m \u001b[32m━━━━━━━━━━━━━━━━━━━━\u001b[0m\u001b[37m\u001b[0m \u001b[1m1s\u001b[0m 11ms/step - accuracy: 0.8527 - loss: 0.4932 - val_accuracy: 0.8773 - val_loss: 0.4673 - learning_rate: 0.0010\n",
            "Epoch 26/150\n",
            "\u001b[1m38/38\u001b[0m \u001b[32m━━━━━━━━━━━━━━━━━━━━\u001b[0m\u001b[37m\u001b[0m \u001b[1m1s\u001b[0m 19ms/step - accuracy: 0.8756 - loss: 0.4619 - val_accuracy: 0.8723 - val_loss: 0.4644 - learning_rate: 0.0010\n",
            "Epoch 27/150\n",
            "\u001b[1m38/38\u001b[0m \u001b[32m━━━━━━━━━━━━━━━━━━━━\u001b[0m\u001b[37m\u001b[0m \u001b[1m1s\u001b[0m 19ms/step - accuracy: 0.8676 - loss: 0.4630 - val_accuracy: 0.8672 - val_loss: 0.4684 - learning_rate: 0.0010\n",
            "Epoch 28/150\n",
            "\u001b[1m38/38\u001b[0m \u001b[32m━━━━━━━━━━━━━━━━━━━━\u001b[0m\u001b[37m\u001b[0m \u001b[1m1s\u001b[0m 19ms/step - accuracy: 0.8442 - loss: 0.5054 - val_accuracy: 0.8723 - val_loss: 0.4695 - learning_rate: 0.0010\n",
            "Epoch 29/150\n",
            "\u001b[1m38/38\u001b[0m \u001b[32m━━━━━━━━━━━━━━━━━━━━\u001b[0m\u001b[37m\u001b[0m \u001b[1m1s\u001b[0m 15ms/step - accuracy: 0.8695 - loss: 0.4608 - val_accuracy: 0.8706 - val_loss: 0.4717 - learning_rate: 0.0010\n",
            "Epoch 30/150\n",
            "\u001b[1m38/38\u001b[0m \u001b[32m━━━━━━━━━━━━━━━━━━━━\u001b[0m\u001b[37m\u001b[0m \u001b[1m0s\u001b[0m 9ms/step - accuracy: 0.8649 - loss: 0.4620 - val_accuracy: 0.8723 - val_loss: 0.4729 - learning_rate: 0.0010\n",
            "Epoch 31/150\n",
            "\u001b[1m36/38\u001b[0m \u001b[32m━━━━━━━━━━━━━━━━━━\u001b[0m\u001b[37m━━\u001b[0m \u001b[1m0s\u001b[0m 8ms/step - accuracy: 0.8579 - loss: 0.4846\n",
            "Epoch 31: ReduceLROnPlateau reducing learning rate to 0.00020000000949949026.\n",
            "\u001b[1m38/38\u001b[0m \u001b[32m━━━━━━━━━━━━━━━━━━━━\u001b[0m\u001b[37m\u001b[0m \u001b[1m0s\u001b[0m 10ms/step - accuracy: 0.8582 - loss: 0.4836 - val_accuracy: 0.8689 - val_loss: 0.4729 - learning_rate: 0.0010\n",
            "Epoch 32/150\n",
            "\u001b[1m38/38\u001b[0m \u001b[32m━━━━━━━━━━━━━━━━━━━━\u001b[0m\u001b[37m\u001b[0m \u001b[1m1s\u001b[0m 9ms/step - accuracy: 0.8728 - loss: 0.4496 - val_accuracy: 0.8689 - val_loss: 0.4730 - learning_rate: 2.0000e-04\n",
            "Epoch 33/150\n",
            "\u001b[1m38/38\u001b[0m \u001b[32m━━━━━━━━━━━━━━━━━━━━\u001b[0m\u001b[37m\u001b[0m \u001b[1m1s\u001b[0m 10ms/step - accuracy: 0.8685 - loss: 0.4528 - val_accuracy: 0.8739 - val_loss: 0.4724 - learning_rate: 2.0000e-04\n",
            "Epoch 34/150\n",
            "\u001b[1m38/38\u001b[0m \u001b[32m━━━━━━━━━━━━━━━━━━━━\u001b[0m\u001b[37m\u001b[0m \u001b[1m0s\u001b[0m 9ms/step - accuracy: 0.8731 - loss: 0.4501 - val_accuracy: 0.8723 - val_loss: 0.4706 - learning_rate: 2.0000e-04\n",
            "Epoch 35/150\n",
            "\u001b[1m38/38\u001b[0m \u001b[32m━━━━━━━━━━━━━━━━━━━━\u001b[0m\u001b[37m\u001b[0m \u001b[1m1s\u001b[0m 10ms/step - accuracy: 0.8717 - loss: 0.4500 - val_accuracy: 0.8689 - val_loss: 0.4702 - learning_rate: 2.0000e-04\n",
            "Epoch 36/150\n",
            "\u001b[1m34/38\u001b[0m \u001b[32m━━━━━━━━━━━━━━━━━\u001b[0m\u001b[37m━━━\u001b[0m \u001b[1m0s\u001b[0m 8ms/step - accuracy: 0.8758 - loss: 0.4431\n",
            "Epoch 36: ReduceLROnPlateau reducing learning rate to 4.0000001899898055e-05.\n",
            "\u001b[1m38/38\u001b[0m \u001b[32m━━━━━━━━━━━━━━━━━━━━\u001b[0m\u001b[37m\u001b[0m \u001b[1m1s\u001b[0m 11ms/step - accuracy: 0.8750 - loss: 0.4442 - val_accuracy: 0.8639 - val_loss: 0.4707 - learning_rate: 2.0000e-04\n",
            "Epoch 37/150\n",
            "\u001b[1m38/38\u001b[0m \u001b[32m━━━━━━━━━━━━━━━━━━━━\u001b[0m\u001b[37m\u001b[0m \u001b[1m1s\u001b[0m 10ms/step - accuracy: 0.8598 - loss: 0.4634 - val_accuracy: 0.8639 - val_loss: 0.4710 - learning_rate: 4.0000e-05\n",
            "Epoch 38/150\n",
            "\u001b[1m38/38\u001b[0m \u001b[32m━━━━━━━━━━━━━━━━━━━━\u001b[0m\u001b[37m\u001b[0m \u001b[1m1s\u001b[0m 10ms/step - accuracy: 0.8621 - loss: 0.4716 - val_accuracy: 0.8639 - val_loss: 0.4706 - learning_rate: 4.0000e-05\n",
            "Epoch 39/150\n",
            "\u001b[1m38/38\u001b[0m \u001b[32m━━━━━━━━━━━━━━━━━━━━\u001b[0m\u001b[37m\u001b[0m \u001b[1m0s\u001b[0m 11ms/step - accuracy: 0.8671 - loss: 0.4478 - val_accuracy: 0.8655 - val_loss: 0.4709 - learning_rate: 4.0000e-05\n",
            "Epoch 40/150\n",
            "\u001b[1m38/38\u001b[0m \u001b[32m━━━━━━━━━━━━━━━━━━━━\u001b[0m\u001b[37m\u001b[0m \u001b[1m1s\u001b[0m 10ms/step - accuracy: 0.8666 - loss: 0.4509 - val_accuracy: 0.8639 - val_loss: 0.4712 - learning_rate: 4.0000e-05\n",
            "Epoch 41/150\n",
            "\u001b[1m34/38\u001b[0m \u001b[32m━━━━━━━━━━━━━━━━━\u001b[0m\u001b[37m━━━\u001b[0m \u001b[1m0s\u001b[0m 8ms/step - accuracy: 0.8713 - loss: 0.4492\n",
            "Epoch 41: ReduceLROnPlateau reducing learning rate to 8.000000525498762e-06.\n",
            "\u001b[1m38/38\u001b[0m \u001b[32m━━━━━━━━━━━━━━━━━━━━\u001b[0m\u001b[37m\u001b[0m \u001b[1m0s\u001b[0m 10ms/step - accuracy: 0.8709 - loss: 0.4507 - val_accuracy: 0.8639 - val_loss: 0.4707 - learning_rate: 4.0000e-05\n",
            "Epoch 41: early stopping\n",
            "Restoring model weights from the end of the best epoch: 26.\n",
            "Fold 1 Validation Accuracy: 0.8723\n",
            "\u001b[1m40/40\u001b[0m \u001b[32m━━━━━━━━━━━━━━━━━━━━\u001b[0m\u001b[37m\u001b[0m \u001b[1m0s\u001b[0m 6ms/step\n",
            "\n",
            "Training Fold 2\n",
            "Epoch 1/150\n",
            "\u001b[1m38/38\u001b[0m \u001b[32m━━━━━━━━━━━━━━━━━━━━\u001b[0m\u001b[37m\u001b[0m \u001b[1m8s\u001b[0m 31ms/step - accuracy: 0.5177 - loss: 1.0623 - val_accuracy: 0.8588 - val_loss: 0.6723 - learning_rate: 0.0010\n",
            "Epoch 2/150\n",
            "\u001b[1m38/38\u001b[0m \u001b[32m━━━━━━━━━━━━━━━━━━━━\u001b[0m\u001b[37m\u001b[0m \u001b[1m0s\u001b[0m 10ms/step - accuracy: 0.6375 - loss: 0.7998 - val_accuracy: 0.8588 - val_loss: 0.5825 - learning_rate: 0.0010\n",
            "Epoch 3/150\n",
            "\u001b[1m38/38\u001b[0m \u001b[32m━━━━━━━━━━━━━━━━━━━━\u001b[0m\u001b[37m\u001b[0m \u001b[1m0s\u001b[0m 10ms/step - accuracy: 0.7203 - loss: 0.7059 - val_accuracy: 0.8588 - val_loss: 0.5442 - learning_rate: 0.0010\n",
            "Epoch 4/150\n",
            "\u001b[1m38/38\u001b[0m \u001b[32m━━━━━━━━━━━━━━━━━━━━\u001b[0m\u001b[37m\u001b[0m \u001b[1m0s\u001b[0m 10ms/step - accuracy: 0.7861 - loss: 0.6372 - val_accuracy: 0.8588 - val_loss: 0.5282 - learning_rate: 0.0010\n",
            "Epoch 5/150\n",
            "\u001b[1m38/38\u001b[0m \u001b[32m━━━━━━━━━━━━━━━━━━━━\u001b[0m\u001b[37m\u001b[0m \u001b[1m0s\u001b[0m 10ms/step - accuracy: 0.8025 - loss: 0.5994 - val_accuracy: 0.8588 - val_loss: 0.5197 - learning_rate: 0.0010\n",
            "Epoch 6/150\n",
            "\u001b[1m38/38\u001b[0m \u001b[32m━━━━━━━━━━━━━━━━━━━━\u001b[0m\u001b[37m\u001b[0m \u001b[1m0s\u001b[0m 10ms/step - accuracy: 0.8181 - loss: 0.5982 - val_accuracy: 0.8588 - val_loss: 0.5118 - learning_rate: 0.0010\n",
            "Epoch 7/150\n",
            "\u001b[1m38/38\u001b[0m \u001b[32m━━━━━━━━━━━━━━━━━━━━\u001b[0m\u001b[37m\u001b[0m \u001b[1m0s\u001b[0m 11ms/step - accuracy: 0.8256 - loss: 0.5649 - val_accuracy: 0.8588 - val_loss: 0.5118 - learning_rate: 0.0010\n",
            "Epoch 8/150\n",
            "\u001b[1m38/38\u001b[0m \u001b[32m━━━━━━━━━━━━━━━━━━━━\u001b[0m\u001b[37m\u001b[0m \u001b[1m0s\u001b[0m 10ms/step - accuracy: 0.8430 - loss: 0.5468 - val_accuracy: 0.8571 - val_loss: 0.5117 - learning_rate: 0.0010\n",
            "Epoch 9/150\n",
            "\u001b[1m38/38\u001b[0m \u001b[32m━━━━━━━━━━━━━━━━━━━━\u001b[0m\u001b[37m\u001b[0m \u001b[1m0s\u001b[0m 11ms/step - accuracy: 0.8526 - loss: 0.5376 - val_accuracy: 0.8571 - val_loss: 0.5073 - learning_rate: 0.0010\n",
            "Epoch 10/150\n",
            "\u001b[1m38/38\u001b[0m \u001b[32m━━━━━━━━━━━━━━━━━━━━\u001b[0m\u001b[37m\u001b[0m \u001b[1m1s\u001b[0m 10ms/step - accuracy: 0.8479 - loss: 0.5273 - val_accuracy: 0.8622 - val_loss: 0.5038 - learning_rate: 0.0010\n",
            "Epoch 11/150\n",
            "\u001b[1m38/38\u001b[0m \u001b[32m━━━━━━━━━━━━━━━━━━━━\u001b[0m\u001b[37m\u001b[0m \u001b[1m1s\u001b[0m 10ms/step - accuracy: 0.8597 - loss: 0.5187 - val_accuracy: 0.8605 - val_loss: 0.5053 - learning_rate: 0.0010\n",
            "Epoch 12/150\n",
            "\u001b[1m38/38\u001b[0m \u001b[32m━━━━━━━━━━━━━━━━━━━━\u001b[0m\u001b[37m\u001b[0m \u001b[1m1s\u001b[0m 10ms/step - accuracy: 0.8550 - loss: 0.5180 - val_accuracy: 0.8487 - val_loss: 0.5056 - learning_rate: 0.0010\n",
            "Epoch 13/150\n",
            "\u001b[1m38/38\u001b[0m \u001b[32m━━━━━━━━━━━━━━━━━━━━\u001b[0m\u001b[37m\u001b[0m \u001b[1m0s\u001b[0m 10ms/step - accuracy: 0.8526 - loss: 0.5305 - val_accuracy: 0.8521 - val_loss: 0.5004 - learning_rate: 0.0010\n",
            "Epoch 14/150\n",
            "\u001b[1m38/38\u001b[0m \u001b[32m━━━━━━━━━━━━━━━━━━━━\u001b[0m\u001b[37m\u001b[0m \u001b[1m0s\u001b[0m 10ms/step - accuracy: 0.8536 - loss: 0.5227 - val_accuracy: 0.8605 - val_loss: 0.4944 - learning_rate: 0.0010\n",
            "Epoch 15/150\n",
            "\u001b[1m38/38\u001b[0m \u001b[32m━━━━━━━━━━━━━━━━━━━━\u001b[0m\u001b[37m\u001b[0m \u001b[1m0s\u001b[0m 11ms/step - accuracy: 0.8613 - loss: 0.5081 - val_accuracy: 0.8538 - val_loss: 0.4955 - learning_rate: 0.0010\n",
            "Epoch 16/150\n",
            "\u001b[1m38/38\u001b[0m \u001b[32m━━━━━━━━━━━━━━━━━━━━\u001b[0m\u001b[37m\u001b[0m \u001b[1m1s\u001b[0m 10ms/step - accuracy: 0.8664 - loss: 0.4872 - val_accuracy: 0.8571 - val_loss: 0.4938 - learning_rate: 0.0010\n",
            "Epoch 17/150\n",
            "\u001b[1m38/38\u001b[0m \u001b[32m━━━━━━━━━━━━━━━━━━━━\u001b[0m\u001b[37m\u001b[0m \u001b[1m1s\u001b[0m 10ms/step - accuracy: 0.8467 - loss: 0.5213 - val_accuracy: 0.8538 - val_loss: 0.4928 - learning_rate: 0.0010\n",
            "Epoch 18/150\n",
            "\u001b[1m38/38\u001b[0m \u001b[32m━━━━━━━━━━━━━━━━━━━━\u001b[0m\u001b[37m\u001b[0m \u001b[1m1s\u001b[0m 11ms/step - accuracy: 0.8566 - loss: 0.5033 - val_accuracy: 0.8538 - val_loss: 0.4961 - learning_rate: 0.0010\n",
            "Epoch 19/150\n",
            "\u001b[1m38/38\u001b[0m \u001b[32m━━━━━━━━━━━━━━━━━━━━\u001b[0m\u001b[37m\u001b[0m \u001b[1m1s\u001b[0m 10ms/step - accuracy: 0.8672 - loss: 0.5004 - val_accuracy: 0.8538 - val_loss: 0.4960 - learning_rate: 0.0010\n",
            "Epoch 20/150\n",
            "\u001b[1m38/38\u001b[0m \u001b[32m━━━━━━━━━━━━━━━━━━━━\u001b[0m\u001b[37m\u001b[0m \u001b[1m1s\u001b[0m 11ms/step - accuracy: 0.8550 - loss: 0.5022 - val_accuracy: 0.8588 - val_loss: 0.4960 - learning_rate: 0.0010\n",
            "Epoch 21/150\n",
            "\u001b[1m38/38\u001b[0m \u001b[32m━━━━━━━━━━━━━━━━━━━━\u001b[0m\u001b[37m\u001b[0m \u001b[1m1s\u001b[0m 20ms/step - accuracy: 0.8560 - loss: 0.4833 - val_accuracy: 0.8555 - val_loss: 0.4977 - learning_rate: 0.0010\n",
            "Epoch 22/150\n",
            "\u001b[1m34/38\u001b[0m \u001b[32m━━━━━━━━━━━━━━━━━\u001b[0m\u001b[37m━━━\u001b[0m \u001b[1m0s\u001b[0m 13ms/step - accuracy: 0.8578 - loss: 0.4807\n",
            "Epoch 22: ReduceLROnPlateau reducing learning rate to 0.00020000000949949026.\n",
            "\u001b[1m38/38\u001b[0m \u001b[32m━━━━━━━━━━━━━━━━━━━━\u001b[0m\u001b[37m\u001b[0m \u001b[1m1s\u001b[0m 19ms/step - accuracy: 0.8581 - loss: 0.4807 - val_accuracy: 0.8555 - val_loss: 0.4943 - learning_rate: 0.0010\n",
            "Epoch 23/150\n",
            "\u001b[1m38/38\u001b[0m \u001b[32m━━━━━━━━━━━━━━━━━━━━\u001b[0m\u001b[37m\u001b[0m \u001b[1m1s\u001b[0m 16ms/step - accuracy: 0.8524 - loss: 0.4916 - val_accuracy: 0.8555 - val_loss: 0.4944 - learning_rate: 2.0000e-04\n",
            "Epoch 24/150\n",
            "\u001b[1m38/38\u001b[0m \u001b[32m━━━━━━━━━━━━━━━━━━━━\u001b[0m\u001b[37m\u001b[0m \u001b[1m1s\u001b[0m 21ms/step - accuracy: 0.8505 - loss: 0.5016 - val_accuracy: 0.8571 - val_loss: 0.4922 - learning_rate: 2.0000e-04\n",
            "Epoch 25/150\n",
            "\u001b[1m38/38\u001b[0m \u001b[32m━━━━━━━━━━━━━━━━━━━━\u001b[0m\u001b[37m\u001b[0m \u001b[1m0s\u001b[0m 10ms/step - accuracy: 0.8681 - loss: 0.4680 - val_accuracy: 0.8538 - val_loss: 0.4918 - learning_rate: 2.0000e-04\n",
            "Epoch 26/150\n",
            "\u001b[1m38/38\u001b[0m \u001b[32m━━━━━━━━━━━━━━━━━━━━\u001b[0m\u001b[37m\u001b[0m \u001b[1m1s\u001b[0m 10ms/step - accuracy: 0.8540 - loss: 0.4936 - val_accuracy: 0.8538 - val_loss: 0.4905 - learning_rate: 2.0000e-04\n",
            "Epoch 27/150\n",
            "\u001b[1m38/38\u001b[0m \u001b[32m━━━━━━━━━━━━━━━━━━━━\u001b[0m\u001b[37m\u001b[0m \u001b[1m0s\u001b[0m 10ms/step - accuracy: 0.8494 - loss: 0.4916 - val_accuracy: 0.8555 - val_loss: 0.4900 - learning_rate: 2.0000e-04\n",
            "Epoch 28/150\n",
            "\u001b[1m38/38\u001b[0m \u001b[32m━━━━━━━━━━━━━━━━━━━━\u001b[0m\u001b[37m\u001b[0m \u001b[1m1s\u001b[0m 10ms/step - accuracy: 0.8721 - loss: 0.4712 - val_accuracy: 0.8555 - val_loss: 0.4892 - learning_rate: 2.0000e-04\n",
            "Epoch 29/150\n",
            "\u001b[1m38/38\u001b[0m \u001b[32m━━━━━━━━━━━━━━━━━━━━\u001b[0m\u001b[37m\u001b[0m \u001b[1m1s\u001b[0m 10ms/step - accuracy: 0.8642 - loss: 0.4920 - val_accuracy: 0.8555 - val_loss: 0.4908 - learning_rate: 2.0000e-04\n",
            "Epoch 30/150\n",
            "\u001b[1m38/38\u001b[0m \u001b[32m━━━━━━━━━━━━━━━━━━━━\u001b[0m\u001b[37m\u001b[0m \u001b[1m1s\u001b[0m 10ms/step - accuracy: 0.8697 - loss: 0.4741 - val_accuracy: 0.8555 - val_loss: 0.4907 - learning_rate: 2.0000e-04\n",
            "Epoch 31/150\n",
            "\u001b[1m38/38\u001b[0m \u001b[32m━━━━━━━━━━━━━━━━━━━━\u001b[0m\u001b[37m\u001b[0m \u001b[1m0s\u001b[0m 10ms/step - accuracy: 0.8580 - loss: 0.4867 - val_accuracy: 0.8555 - val_loss: 0.4893 - learning_rate: 2.0000e-04\n",
            "Epoch 32/150\n",
            "\u001b[1m38/38\u001b[0m \u001b[32m━━━━━━━━━━━━━━━━━━━━\u001b[0m\u001b[37m\u001b[0m \u001b[1m1s\u001b[0m 11ms/step - accuracy: 0.8712 - loss: 0.4742 - val_accuracy: 0.8555 - val_loss: 0.4902 - learning_rate: 2.0000e-04\n",
            "Epoch 33/150\n",
            "\u001b[1m34/38\u001b[0m \u001b[32m━━━━━━━━━━━━━━━━━\u001b[0m\u001b[37m━━━\u001b[0m \u001b[1m0s\u001b[0m 8ms/step - accuracy: 0.8694 - loss: 0.4539\n",
            "Epoch 33: ReduceLROnPlateau reducing learning rate to 4.0000001899898055e-05.\n",
            "\u001b[1m38/38\u001b[0m \u001b[32m━━━━━━━━━━━━━━━━━━━━\u001b[0m\u001b[37m\u001b[0m \u001b[1m0s\u001b[0m 11ms/step - accuracy: 0.8684 - loss: 0.4569 - val_accuracy: 0.8538 - val_loss: 0.4912 - learning_rate: 2.0000e-04\n",
            "Epoch 34/150\n",
            "\u001b[1m38/38\u001b[0m \u001b[32m━━━━━━━━━━━━━━━━━━━━\u001b[0m\u001b[37m\u001b[0m \u001b[1m1s\u001b[0m 10ms/step - accuracy: 0.8555 - loss: 0.4744 - val_accuracy: 0.8555 - val_loss: 0.4908 - learning_rate: 4.0000e-05\n",
            "Epoch 35/150\n",
            "\u001b[1m38/38\u001b[0m \u001b[32m━━━━━━━━━━━━━━━━━━━━\u001b[0m\u001b[37m\u001b[0m \u001b[1m0s\u001b[0m 10ms/step - accuracy: 0.8646 - loss: 0.4714 - val_accuracy: 0.8555 - val_loss: 0.4909 - learning_rate: 4.0000e-05\n",
            "Epoch 36/150\n",
            "\u001b[1m38/38\u001b[0m \u001b[32m━━━━━━━━━━━━━━━━━━━━\u001b[0m\u001b[37m\u001b[0m \u001b[1m0s\u001b[0m 11ms/step - accuracy: 0.8592 - loss: 0.4738 - val_accuracy: 0.8571 - val_loss: 0.4906 - learning_rate: 4.0000e-05\n",
            "Epoch 37/150\n",
            "\u001b[1m38/38\u001b[0m \u001b[32m━━━━━━━━━━━━━━━━━━━━\u001b[0m\u001b[37m\u001b[0m \u001b[1m0s\u001b[0m 11ms/step - accuracy: 0.8640 - loss: 0.4855 - val_accuracy: 0.8571 - val_loss: 0.4902 - learning_rate: 4.0000e-05\n",
            "Epoch 38/150\n",
            "\u001b[1m34/38\u001b[0m \u001b[32m━━━━━━━━━━━━━━━━━\u001b[0m\u001b[37m━━━\u001b[0m \u001b[1m0s\u001b[0m 8ms/step - accuracy: 0.8619 - loss: 0.4723\n",
            "Epoch 38: ReduceLROnPlateau reducing learning rate to 8.000000525498762e-06.\n",
            "\u001b[1m38/38\u001b[0m \u001b[32m━━━━━━━━━━━━━━━━━━━━\u001b[0m\u001b[37m\u001b[0m \u001b[1m1s\u001b[0m 10ms/step - accuracy: 0.8619 - loss: 0.4723 - val_accuracy: 0.8588 - val_loss: 0.4900 - learning_rate: 4.0000e-05\n",
            "Epoch 39/150\n",
            "\u001b[1m38/38\u001b[0m \u001b[32m━━━━━━━━━━━━━━━━━━━━\u001b[0m\u001b[37m\u001b[0m \u001b[1m0s\u001b[0m 10ms/step - accuracy: 0.8581 - loss: 0.4898 - val_accuracy: 0.8588 - val_loss: 0.4897 - learning_rate: 8.0000e-06\n",
            "Epoch 40/150\n",
            "\u001b[1m38/38\u001b[0m \u001b[32m━━━━━━━━━━━━━━━━━━━━\u001b[0m\u001b[37m\u001b[0m \u001b[1m1s\u001b[0m 10ms/step - accuracy: 0.8684 - loss: 0.4692 - val_accuracy: 0.8588 - val_loss: 0.4895 - learning_rate: 8.0000e-06\n",
            "Epoch 41/150\n",
            "\u001b[1m38/38\u001b[0m \u001b[32m━━━━━━━━━━━━━━━━━━━━\u001b[0m\u001b[37m\u001b[0m \u001b[1m1s\u001b[0m 10ms/step - accuracy: 0.8722 - loss: 0.4560 - val_accuracy: 0.8588 - val_loss: 0.4896 - learning_rate: 8.0000e-06\n",
            "Epoch 42/150\n",
            "\u001b[1m38/38\u001b[0m \u001b[32m━━━━━━━━━━━━━━━━━━━━\u001b[0m\u001b[37m\u001b[0m \u001b[1m1s\u001b[0m 10ms/step - accuracy: 0.8826 - loss: 0.4415 - val_accuracy: 0.8588 - val_loss: 0.4899 - learning_rate: 8.0000e-06\n",
            "Epoch 43/150\n",
            "\u001b[1m34/38\u001b[0m \u001b[32m━━━━━━━━━━━━━━━━━\u001b[0m\u001b[37m━━━\u001b[0m \u001b[1m0s\u001b[0m 10ms/step - accuracy: 0.8680 - loss: 0.4647\n",
            "Epoch 43: ReduceLROnPlateau reducing learning rate to 1.6000001778593287e-06.\n",
            "\u001b[1m38/38\u001b[0m \u001b[32m━━━━━━━━━━━━━━━━━━━━\u001b[0m\u001b[37m\u001b[0m \u001b[1m1s\u001b[0m 14ms/step - accuracy: 0.8668 - loss: 0.4657 - val_accuracy: 0.8571 - val_loss: 0.4899 - learning_rate: 8.0000e-06\n",
            "Epoch 43: early stopping\n",
            "Restoring model weights from the end of the best epoch: 28.\n",
            "Fold 2 Validation Accuracy: 0.8555\n",
            "\u001b[1m40/40\u001b[0m \u001b[32m━━━━━━━━━━━━━━━━━━━━\u001b[0m\u001b[37m\u001b[0m \u001b[1m1s\u001b[0m 8ms/step\n",
            "\n",
            "Training Fold 3\n",
            "Epoch 1/150\n",
            "\u001b[1m38/38\u001b[0m \u001b[32m━━━━━━━━━━━━━━━━━━━━\u001b[0m\u001b[37m\u001b[0m \u001b[1m9s\u001b[0m 22ms/step - accuracy: 0.5303 - loss: 1.0377 - val_accuracy: 0.8588 - val_loss: 0.6765 - learning_rate: 0.0010\n",
            "Epoch 2/150\n",
            "\u001b[1m38/38\u001b[0m \u001b[32m━━━━━━━━━━━━━━━━━━━━\u001b[0m\u001b[37m\u001b[0m \u001b[1m1s\u001b[0m 10ms/step - accuracy: 0.6346 - loss: 0.7939 - val_accuracy: 0.8588 - val_loss: 0.5923 - learning_rate: 0.0010\n",
            "Epoch 3/150\n",
            "\u001b[1m38/38\u001b[0m \u001b[32m━━━━━━━━━━━━━━━━━━━━\u001b[0m\u001b[37m\u001b[0m \u001b[1m0s\u001b[0m 10ms/step - accuracy: 0.7223 - loss: 0.6890 - val_accuracy: 0.8588 - val_loss: 0.5648 - learning_rate: 0.0010\n",
            "Epoch 4/150\n",
            "\u001b[1m38/38\u001b[0m \u001b[32m━━━━━━━━━━━━━━━━━━━━\u001b[0m\u001b[37m\u001b[0m \u001b[1m0s\u001b[0m 11ms/step - accuracy: 0.7980 - loss: 0.6229 - val_accuracy: 0.8588 - val_loss: 0.5271 - learning_rate: 0.0010\n",
            "Epoch 5/150\n",
            "\u001b[1m38/38\u001b[0m \u001b[32m━━━━━━━━━━━━━━━━━━━━\u001b[0m\u001b[37m\u001b[0m \u001b[1m1s\u001b[0m 10ms/step - accuracy: 0.7972 - loss: 0.6122 - val_accuracy: 0.8588 - val_loss: 0.5202 - learning_rate: 0.0010\n",
            "Epoch 6/150\n",
            "\u001b[1m38/38\u001b[0m \u001b[32m━━━━━━━━━━━━━━━━━━━━\u001b[0m\u001b[37m\u001b[0m \u001b[1m1s\u001b[0m 11ms/step - accuracy: 0.8257 - loss: 0.5744 - val_accuracy: 0.8571 - val_loss: 0.5107 - learning_rate: 0.0010\n",
            "Epoch 7/150\n",
            "\u001b[1m38/38\u001b[0m \u001b[32m━━━━━━━━━━━━━━━━━━━━\u001b[0m\u001b[37m\u001b[0m \u001b[1m1s\u001b[0m 11ms/step - accuracy: 0.8411 - loss: 0.5392 - val_accuracy: 0.8605 - val_loss: 0.5029 - learning_rate: 0.0010\n",
            "Epoch 8/150\n",
            "\u001b[1m38/38\u001b[0m \u001b[32m━━━━━━━━━━━━━━━━━━━━\u001b[0m\u001b[37m\u001b[0m \u001b[1m1s\u001b[0m 11ms/step - accuracy: 0.8437 - loss: 0.5495 - val_accuracy: 0.8605 - val_loss: 0.4920 - learning_rate: 0.0010\n",
            "Epoch 9/150\n",
            "\u001b[1m38/38\u001b[0m \u001b[32m━━━━━━━━━━━━━━━━━━━━\u001b[0m\u001b[37m\u001b[0m \u001b[1m0s\u001b[0m 11ms/step - accuracy: 0.8472 - loss: 0.5445 - val_accuracy: 0.8639 - val_loss: 0.4912 - learning_rate: 0.0010\n",
            "Epoch 10/150\n",
            "\u001b[1m38/38\u001b[0m \u001b[32m━━━━━━━━━━━━━━━━━━━━\u001b[0m\u001b[37m\u001b[0m \u001b[1m1s\u001b[0m 10ms/step - accuracy: 0.8563 - loss: 0.5334 - val_accuracy: 0.8639 - val_loss: 0.4924 - learning_rate: 0.0010\n",
            "Epoch 11/150\n",
            "\u001b[1m38/38\u001b[0m \u001b[32m━━━━━━━━━━━━━━━━━━━━\u001b[0m\u001b[37m\u001b[0m \u001b[1m0s\u001b[0m 11ms/step - accuracy: 0.8514 - loss: 0.5298 - val_accuracy: 0.8605 - val_loss: 0.4875 - learning_rate: 0.0010\n",
            "Epoch 12/150\n",
            "\u001b[1m38/38\u001b[0m \u001b[32m━━━━━━━━━━━━━━━━━━━━\u001b[0m\u001b[37m\u001b[0m \u001b[1m1s\u001b[0m 11ms/step - accuracy: 0.8524 - loss: 0.5245 - val_accuracy: 0.8672 - val_loss: 0.4842 - learning_rate: 0.0010\n",
            "Epoch 13/150\n",
            "\u001b[1m38/38\u001b[0m \u001b[32m━━━━━━━━━━━━━━━━━━━━\u001b[0m\u001b[37m\u001b[0m \u001b[1m1s\u001b[0m 17ms/step - accuracy: 0.8506 - loss: 0.5236 - val_accuracy: 0.8672 - val_loss: 0.4818 - learning_rate: 0.0010\n",
            "Epoch 14/150\n",
            "\u001b[1m38/38\u001b[0m \u001b[32m━━━━━━━━━━━━━━━━━━━━\u001b[0m\u001b[37m\u001b[0m \u001b[1m1s\u001b[0m 17ms/step - accuracy: 0.8504 - loss: 0.5265 - val_accuracy: 0.8672 - val_loss: 0.4837 - learning_rate: 0.0010\n",
            "Epoch 15/150\n",
            "\u001b[1m38/38\u001b[0m \u001b[32m━━━━━━━━━━━━━━━━━━━━\u001b[0m\u001b[37m\u001b[0m \u001b[1m1s\u001b[0m 20ms/step - accuracy: 0.8537 - loss: 0.5016 - val_accuracy: 0.8689 - val_loss: 0.4813 - learning_rate: 0.0010\n",
            "Epoch 16/150\n",
            "\u001b[1m38/38\u001b[0m \u001b[32m━━━━━━━━━━━━━━━━━━━━\u001b[0m\u001b[37m\u001b[0m \u001b[1m1s\u001b[0m 16ms/step - accuracy: 0.8622 - loss: 0.4856 - val_accuracy: 0.8689 - val_loss: 0.4850 - learning_rate: 0.0010\n",
            "Epoch 17/150\n",
            "\u001b[1m38/38\u001b[0m \u001b[32m━━━━━━━━━━━━━━━━━━━━\u001b[0m\u001b[37m\u001b[0m \u001b[1m0s\u001b[0m 11ms/step - accuracy: 0.8524 - loss: 0.4991 - val_accuracy: 0.8689 - val_loss: 0.4736 - learning_rate: 0.0010\n",
            "Epoch 18/150\n",
            "\u001b[1m38/38\u001b[0m \u001b[32m━━━━━━━━━━━━━━━━━━━━\u001b[0m\u001b[37m\u001b[0m \u001b[1m1s\u001b[0m 10ms/step - accuracy: 0.8467 - loss: 0.5161 - val_accuracy: 0.8672 - val_loss: 0.4728 - learning_rate: 0.0010\n",
            "Epoch 19/150\n",
            "\u001b[1m38/38\u001b[0m \u001b[32m━━━━━━━━━━━━━━━━━━━━\u001b[0m\u001b[37m\u001b[0m \u001b[1m0s\u001b[0m 11ms/step - accuracy: 0.8514 - loss: 0.5001 - val_accuracy: 0.8723 - val_loss: 0.4705 - learning_rate: 0.0010\n",
            "Epoch 20/150\n",
            "\u001b[1m38/38\u001b[0m \u001b[32m━━━━━━━━━━━━━━━━━━━━\u001b[0m\u001b[37m\u001b[0m \u001b[1m0s\u001b[0m 10ms/step - accuracy: 0.8634 - loss: 0.4808 - val_accuracy: 0.8756 - val_loss: 0.4726 - learning_rate: 0.0010\n",
            "Epoch 21/150\n",
            "\u001b[1m38/38\u001b[0m \u001b[32m━━━━━━━━━━━━━━━━━━━━\u001b[0m\u001b[37m\u001b[0m \u001b[1m0s\u001b[0m 11ms/step - accuracy: 0.8535 - loss: 0.5031 - val_accuracy: 0.8739 - val_loss: 0.4695 - learning_rate: 0.0010\n",
            "Epoch 22/150\n",
            "\u001b[1m38/38\u001b[0m \u001b[32m━━━━━━━━━━━━━━━━━━━━\u001b[0m\u001b[37m\u001b[0m \u001b[1m0s\u001b[0m 10ms/step - accuracy: 0.8518 - loss: 0.4841 - val_accuracy: 0.8790 - val_loss: 0.4717 - learning_rate: 0.0010\n",
            "Epoch 23/150\n",
            "\u001b[1m38/38\u001b[0m \u001b[32m━━━━━━━━━━━━━━━━━━━━\u001b[0m\u001b[37m\u001b[0m \u001b[1m1s\u001b[0m 11ms/step - accuracy: 0.8550 - loss: 0.4906 - val_accuracy: 0.8773 - val_loss: 0.4749 - learning_rate: 0.0010\n",
            "Epoch 24/150\n",
            "\u001b[1m38/38\u001b[0m \u001b[32m━━━━━━━━━━━━━━━━━━━━\u001b[0m\u001b[37m\u001b[0m \u001b[1m1s\u001b[0m 11ms/step - accuracy: 0.8505 - loss: 0.4953 - val_accuracy: 0.8790 - val_loss: 0.4739 - learning_rate: 0.0010\n",
            "Epoch 25/150\n",
            "\u001b[1m38/38\u001b[0m \u001b[32m━━━━━━━━━━━━━━━━━━━━\u001b[0m\u001b[37m\u001b[0m \u001b[1m0s\u001b[0m 11ms/step - accuracy: 0.8743 - loss: 0.4628 - val_accuracy: 0.8790 - val_loss: 0.4714 - learning_rate: 0.0010\n",
            "Epoch 26/150\n",
            "\u001b[1m38/38\u001b[0m \u001b[32m━━━━━━━━━━━━━━━━━━━━\u001b[0m\u001b[37m\u001b[0m \u001b[1m0s\u001b[0m 10ms/step - accuracy: 0.8585 - loss: 0.4754 - val_accuracy: 0.8790 - val_loss: 0.4689 - learning_rate: 0.0010\n",
            "Epoch 27/150\n",
            "\u001b[1m38/38\u001b[0m \u001b[32m━━━━━━━━━━━━━━━━━━━━\u001b[0m\u001b[37m\u001b[0m \u001b[1m0s\u001b[0m 11ms/step - accuracy: 0.8586 - loss: 0.4698 - val_accuracy: 0.8807 - val_loss: 0.4737 - learning_rate: 0.0010\n",
            "Epoch 28/150\n",
            "\u001b[1m38/38\u001b[0m \u001b[32m━━━━━━━━━━━━━━━━━━━━\u001b[0m\u001b[37m\u001b[0m \u001b[1m1s\u001b[0m 10ms/step - accuracy: 0.8541 - loss: 0.4823 - val_accuracy: 0.8790 - val_loss: 0.4718 - learning_rate: 0.0010\n",
            "Epoch 29/150\n",
            "\u001b[1m38/38\u001b[0m \u001b[32m━━━━━━━━━━━━━━━━━━━━\u001b[0m\u001b[37m\u001b[0m \u001b[1m0s\u001b[0m 11ms/step - accuracy: 0.8630 - loss: 0.4784 - val_accuracy: 0.8824 - val_loss: 0.4701 - learning_rate: 0.0010\n",
            "Epoch 30/150\n",
            "\u001b[1m38/38\u001b[0m \u001b[32m━━━━━━━━━━━━━━━━━━━━\u001b[0m\u001b[37m\u001b[0m \u001b[1m1s\u001b[0m 11ms/step - accuracy: 0.8643 - loss: 0.4538 - val_accuracy: 0.8857 - val_loss: 0.4756 - learning_rate: 0.0010\n",
            "Epoch 31/150\n",
            "\u001b[1m38/38\u001b[0m \u001b[32m━━━━━━━━━━━━━━━━━━━━\u001b[0m\u001b[37m\u001b[0m \u001b[1m0s\u001b[0m 9ms/step - accuracy: 0.8599 - loss: 0.4569\n",
            "Epoch 31: ReduceLROnPlateau reducing learning rate to 0.00020000000949949026.\n",
            "\u001b[1m38/38\u001b[0m \u001b[32m━━━━━━━━━━━━━━━━━━━━\u001b[0m\u001b[37m\u001b[0m \u001b[1m1s\u001b[0m 12ms/step - accuracy: 0.8599 - loss: 0.4570 - val_accuracy: 0.8790 - val_loss: 0.4759 - learning_rate: 0.0010\n",
            "Epoch 32/150\n",
            "\u001b[1m38/38\u001b[0m \u001b[32m━━━━━━━━━━━━━━━━━━━━\u001b[0m\u001b[37m\u001b[0m \u001b[1m0s\u001b[0m 10ms/step - accuracy: 0.8716 - loss: 0.4438 - val_accuracy: 0.8773 - val_loss: 0.4738 - learning_rate: 2.0000e-04\n",
            "Epoch 33/150\n",
            "\u001b[1m38/38\u001b[0m \u001b[32m━━━━━━━━━━━━━━━━━━━━\u001b[0m\u001b[37m\u001b[0m \u001b[1m0s\u001b[0m 12ms/step - accuracy: 0.8540 - loss: 0.4785 - val_accuracy: 0.8824 - val_loss: 0.4722 - learning_rate: 2.0000e-04\n",
            "Epoch 34/150\n",
            "\u001b[1m38/38\u001b[0m \u001b[32m━━━━━━━━━━━━━━━━━━━━\u001b[0m\u001b[37m\u001b[0m \u001b[1m1s\u001b[0m 10ms/step - accuracy: 0.8704 - loss: 0.4529 - val_accuracy: 0.8824 - val_loss: 0.4714 - learning_rate: 2.0000e-04\n",
            "Epoch 35/150\n",
            "\u001b[1m38/38\u001b[0m \u001b[32m━━━━━━━━━━━━━━━━━━━━\u001b[0m\u001b[37m\u001b[0m \u001b[1m1s\u001b[0m 11ms/step - accuracy: 0.8632 - loss: 0.4564 - val_accuracy: 0.8824 - val_loss: 0.4714 - learning_rate: 2.0000e-04\n",
            "Epoch 36/150\n",
            "\u001b[1m37/38\u001b[0m \u001b[32m━━━━━━━━━━━━━━━━━━━\u001b[0m\u001b[37m━\u001b[0m \u001b[1m0s\u001b[0m 15ms/step - accuracy: 0.8626 - loss: 0.4481\n",
            "Epoch 36: ReduceLROnPlateau reducing learning rate to 4.0000001899898055e-05.\n",
            "\u001b[1m38/38\u001b[0m \u001b[32m━━━━━━━━━━━━━━━━━━━━\u001b[0m\u001b[37m\u001b[0m \u001b[1m1s\u001b[0m 19ms/step - accuracy: 0.8625 - loss: 0.4480 - val_accuracy: 0.8824 - val_loss: 0.4703 - learning_rate: 2.0000e-04\n",
            "Epoch 37/150\n",
            "\u001b[1m38/38\u001b[0m \u001b[32m━━━━━━━━━━━━━━━━━━━━\u001b[0m\u001b[37m\u001b[0m \u001b[1m1s\u001b[0m 18ms/step - accuracy: 0.8610 - loss: 0.4523 - val_accuracy: 0.8824 - val_loss: 0.4704 - learning_rate: 4.0000e-05\n",
            "Epoch 38/150\n",
            "\u001b[1m38/38\u001b[0m \u001b[32m━━━━━━━━━━━━━━━━━━━━\u001b[0m\u001b[37m\u001b[0m \u001b[1m1s\u001b[0m 18ms/step - accuracy: 0.8728 - loss: 0.4502 - val_accuracy: 0.8824 - val_loss: 0.4704 - learning_rate: 4.0000e-05\n",
            "Epoch 39/150\n",
            "\u001b[1m38/38\u001b[0m \u001b[32m━━━━━━━━━━━━━━━━━━━━\u001b[0m\u001b[37m\u001b[0m \u001b[1m1s\u001b[0m 18ms/step - accuracy: 0.8692 - loss: 0.4479 - val_accuracy: 0.8824 - val_loss: 0.4705 - learning_rate: 4.0000e-05\n",
            "Epoch 40/150\n",
            "\u001b[1m38/38\u001b[0m \u001b[32m━━━━━━━━━━━━━━━━━━━━\u001b[0m\u001b[37m\u001b[0m \u001b[1m1s\u001b[0m 19ms/step - accuracy: 0.8622 - loss: 0.4519 - val_accuracy: 0.8824 - val_loss: 0.4705 - learning_rate: 4.0000e-05\n",
            "Epoch 41/150\n",
            "\u001b[1m37/38\u001b[0m \u001b[32m━━━━━━━━━━━━━━━━━━━\u001b[0m\u001b[37m━\u001b[0m \u001b[1m0s\u001b[0m 11ms/step - accuracy: 0.8730 - loss: 0.4404\n",
            "Epoch 41: ReduceLROnPlateau reducing learning rate to 8.000000525498762e-06.\n",
            "\u001b[1m38/38\u001b[0m \u001b[32m━━━━━━━━━━━━━━━━━━━━\u001b[0m\u001b[37m\u001b[0m \u001b[1m1s\u001b[0m 13ms/step - accuracy: 0.8727 - loss: 0.4409 - val_accuracy: 0.8824 - val_loss: 0.4705 - learning_rate: 4.0000e-05\n",
            "Epoch 41: early stopping\n",
            "Restoring model weights from the end of the best epoch: 26.\n",
            "Fold 3 Validation Accuracy: 0.8790\n",
            "\u001b[1m40/40\u001b[0m \u001b[32m━━━━━━━━━━━━━━━━━━━━\u001b[0m\u001b[37m\u001b[0m \u001b[1m0s\u001b[0m 6ms/step\n",
            "\n",
            "Training Fold 4\n",
            "Epoch 1/150\n",
            "\u001b[1m38/38\u001b[0m \u001b[32m━━━━━━━━━━━━━━━━━━━━\u001b[0m\u001b[37m\u001b[0m \u001b[1m6s\u001b[0m 21ms/step - accuracy: 0.4970 - loss: 0.9858 - val_accuracy: 0.8588 - val_loss: 0.6806 - learning_rate: 0.0010\n",
            "Epoch 2/150\n",
            "\u001b[1m38/38\u001b[0m \u001b[32m━━━━━━━━━━━━━━━━━━━━\u001b[0m\u001b[37m\u001b[0m \u001b[1m1s\u001b[0m 11ms/step - accuracy: 0.6164 - loss: 0.7964 - val_accuracy: 0.8588 - val_loss: 0.6119 - learning_rate: 0.0010\n",
            "Epoch 3/150\n",
            "\u001b[1m38/38\u001b[0m \u001b[32m━━━━━━━━━━━━━━━━━━━━\u001b[0m\u001b[37m\u001b[0m \u001b[1m1s\u001b[0m 11ms/step - accuracy: 0.7104 - loss: 0.6997 - val_accuracy: 0.8588 - val_loss: 0.5624 - learning_rate: 0.0010\n",
            "Epoch 4/150\n",
            "\u001b[1m38/38\u001b[0m \u001b[32m━━━━━━━━━━━━━━━━━━━━\u001b[0m\u001b[37m\u001b[0m \u001b[1m0s\u001b[0m 10ms/step - accuracy: 0.7790 - loss: 0.6373 - val_accuracy: 0.8588 - val_loss: 0.5349 - learning_rate: 0.0010\n",
            "Epoch 5/150\n",
            "\u001b[1m38/38\u001b[0m \u001b[32m━━━━━━━━━━━━━━━━━━━━\u001b[0m\u001b[37m\u001b[0m \u001b[1m1s\u001b[0m 11ms/step - accuracy: 0.8245 - loss: 0.5919 - val_accuracy: 0.8588 - val_loss: 0.5261 - learning_rate: 0.0010\n",
            "Epoch 6/150\n",
            "\u001b[1m38/38\u001b[0m \u001b[32m━━━━━━━━━━━━━━━━━━━━\u001b[0m\u001b[37m\u001b[0m \u001b[1m1s\u001b[0m 21ms/step - accuracy: 0.8279 - loss: 0.5611 - val_accuracy: 0.8605 - val_loss: 0.5097 - learning_rate: 0.0010\n",
            "Epoch 7/150\n",
            "\u001b[1m38/38\u001b[0m \u001b[32m━━━━━━━━━━━━━━━━━━━━\u001b[0m\u001b[37m\u001b[0m \u001b[1m1s\u001b[0m 19ms/step - accuracy: 0.8326 - loss: 0.5427 - val_accuracy: 0.8571 - val_loss: 0.5079 - learning_rate: 0.0010\n",
            "Epoch 8/150\n",
            "\u001b[1m38/38\u001b[0m \u001b[32m━━━━━━━━━━━━━━━━━━━━\u001b[0m\u001b[37m\u001b[0m \u001b[1m1s\u001b[0m 18ms/step - accuracy: 0.8524 - loss: 0.5296 - val_accuracy: 0.8622 - val_loss: 0.5032 - learning_rate: 0.0010\n",
            "Epoch 9/150\n",
            "\u001b[1m38/38\u001b[0m \u001b[32m━━━━━━━━━━━━━━━━━━━━\u001b[0m\u001b[37m\u001b[0m \u001b[1m1s\u001b[0m 20ms/step - accuracy: 0.8524 - loss: 0.5256 - val_accuracy: 0.8571 - val_loss: 0.5047 - learning_rate: 0.0010\n",
            "Epoch 10/150\n",
            "\u001b[1m38/38\u001b[0m \u001b[32m━━━━━━━━━━━━━━━━━━━━\u001b[0m\u001b[37m\u001b[0m \u001b[1m1s\u001b[0m 10ms/step - accuracy: 0.8527 - loss: 0.5097 - val_accuracy: 0.8588 - val_loss: 0.5075 - learning_rate: 0.0010\n",
            "Epoch 11/150\n",
            "\u001b[1m38/38\u001b[0m \u001b[32m━━━━━━━━━━━━━━━━━━━━\u001b[0m\u001b[37m\u001b[0m \u001b[1m1s\u001b[0m 11ms/step - accuracy: 0.8594 - loss: 0.4983 - val_accuracy: 0.8588 - val_loss: 0.5026 - learning_rate: 0.0010\n",
            "Epoch 12/150\n",
            "\u001b[1m38/38\u001b[0m \u001b[32m━━━━━━━━━━━━━━━━━━━━\u001b[0m\u001b[37m\u001b[0m \u001b[1m0s\u001b[0m 10ms/step - accuracy: 0.8518 - loss: 0.5278 - val_accuracy: 0.8622 - val_loss: 0.5032 - learning_rate: 0.0010\n",
            "Epoch 13/150\n",
            "\u001b[1m38/38\u001b[0m \u001b[32m━━━━━━━━━━━━━━━━━━━━\u001b[0m\u001b[37m\u001b[0m \u001b[1m1s\u001b[0m 11ms/step - accuracy: 0.8559 - loss: 0.5016 - val_accuracy: 0.8605 - val_loss: 0.5009 - learning_rate: 0.0010\n",
            "Epoch 14/150\n",
            "\u001b[1m38/38\u001b[0m \u001b[32m━━━━━━━━━━━━━━━━━━━━\u001b[0m\u001b[37m\u001b[0m \u001b[1m1s\u001b[0m 11ms/step - accuracy: 0.8697 - loss: 0.4964 - val_accuracy: 0.8588 - val_loss: 0.5030 - learning_rate: 0.0010\n",
            "Epoch 15/150\n",
            "\u001b[1m38/38\u001b[0m \u001b[32m━━━━━━━━━━━━━━━━━━━━\u001b[0m\u001b[37m\u001b[0m \u001b[1m0s\u001b[0m 10ms/step - accuracy: 0.8441 - loss: 0.5097 - val_accuracy: 0.8571 - val_loss: 0.5015 - learning_rate: 0.0010\n",
            "Epoch 16/150\n",
            "\u001b[1m38/38\u001b[0m \u001b[32m━━━━━━━━━━━━━━━━━━━━\u001b[0m\u001b[37m\u001b[0m \u001b[1m0s\u001b[0m 10ms/step - accuracy: 0.8491 - loss: 0.5116 - val_accuracy: 0.8538 - val_loss: 0.5005 - learning_rate: 0.0010\n",
            "Epoch 17/150\n",
            "\u001b[1m38/38\u001b[0m \u001b[32m━━━━━━━━━━━━━━━━━━━━\u001b[0m\u001b[37m\u001b[0m \u001b[1m1s\u001b[0m 11ms/step - accuracy: 0.8554 - loss: 0.4998 - val_accuracy: 0.8571 - val_loss: 0.4995 - learning_rate: 0.0010\n",
            "Epoch 18/150\n",
            "\u001b[1m38/38\u001b[0m \u001b[32m━━━━━━━━━━━━━━━━━━━━\u001b[0m\u001b[37m\u001b[0m \u001b[1m1s\u001b[0m 11ms/step - accuracy: 0.8614 - loss: 0.4871 - val_accuracy: 0.8588 - val_loss: 0.5004 - learning_rate: 0.0010\n",
            "Epoch 19/150\n",
            "\u001b[1m38/38\u001b[0m \u001b[32m━━━━━━━━━━━━━━━━━━━━\u001b[0m\u001b[37m\u001b[0m \u001b[1m0s\u001b[0m 10ms/step - accuracy: 0.8492 - loss: 0.5120 - val_accuracy: 0.8555 - val_loss: 0.5042 - learning_rate: 0.0010\n",
            "Epoch 20/150\n",
            "\u001b[1m38/38\u001b[0m \u001b[32m━━━━━━━━━━━━━━━━━━━━\u001b[0m\u001b[37m\u001b[0m \u001b[1m1s\u001b[0m 11ms/step - accuracy: 0.8674 - loss: 0.4786 - val_accuracy: 0.8571 - val_loss: 0.4981 - learning_rate: 0.0010\n",
            "Epoch 21/150\n",
            "\u001b[1m38/38\u001b[0m \u001b[32m━━━━━━━━━━━━━━━━━━━━\u001b[0m\u001b[37m\u001b[0m \u001b[1m1s\u001b[0m 10ms/step - accuracy: 0.8588 - loss: 0.4843 - val_accuracy: 0.8504 - val_loss: 0.4983 - learning_rate: 0.0010\n",
            "Epoch 22/150\n",
            "\u001b[1m38/38\u001b[0m \u001b[32m━━━━━━━━━━━━━━━━━━━━\u001b[0m\u001b[37m\u001b[0m \u001b[1m1s\u001b[0m 10ms/step - accuracy: 0.8718 - loss: 0.4715 - val_accuracy: 0.8571 - val_loss: 0.4946 - learning_rate: 0.0010\n",
            "Epoch 23/150\n",
            "\u001b[1m38/38\u001b[0m \u001b[32m━━━━━━━━━━━━━━━━━━━━\u001b[0m\u001b[37m\u001b[0m \u001b[1m1s\u001b[0m 11ms/step - accuracy: 0.8698 - loss: 0.4651 - val_accuracy: 0.8571 - val_loss: 0.4957 - learning_rate: 0.0010\n",
            "Epoch 24/150\n",
            "\u001b[1m38/38\u001b[0m \u001b[32m━━━━━━━━━━━━━━━━━━━━\u001b[0m\u001b[37m\u001b[0m \u001b[1m0s\u001b[0m 10ms/step - accuracy: 0.8556 - loss: 0.4782 - val_accuracy: 0.8555 - val_loss: 0.4982 - learning_rate: 0.0010\n",
            "Epoch 25/150\n",
            "\u001b[1m38/38\u001b[0m \u001b[32m━━━━━━━━━━━━━━━━━━━━\u001b[0m\u001b[37m\u001b[0m \u001b[1m0s\u001b[0m 10ms/step - accuracy: 0.8573 - loss: 0.4973 - val_accuracy: 0.8605 - val_loss: 0.4951 - learning_rate: 0.0010\n",
            "Epoch 26/150\n",
            "\u001b[1m38/38\u001b[0m \u001b[32m━━━━━━━━━━━━━━━━━━━━\u001b[0m\u001b[37m\u001b[0m \u001b[1m1s\u001b[0m 11ms/step - accuracy: 0.8503 - loss: 0.4903 - val_accuracy: 0.8605 - val_loss: 0.4979 - learning_rate: 0.0010\n",
            "Epoch 27/150\n",
            "\u001b[1m35/38\u001b[0m \u001b[32m━━━━━━━━━━━━━━━━━━\u001b[0m\u001b[37m━━\u001b[0m \u001b[1m0s\u001b[0m 8ms/step - accuracy: 0.8530 - loss: 0.4758\n",
            "Epoch 27: ReduceLROnPlateau reducing learning rate to 0.00020000000949949026.\n",
            "\u001b[1m38/38\u001b[0m \u001b[32m━━━━━━━━━━━━━━━━━━━━\u001b[0m\u001b[37m\u001b[0m \u001b[1m1s\u001b[0m 11ms/step - accuracy: 0.8542 - loss: 0.4753 - val_accuracy: 0.8571 - val_loss: 0.4982 - learning_rate: 0.0010\n",
            "Epoch 28/150\n",
            "\u001b[1m38/38\u001b[0m \u001b[32m━━━━━━━━━━━━━━━━━━━━\u001b[0m\u001b[37m\u001b[0m \u001b[1m1s\u001b[0m 18ms/step - accuracy: 0.8732 - loss: 0.4526 - val_accuracy: 0.8571 - val_loss: 0.4990 - learning_rate: 2.0000e-04\n",
            "Epoch 29/150\n",
            "\u001b[1m38/38\u001b[0m \u001b[32m━━━━━━━━━━━━━━━━━━━━\u001b[0m\u001b[37m\u001b[0m \u001b[1m1s\u001b[0m 17ms/step - accuracy: 0.8626 - loss: 0.4741 - val_accuracy: 0.8555 - val_loss: 0.5004 - learning_rate: 2.0000e-04\n",
            "Epoch 30/150\n",
            "\u001b[1m38/38\u001b[0m \u001b[32m━━━━━━━━━━━━━━━━━━━━\u001b[0m\u001b[37m\u001b[0m \u001b[1m1s\u001b[0m 17ms/step - accuracy: 0.8704 - loss: 0.4561 - val_accuracy: 0.8588 - val_loss: 0.5004 - learning_rate: 2.0000e-04\n",
            "Epoch 31/150\n",
            "\u001b[1m38/38\u001b[0m \u001b[32m━━━━━━━━━━━━━━━━━━━━\u001b[0m\u001b[37m\u001b[0m \u001b[1m1s\u001b[0m 19ms/step - accuracy: 0.8677 - loss: 0.4614 - val_accuracy: 0.8622 - val_loss: 0.4997 - learning_rate: 2.0000e-04\n",
            "Epoch 32/150\n",
            "\u001b[1m35/38\u001b[0m \u001b[32m━━━━━━━━━━━━━━━━━━\u001b[0m\u001b[37m━━\u001b[0m \u001b[1m0s\u001b[0m 8ms/step - accuracy: 0.8607 - loss: 0.4677\n",
            "Epoch 32: ReduceLROnPlateau reducing learning rate to 4.0000001899898055e-05.\n",
            "\u001b[1m38/38\u001b[0m \u001b[32m━━━━━━━━━━━━━━━━━━━━\u001b[0m\u001b[37m\u001b[0m \u001b[1m0s\u001b[0m 10ms/step - accuracy: 0.8617 - loss: 0.4656 - val_accuracy: 0.8588 - val_loss: 0.5002 - learning_rate: 2.0000e-04\n",
            "Epoch 33/150\n",
            "\u001b[1m38/38\u001b[0m \u001b[32m━━━━━━━━━━━━━━━━━━━━\u001b[0m\u001b[37m\u001b[0m \u001b[1m1s\u001b[0m 10ms/step - accuracy: 0.8548 - loss: 0.4825 - val_accuracy: 0.8571 - val_loss: 0.5002 - learning_rate: 4.0000e-05\n",
            "Epoch 34/150\n",
            "\u001b[1m38/38\u001b[0m \u001b[32m━━━━━━━━━━━━━━━━━━━━\u001b[0m\u001b[37m\u001b[0m \u001b[1m0s\u001b[0m 11ms/step - accuracy: 0.8583 - loss: 0.4650 - val_accuracy: 0.8555 - val_loss: 0.5006 - learning_rate: 4.0000e-05\n",
            "Epoch 35/150\n",
            "\u001b[1m38/38\u001b[0m \u001b[32m━━━━━━━━━━━━━━━━━━━━\u001b[0m\u001b[37m\u001b[0m \u001b[1m1s\u001b[0m 10ms/step - accuracy: 0.8745 - loss: 0.4533 - val_accuracy: 0.8571 - val_loss: 0.5005 - learning_rate: 4.0000e-05\n",
            "Epoch 36/150\n",
            "\u001b[1m38/38\u001b[0m \u001b[32m━━━━━━━━━━━━━━━━━━━━\u001b[0m\u001b[37m\u001b[0m \u001b[1m0s\u001b[0m 10ms/step - accuracy: 0.8727 - loss: 0.4497 - val_accuracy: 0.8571 - val_loss: 0.5007 - learning_rate: 4.0000e-05\n",
            "Epoch 37/150\n",
            "\u001b[1m35/38\u001b[0m \u001b[32m━━━━━━━━━━━━━━━━━━\u001b[0m\u001b[37m━━\u001b[0m \u001b[1m0s\u001b[0m 8ms/step - accuracy: 0.8707 - loss: 0.4482\n",
            "Epoch 37: ReduceLROnPlateau reducing learning rate to 8.000000525498762e-06.\n",
            "\u001b[1m38/38\u001b[0m \u001b[32m━━━━━━━━━━━━━━━━━━━━\u001b[0m\u001b[37m\u001b[0m \u001b[1m1s\u001b[0m 10ms/step - accuracy: 0.8704 - loss: 0.4491 - val_accuracy: 0.8571 - val_loss: 0.5012 - learning_rate: 4.0000e-05\n",
            "Epoch 37: early stopping\n",
            "Restoring model weights from the end of the best epoch: 22.\n",
            "Fold 4 Validation Accuracy: 0.8571\n",
            "\u001b[1m40/40\u001b[0m \u001b[32m━━━━━━━━━━━━━━━━━━━━\u001b[0m\u001b[37m\u001b[0m \u001b[1m0s\u001b[0m 6ms/step\n",
            "\n",
            "Training Fold 5\n",
            "Epoch 1/150\n",
            "\u001b[1m38/38\u001b[0m \u001b[32m━━━━━━━━━━━━━━━━━━━━\u001b[0m\u001b[37m\u001b[0m \u001b[1m6s\u001b[0m 29ms/step - accuracy: 0.5477 - loss: 1.0059 - val_accuracy: 0.8588 - val_loss: 0.6871 - learning_rate: 0.0010\n",
            "Epoch 2/150\n",
            "\u001b[1m38/38\u001b[0m \u001b[32m━━━━━━━━━━━━━━━━━━━━\u001b[0m\u001b[37m\u001b[0m \u001b[1m1s\u001b[0m 20ms/step - accuracy: 0.6487 - loss: 0.7821 - val_accuracy: 0.8588 - val_loss: 0.6001 - learning_rate: 0.0010\n",
            "Epoch 3/150\n",
            "\u001b[1m38/38\u001b[0m \u001b[32m━━━━━━━━━━━━━━━━━━━━\u001b[0m\u001b[37m\u001b[0m \u001b[1m1s\u001b[0m 21ms/step - accuracy: 0.7355 - loss: 0.6901 - val_accuracy: 0.8588 - val_loss: 0.5736 - learning_rate: 0.0010\n",
            "Epoch 4/150\n",
            "\u001b[1m38/38\u001b[0m \u001b[32m━━━━━━━━━━━━━━━━━━━━\u001b[0m\u001b[37m\u001b[0m \u001b[1m1s\u001b[0m 20ms/step - accuracy: 0.7762 - loss: 0.6228 - val_accuracy: 0.8588 - val_loss: 0.5524 - learning_rate: 0.0010\n",
            "Epoch 5/150\n",
            "\u001b[1m38/38\u001b[0m \u001b[32m━━━━━━━━━━━━━━━━━━━━\u001b[0m\u001b[37m\u001b[0m \u001b[1m1s\u001b[0m 12ms/step - accuracy: 0.8233 - loss: 0.5929 - val_accuracy: 0.8588 - val_loss: 0.5272 - learning_rate: 0.0010\n",
            "Epoch 6/150\n",
            "\u001b[1m38/38\u001b[0m \u001b[32m━━━━━━━━━━━━━━━━━━━━\u001b[0m\u001b[37m\u001b[0m \u001b[1m0s\u001b[0m 10ms/step - accuracy: 0.8236 - loss: 0.5552 - val_accuracy: 0.8672 - val_loss: 0.5182 - learning_rate: 0.0010\n",
            "Epoch 7/150\n",
            "\u001b[1m38/38\u001b[0m \u001b[32m━━━━━━━━━━━━━━━━━━━━\u001b[0m\u001b[37m\u001b[0m \u001b[1m1s\u001b[0m 11ms/step - accuracy: 0.8317 - loss: 0.5666 - val_accuracy: 0.8655 - val_loss: 0.5087 - learning_rate: 0.0010\n",
            "Epoch 8/150\n",
            "\u001b[1m38/38\u001b[0m \u001b[32m━━━━━━━━━━━━━━━━━━━━\u001b[0m\u001b[37m\u001b[0m \u001b[1m0s\u001b[0m 11ms/step - accuracy: 0.8419 - loss: 0.5373 - val_accuracy: 0.8739 - val_loss: 0.5013 - learning_rate: 0.0010\n",
            "Epoch 9/150\n",
            "\u001b[1m38/38\u001b[0m \u001b[32m━━━━━━━━━━━━━━━━━━━━\u001b[0m\u001b[37m\u001b[0m \u001b[1m1s\u001b[0m 13ms/step - accuracy: 0.8509 - loss: 0.5204 - val_accuracy: 0.8739 - val_loss: 0.4985 - learning_rate: 0.0010\n",
            "Epoch 10/150\n",
            "\u001b[1m38/38\u001b[0m \u001b[32m━━━━━━━━━━━━━━━━━━━━\u001b[0m\u001b[37m\u001b[0m \u001b[1m0s\u001b[0m 10ms/step - accuracy: 0.8534 - loss: 0.5288 - val_accuracy: 0.8672 - val_loss: 0.4994 - learning_rate: 0.0010\n",
            "Epoch 11/150\n",
            "\u001b[1m38/38\u001b[0m \u001b[32m━━━━━━━━━━━━━━━━━━━━\u001b[0m\u001b[37m\u001b[0m \u001b[1m1s\u001b[0m 11ms/step - accuracy: 0.8344 - loss: 0.5384 - val_accuracy: 0.8706 - val_loss: 0.5003 - learning_rate: 0.0010\n",
            "Epoch 12/150\n",
            "\u001b[1m38/38\u001b[0m \u001b[32m━━━━━━━━━━━━━━━━━━━━\u001b[0m\u001b[37m\u001b[0m \u001b[1m0s\u001b[0m 10ms/step - accuracy: 0.8558 - loss: 0.5148 - val_accuracy: 0.8672 - val_loss: 0.4935 - learning_rate: 0.0010\n",
            "Epoch 13/150\n",
            "\u001b[1m38/38\u001b[0m \u001b[32m━━━━━━━━━━━━━━━━━━━━\u001b[0m\u001b[37m\u001b[0m \u001b[1m1s\u001b[0m 12ms/step - accuracy: 0.8494 - loss: 0.5137 - val_accuracy: 0.8723 - val_loss: 0.4913 - learning_rate: 0.0010\n",
            "Epoch 14/150\n",
            "\u001b[1m38/38\u001b[0m \u001b[32m━━━━━━━━━━━━━━━━━━━━\u001b[0m\u001b[37m\u001b[0m \u001b[1m0s\u001b[0m 10ms/step - accuracy: 0.8517 - loss: 0.5074 - val_accuracy: 0.8672 - val_loss: 0.4948 - learning_rate: 0.0010\n",
            "Epoch 15/150\n",
            "\u001b[1m38/38\u001b[0m \u001b[32m━━━━━━━━━━━━━━━━━━━━\u001b[0m\u001b[37m\u001b[0m \u001b[1m1s\u001b[0m 11ms/step - accuracy: 0.8567 - loss: 0.4949 - val_accuracy: 0.8672 - val_loss: 0.4939 - learning_rate: 0.0010\n",
            "Epoch 16/150\n",
            "\u001b[1m38/38\u001b[0m \u001b[32m━━━━━━━━━━━━━━━━━━━━\u001b[0m\u001b[37m\u001b[0m \u001b[1m1s\u001b[0m 11ms/step - accuracy: 0.8581 - loss: 0.4925 - val_accuracy: 0.8723 - val_loss: 0.4919 - learning_rate: 0.0010\n",
            "Epoch 17/150\n",
            "\u001b[1m38/38\u001b[0m \u001b[32m━━━━━━━━━━━━━━━━━━━━\u001b[0m\u001b[37m\u001b[0m \u001b[1m1s\u001b[0m 11ms/step - accuracy: 0.8607 - loss: 0.4829 - val_accuracy: 0.8672 - val_loss: 0.4928 - learning_rate: 0.0010\n",
            "Epoch 18/150\n",
            "\u001b[1m35/38\u001b[0m \u001b[32m━━━━━━━━━━━━━━━━━━\u001b[0m\u001b[37m━━\u001b[0m \u001b[1m0s\u001b[0m 8ms/step - accuracy: 0.8592 - loss: 0.4981\n",
            "Epoch 18: ReduceLROnPlateau reducing learning rate to 0.00020000000949949026.\n",
            "\u001b[1m38/38\u001b[0m \u001b[32m━━━━━━━━━━━━━━━━━━━━\u001b[0m\u001b[37m\u001b[0m \u001b[1m0s\u001b[0m 11ms/step - accuracy: 0.8597 - loss: 0.4971 - val_accuracy: 0.8655 - val_loss: 0.4932 - learning_rate: 0.0010\n",
            "Epoch 19/150\n",
            "\u001b[1m38/38\u001b[0m \u001b[32m━━━━━━━━━━━━━━━━━━━━\u001b[0m\u001b[37m\u001b[0m \u001b[1m1s\u001b[0m 11ms/step - accuracy: 0.8588 - loss: 0.4986 - val_accuracy: 0.8672 - val_loss: 0.4930 - learning_rate: 2.0000e-04\n",
            "Epoch 20/150\n",
            "\u001b[1m38/38\u001b[0m \u001b[32m━━━━━━━━━━━━━━━━━━━━\u001b[0m\u001b[37m\u001b[0m \u001b[1m0s\u001b[0m 11ms/step - accuracy: 0.8732 - loss: 0.4665 - val_accuracy: 0.8639 - val_loss: 0.4939 - learning_rate: 2.0000e-04\n",
            "Epoch 21/150\n",
            "\u001b[1m38/38\u001b[0m \u001b[32m━━━━━━━━━━━━━━━━━━━━\u001b[0m\u001b[37m\u001b[0m \u001b[1m0s\u001b[0m 11ms/step - accuracy: 0.8602 - loss: 0.4883 - val_accuracy: 0.8655 - val_loss: 0.4942 - learning_rate: 2.0000e-04\n",
            "Epoch 22/150\n",
            "\u001b[1m38/38\u001b[0m \u001b[32m━━━━━━━━━━━━━━━━━━━━\u001b[0m\u001b[37m\u001b[0m \u001b[1m1s\u001b[0m 12ms/step - accuracy: 0.8492 - loss: 0.5077 - val_accuracy: 0.8689 - val_loss: 0.4931 - learning_rate: 2.0000e-04\n",
            "Epoch 23/150\n",
            "\u001b[1m34/38\u001b[0m \u001b[32m━━━━━━━━━━━━━━━━━\u001b[0m\u001b[37m━━━\u001b[0m \u001b[1m0s\u001b[0m 12ms/step - accuracy: 0.8423 - loss: 0.5042\n",
            "Epoch 23: ReduceLROnPlateau reducing learning rate to 4.0000001899898055e-05.\n",
            "\u001b[1m38/38\u001b[0m \u001b[32m━━━━━━━━━━━━━━━━━━━━\u001b[0m\u001b[37m\u001b[0m \u001b[1m1s\u001b[0m 18ms/step - accuracy: 0.8433 - loss: 0.5035 - val_accuracy: 0.8672 - val_loss: 0.4919 - learning_rate: 2.0000e-04\n",
            "Epoch 24/150\n",
            "\u001b[1m38/38\u001b[0m \u001b[32m━━━━━━━━━━━━━━━━━━━━\u001b[0m\u001b[37m\u001b[0m \u001b[1m1s\u001b[0m 19ms/step - accuracy: 0.8742 - loss: 0.4601 - val_accuracy: 0.8672 - val_loss: 0.4916 - learning_rate: 4.0000e-05\n",
            "Epoch 25/150\n",
            "\u001b[1m38/38\u001b[0m \u001b[32m━━━━━━━━━━━━━━━━━━━━\u001b[0m\u001b[37m\u001b[0m \u001b[1m1s\u001b[0m 19ms/step - accuracy: 0.8561 - loss: 0.5024 - val_accuracy: 0.8672 - val_loss: 0.4919 - learning_rate: 4.0000e-05\n",
            "Epoch 26/150\n",
            "\u001b[1m38/38\u001b[0m \u001b[32m━━━━━━━━━━━━━━━━━━━━\u001b[0m\u001b[37m\u001b[0m \u001b[1m1s\u001b[0m 20ms/step - accuracy: 0.8509 - loss: 0.5009 - val_accuracy: 0.8672 - val_loss: 0.4918 - learning_rate: 4.0000e-05\n",
            "Epoch 27/150\n",
            "\u001b[1m38/38\u001b[0m \u001b[32m━━━━━━━━━━━━━━━━━━━━\u001b[0m\u001b[37m\u001b[0m \u001b[1m1s\u001b[0m 20ms/step - accuracy: 0.8559 - loss: 0.4872 - val_accuracy: 0.8672 - val_loss: 0.4914 - learning_rate: 4.0000e-05\n",
            "Epoch 28/150\n",
            "\u001b[1m33/38\u001b[0m \u001b[32m━━━━━━━━━━━━━━━━━\u001b[0m\u001b[37m━━━\u001b[0m \u001b[1m0s\u001b[0m 8ms/step - accuracy: 0.8584 - loss: 0.4856\n",
            "Epoch 28: ReduceLROnPlateau reducing learning rate to 8.000000525498762e-06.\n",
            "\u001b[1m38/38\u001b[0m \u001b[32m━━━━━━━━━━━━━━━━━━━━\u001b[0m\u001b[37m\u001b[0m \u001b[1m1s\u001b[0m 11ms/step - accuracy: 0.8583 - loss: 0.4862 - val_accuracy: 0.8672 - val_loss: 0.4914 - learning_rate: 4.0000e-05\n",
            "Epoch 28: early stopping\n",
            "Restoring model weights from the end of the best epoch: 13.\n",
            "Fold 5 Validation Accuracy: 0.8723\n",
            "\u001b[1m40/40\u001b[0m \u001b[32m━━━━━━━━━━━━━━━━━━━━\u001b[0m\u001b[37m\u001b[0m \u001b[1m0s\u001b[0m 6ms/step\n",
            "\n",
            "Predictions saved to improved_ann_predictions.csv\n",
            "\n",
            "Cross-validation scores: ['0.8723', '0.8555', '0.8790', '0.8571', '0.8723']\n",
            "Average CV accuracy: 0.8672 (+/- 0.0093)\n",
            "\n",
            "First few rows of predictions:\n",
            "     id  churn\n",
            "0  2976      0\n",
            "1  2977      0\n",
            "2  2978      0\n",
            "3  2979      0\n",
            "4  2980      0\n"
          ]
        }
      ]
    },
    {
      "cell_type": "code",
      "source": [
        "test_df = pd.read_csv('/content/drive/MyDrive/Test_dataset/test.csv')"
      ],
      "metadata": {
        "id": "9RKuP350ThKO"
      },
      "execution_count": null,
      "outputs": []
    },
    {
      "cell_type": "code",
      "source": [
        "# Create the submission DataFrame\n",
        "submission = test_df[['id']].copy()\n",
        "\n",
        "# Assign predicted values to 'churn'\n",
        "submission['churn'] = y_pred_knn\n",
        "\n",
        "# Convert 'churn' column to integer datatype\n",
        "submission['churn'] = submission['churn'].astype(int)\n",
        "\n",
        "# Save the submission to a CSV file\n",
        "submission.to_csv('submissions.csv', index=False)"
      ],
      "metadata": {
        "id": "Amr5LIJ8TCgN"
      },
      "execution_count": null,
      "outputs": []
    },
    {
      "cell_type": "code",
      "source": [
        "# Create the submission DataFrame\n",
        "submission = test_df[['id']].copy()\n",
        "\n",
        "# Assign predicted values to 'churn'\n",
        "submission['churn'] = y_pred_rf\n",
        "\n",
        "# Convert 'churn' column to integer datatype\n",
        "submission['churn'] = submission['churn'].astype(int)\n",
        "\n",
        "# Save the submission to a CSV file\n",
        "submission.to_csv('submissions.csv', index=False)"
      ],
      "metadata": {
        "id": "6Dln3_9FT3DG"
      },
      "execution_count": null,
      "outputs": []
    },
    {
      "cell_type": "code",
      "source": [
        "# Create the submission DataFrame\n",
        "submission = test_df[['id']].copy()\n",
        "\n",
        "# Assign predicted values to 'churn'\n",
        "submission['churn'] = y_pred_hgb\n",
        "\n",
        "# Convert 'churn' column to integer datatype\n",
        "submission['churn'] = submission['churn'].astype(int)\n",
        "\n",
        "# Save the submission to a CSV file\n",
        "submission.to_csv('submissions.csv', index=False)"
      ],
      "metadata": {
        "id": "BCQ_paiRT3xd"
      },
      "execution_count": null,
      "outputs": []
    },
    {
      "cell_type": "code",
      "source": [
        "# Create the submission DataFrame\n",
        "submission = test_df[['id']].copy()\n",
        "\n",
        "# Assign predicted values to 'churn'\n",
        "submission['churn'] = y_pred_xgb\n",
        "\n",
        "# Convert 'churn' column to integer datatype\n",
        "submission['churn'] = submission['churn'].astype(int)\n",
        "\n",
        "# Save the submission to a CSV file\n",
        "submission.to_csv('submissions.csv', index=False)"
      ],
      "metadata": {
        "id": "e5J8LqMPU-V3"
      },
      "execution_count": null,
      "outputs": []
    },
    {
      "cell_type": "code",
      "source": [
        "# Create the submission DataFrame\n",
        "submission = test_df[['id']].copy()\n",
        "\n",
        "# Assign predicted values to 'churn'\n",
        "submission['churn'] = y_pred_dt\n",
        "\n",
        "# Convert 'churn' column to integer datatype\n",
        "submission['churn'] = submission['churn'].astype(int)\n",
        "\n",
        "# Save the submission to a CSV file\n",
        "submission.to_csv('submissions.csv', index=False)"
      ],
      "metadata": {
        "id": "Z1bMUU7_nRwC"
      },
      "execution_count": null,
      "outputs": []
    },
    {
      "cell_type": "code",
      "source": [],
      "metadata": {
        "id": "slnVGOJ9CLhZ"
      },
      "execution_count": null,
      "outputs": []
    }
  ]
}