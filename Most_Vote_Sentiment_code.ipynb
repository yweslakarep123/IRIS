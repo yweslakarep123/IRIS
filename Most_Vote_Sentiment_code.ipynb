{
  "nbformat": 4,
  "nbformat_minor": 0,
  "metadata": {
    "colab": {
      "provenance": []
    },
    "kernelspec": {
      "name": "python3",
      "display_name": "Python 3"
    },
    "language_info": {
      "name": "python"
    }
  },
  "cells": [
    {
      "cell_type": "code",
      "execution_count": 15,
      "metadata": {
        "colab": {
          "base_uri": "https://localhost:8080/"
        },
        "id": "6YX7Kb04A7Jd",
        "outputId": "3342c37e-42ac-4b89-89f7-3876eddf20e4"
      },
      "outputs": [
        {
          "output_type": "stream",
          "name": "stdout",
          "text": [
            "Index(['full_text', 'sentiment'], dtype='object')\n",
            "Index(['id', 'full_text', 'sentiment'], dtype='object')\n",
            "Index(['id,full_text,sentiment'], dtype='object')\n",
            "Final CSV created successfully!\n"
          ]
        }
      ],
      "source": [
        "import pandas as pd\n",
        "\n",
        "# Load the CSV files into DataFrames\n",
        "csv1 = pd.read_csv('/content/indonesiagelap_labelled_Daffa.csv', delimiter=';')  # Replace with your file path (has id, full_text, sentiment)\n",
        "csv2 = pd.read_csv('/content/indonesiagelap_labelled_fahmi.csv', delimiter=';')  # Replace with your file path (has id, full_text, sentiment)\n",
        "csv3 = pd.read_csv('/content/indonesiagelap_unlabelled_Radam.csv', delimiter=';')  # Replace with your file path (has full_text, sentiment)\n",
        "\n",
        "print(csv1.columns)\n",
        "print(csv2.columns)\n",
        "print(csv3.columns)\n",
        "# Remove the 'id' column from csv1 and csv2 as instructed\n",
        "csv2_id = csv2['id']  # Store the 'id' column\n",
        "csv2 = csv2.drop(columns=['id'])  # Remove the 'id' column\n",
        "# csv3 = csv3.drop(columns=['id'])  # Remove the 'id' column # This line is throwing the error!\n",
        "\n",
        "# Instead of dropping, since it is a string, we can split the column into 3 using ',' as a delimiter\n",
        "csv3 = csv3['id,full_text,sentiment'].str.split(',', expand=True)\n",
        "# Assign column names\n",
        "csv3.columns = ['id', 'full_text', 'sentiment']\n",
        "\n",
        "# Now you can drop the 'id' column\n",
        "csv3 = csv3.drop(columns=['id'])\n",
        "\n",
        "\n",
        "# Assuming the first column is 'full_text' and the second column is 'sentiment'\n",
        "sentiment_columns = ['sentiment']\n",
        "\n",
        "# Create a new list to store the final sentiment values\n",
        "final_sentiments = []\n",
        "\n",
        "# Iterate through the rows of the CSVs\n",
        "for i in range(len(csv1)):\n",
        "    sentiments = [csv1.iloc[i]['sentiment'], csv2.iloc[i]['sentiment'], csv3.iloc[i]['sentiment']]\n",
        "\n",
        "    # Count the frequency of each sentiment value\n",
        "    sentiment_counts = {'negatif': sentiments.count('negatif'), 'netral': sentiments.count('netral'), 'positif': sentiments.count('positif')}\n",
        "\n",
        "    # Get the sentiment with the highest vote or '?' if there's a tie\n",
        "    sorted_counts = sorted(sentiment_counts.items(), key=lambda x: x[1], reverse=True)\n",
        "\n",
        "    if sorted_counts[0][1] > sorted_counts[1][1]:\n",
        "        final_sentiments.append(sorted_counts[0][0])  # Take the one with the most votes\n",
        "    else:\n",
        "        final_sentiments.append('?')  # If there's a tie\n",
        "\n",
        "# Create a new DataFrame with the results\n",
        "final_df = pd.DataFrame({\n",
        "    'id': csv2_id,  # Use the stored 'id' column\n",
        "    'full_text': csv1['full_text'],  # Assuming all CSVs have the same text\n",
        "    'final_sentiment': final_sentiments\n",
        "})\n",
        "\n",
        "# Save the result to a new CSV file\n",
        "final_df.to_csv('most_voted_sentiment-v1.csv', index=False)\n",
        "\n",
        "print(\"Final CSV created successfully!\")"
      ]
    },
    {
      "cell_type": "code",
      "source": [
        "# Load the final CSV file\n",
        "final_df = pd.read_csv('/content/most_voted_sentiment-v1.csv')\n",
        "\n",
        "# Analyze the distribution of sentiments in the final output\n",
        "sentiment_analysis = final_df['final_sentiment'].value_counts()\n",
        "\n",
        "print(\"Sentiment Distribution in Final Output:\")\n",
        "print(sentiment_analysis)\n",
        "\n",
        "# Optionally, you can analyze if there were any '?' values (indicating a tie)\n",
        "tie_count = sentiment_analysis.get('?', 0)\n",
        "print(f\"\\nNumber of Tied Rows ('?'): {tie_count}\")\n"
      ],
      "metadata": {
        "colab": {
          "base_uri": "https://localhost:8080/"
        },
        "id": "lSgCgycnEZ87",
        "outputId": "2ff3c726-3de9-498f-baa1-a7a1c119ce96"
      },
      "execution_count": 16,
      "outputs": [
        {
          "output_type": "stream",
          "name": "stdout",
          "text": [
            "Sentiment Distribution in Final Output:\n",
            "final_sentiment\n",
            "negatif    1606\n",
            "netral      281\n",
            "?           158\n",
            "positif     112\n",
            "Name: count, dtype: int64\n",
            "\n",
            "Number of Tied Rows ('?'): 158\n"
          ]
        }
      ]
    },
    {
      "cell_type": "code",
      "source": [],
      "metadata": {
        "id": "bJJjZTtvMgeH"
      },
      "execution_count": null,
      "outputs": []
    }
  ]
}